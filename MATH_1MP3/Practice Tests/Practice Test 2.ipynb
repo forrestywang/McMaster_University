{
 "cells": [
  {
   "cell_type": "markdown",
   "source": [
    "#### This is the list of solutions to problems in MATH 1MP3's practice test 2."
   ],
   "metadata": {
    "collapsed": false
   }
  },
  {
   "cell_type": "markdown",
   "source": [
    "***\n",
    "Import(s):"
   ],
   "metadata": {
    "collapsed": false
   }
  },
  {
   "cell_type": "code",
   "execution_count": 1,
   "outputs": [],
   "source": [
    "# Import(s):\n",
    "import numpy as np"
   ],
   "metadata": {
    "collapsed": false,
    "ExecuteTime": {
     "end_time": "2023-05-19T20:39:52.859962800Z",
     "start_time": "2023-05-19T20:39:52.715900300Z"
    }
   }
  },
  {
   "cell_type": "markdown",
   "source": [
    "***\n",
    "(1a) Make a function that returns an array of the first 50 Fibonacci numbers."
   ],
   "metadata": {
    "collapsed": false
   }
  },
  {
   "cell_type": "code",
   "execution_count": 18,
   "metadata": {
    "collapsed": true
   },
   "outputs": [
    {
     "name": "stdout",
     "output_type": "stream",
     "text": [
      "[1, 1, 2, 3, 5, 8, 13, 21, 34, 55, 89, 144, 233, 377, 610, 987, 1597, 2584, 4181, 6765, 10946, 17711, 28657, 46368, 75025, 121393, 196418, 317811, 514229, 832040, 1346269, 2178309, 3524578, 5702887, 9227465, 14930352, 24157817, 39088169, 63245986, 102334155, 165580141, 267914296, 433494437, 701408733, 1134903170, 1836311903, 2971215073, 4807526976, 7778742049, 12586269025]\n"
     ]
    }
   ],
   "source": [
    "# Function(s):\n",
    "def fifty_fibonacci(F_list):\n",
    "    # Calculations:\n",
    "    while len(F_list) < 50: F_list.append(F_list[-1] + F_list[-2])\n",
    "\n",
    "    # Output:\n",
    "    return F_list\n",
    "\n",
    "# Output:\n",
    "print(fifty_fibonacci([1, 1]))"
   ]
  },
  {
   "cell_type": "markdown",
   "source": [
    "***\n",
    "(1b) Make a function that returns an array of the number of digits in the first 50 Fibonacci numbers."
   ],
   "metadata": {
    "collapsed": false
   }
  },
  {
   "cell_type": "code",
   "execution_count": 19,
   "outputs": [
    {
     "name": "stdout",
     "output_type": "stream",
     "text": [
      "[1, 1, 1, 1, 1, 1, 2, 2, 2, 2, 2, 3, 3, 3, 3, 3, 4, 4, 4, 4, 5, 5, 5, 5, 5, 6, 6, 6, 6, 6, 7, 7, 7, 7, 7, 8, 8, 8, 8, 9, 9, 9, 9, 9, 10, 10, 10, 10, 10, 11, 11]\n"
     ]
    }
   ],
   "source": [
    "# Function(s):\n",
    "def fibonacci_digits(N_digits, f1, f2):\n",
    "    # Calculations:\n",
    "    while len(N_digits) <= 50:\n",
    "        f2 += f1\n",
    "        f1 = f2 - f1\n",
    "\n",
    "        N_digits.append(len(str(f2)))\n",
    "\n",
    "    # Output:\n",
    "    return N_digits\n",
    "\n",
    "# Output:\n",
    "print(fibonacci_digits([1, 1], 1, 1))"
   ],
   "metadata": {
    "collapsed": false
   }
  },
  {
   "cell_type": "markdown",
   "source": [
    "***\n",
    "(2) What will Python print after the first iteration of the while loop? What is the purpose of the last print statement?"
   ],
   "metadata": {
    "collapsed": false
   }
  },
  {
   "cell_type": "code",
   "execution_count": 20,
   "outputs": [
    {
     "name": "stdout",
     "output_type": "stream",
     "text": [
      "0.4\n",
      "0.49729729729729727\n",
      "0.4999979161891267\n",
      "0.4999979161891267\n"
     ]
    }
   ],
   "source": [
    "# Function(s):\n",
    "def f(x):\n",
    "    # Output:\n",
    "    return 2 * x ** 2 - 9 * x + 4\n",
    "\n",
    "def fp(x):\n",
    "    # Output:\n",
    "    return 4 * x - 9\n",
    "\n",
    "# Variable(s):\n",
    "x, tol = 1, 0.0001\n",
    "\n",
    "# Calculations:\n",
    "while np.abs(f(x)) >= tol:\n",
    "    x = x - f(x) / fp(x)  # 1 - (-3) / (-5) = 0.4\n",
    "    print(x)\n",
    "\n",
    "# Output:\n",
    "print(x)  #"
   ],
   "metadata": {
    "collapsed": false
   }
  },
  {
   "cell_type": "markdown",
   "source": [
    "***\n",
    "(3) Make a function named multiply that takes in an array of coefficients corresponding to a polynomial and returns the product of the polynomial and (x + 1)."
   ],
   "metadata": {
    "collapsed": false
   }
  },
  {
   "cell_type": "code",
   "execution_count": 21,
   "outputs": [],
   "source": [
    "# Function(s):\n",
    "def multiply(p):\n",
    "    # Variable(s):\n",
    "    product_1 = p.copy()\n",
    "    product_2 = p.copy()\n",
    "    product_2.insert(0, 0)\n",
    "\n",
    "    # Calculations:\n",
    "    for index in range(len(product_1)):\n",
    "        product_2[index] += product_1[index]\n",
    "\n",
    "    # Output:\n",
    "    return product_2"
   ],
   "metadata": {
    "collapsed": false
   }
  },
  {
   "cell_type": "markdown",
   "source": [
    "***\n",
    "(4a) What will Python print after the method is run?"
   ],
   "metadata": {
    "collapsed": false
   }
  },
  {
   "cell_type": "code",
   "execution_count": 22,
   "outputs": [
    {
     "data": {
      "text/plain": "'cloudloouuudddd'"
     },
     "execution_count": 22,
     "metadata": {},
     "output_type": "execute_result"
    }
   ],
   "source": [
    "# Function(s):\n",
    "def echo_1(s):\n",
    "    # Logic:\n",
    "    for i in range(len(s)):\n",
    "        s += s[i] * i\n",
    "\n",
    "    # Output:\n",
    "    return s\n",
    "\n",
    "echo_1(\"cloud\")  # cloudloouuudddd"
   ],
   "metadata": {
    "collapsed": false
   }
  },
  {
   "cell_type": "markdown",
   "source": [
    "***\n",
    "(4b) Make a function that takes in a string as a parameter and returns a new string such that each character in the original string is repeated index times."
   ],
   "metadata": {
    "collapsed": false
   }
  },
  {
   "cell_type": "code",
   "execution_count": 23,
   "outputs": [
    {
     "data": {
      "text/plain": "'cllooouuuuddddd'"
     },
     "execution_count": 23,
     "metadata": {},
     "output_type": "execute_result"
    }
   ],
   "source": [
    "# Function(s):\n",
    "def echo_2(s):\n",
    "    # Variable(s):\n",
    "    new_str = \"\"\n",
    "\n",
    "    # Logic:\n",
    "    for i in range(1, len(s) + 1):\n",
    "        new_str += s[i - 1] * i\n",
    "\n",
    "    # Output:\n",
    "    return new_str\n",
    "\n",
    "echo_2(\"cloud\")  # cllooouuuuddddd"
   ],
   "metadata": {
    "collapsed": false
   }
  },
  {
   "cell_type": "markdown",
   "source": [
    "***\n",
    "(5a) What will Python print on line 5?"
   ],
   "metadata": {
    "collapsed": false
   }
  },
  {
   "cell_type": "code",
   "execution_count": 24,
   "outputs": [
    {
     "name": "stdout",
     "output_type": "stream",
     "text": [
      "[[0, 0, 0, 0], [0, 0, 0, 0], [0, 0, 0, 0], [0, 0, 0, 0]]\n"
     ]
    }
   ],
   "source": [
    "# Function(s):\n",
    "def mystery(n):\n",
    "    # Calculations:\n",
    "    m = [[0] * n for k in range(n)]\n",
    "\n",
    "    # Output:\n",
    "    return m\n",
    "\n",
    "# Output:\n",
    "print(mystery(4))  # [[0000], [0000], [0000], [0000]]"
   ],
   "metadata": {
    "collapsed": false
   }
  },
  {
   "cell_type": "markdown",
   "source": [
    "***\n",
    "(5b) Make a function that takes in a natural number as a parameter and returns the nxn identity matrix as a 2D array."
   ],
   "metadata": {
    "collapsed": false
   }
  },
  {
   "cell_type": "code",
   "execution_count": 25,
   "outputs": [],
   "source": [
    "# Function(s):\n",
    "def identity(n):\n",
    "    # Variable(s):\n",
    "    identity = []\n",
    "\n",
    "    # Calculations:\n",
    "    for row_num in range(n):\n",
    "        row = []\n",
    "\n",
    "        for col_num in range(n):\n",
    "            if row_num == col_num: row.append(1)\n",
    "\n",
    "            else: row.append(0)\n",
    "\n",
    "        identity.append(row)\n",
    "\n",
    "    # Output:\n",
    "    return identity"
   ],
   "metadata": {
    "collapsed": false
   }
  }
 ],
 "metadata": {
  "kernelspec": {
   "display_name": "Python 3",
   "language": "python",
   "name": "python3"
  },
  "language_info": {
   "codemirror_mode": {
    "name": "ipython",
    "version": 2
   },
   "file_extension": ".py",
   "mimetype": "text/x-python",
   "name": "python",
   "nbconvert_exporter": "python",
   "pygments_lexer": "ipython2",
   "version": "2.7.6"
  }
 },
 "nbformat": 4,
 "nbformat_minor": 0
}
