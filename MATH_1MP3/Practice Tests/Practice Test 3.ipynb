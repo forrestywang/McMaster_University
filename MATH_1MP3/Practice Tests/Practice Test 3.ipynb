{
 "cells": [
  {
   "cell_type": "markdown",
   "source": [
    "#### This is the list of solutions to problems in MATH 1MP3's practice test 3."
   ],
   "metadata": {
    "collapsed": false
   }
  },
  {
   "cell_type": "markdown",
   "source": [
    "***\n",
    "(1) What will Python print?"
   ],
   "metadata": {
    "collapsed": false
   }
  },
  {
   "cell_type": "code",
   "execution_count": 23,
   "metadata": {
    "collapsed": true
   },
   "outputs": [
    {
     "name": "stdout",
     "output_type": "stream",
     "text": [
      "8\n"
     ]
    }
   ],
   "source": [
    "# Variable(s):\n",
    "S = {1: 300, 2: 125, 3: 8, 4: 12, 5: 147}\n",
    "\n",
    "# Output:\n",
    "print(S[3])  # 8"
   ]
  },
  {
   "cell_type": "markdown",
   "source": [
    "***\n",
    "(2) What will Python print?"
   ],
   "metadata": {
    "collapsed": false
   }
  },
  {
   "cell_type": "code",
   "execution_count": 24,
   "outputs": [
    {
     "ename": "TypeError",
     "evalue": "'set' object is not subscriptable",
     "output_type": "error",
     "traceback": [
      "\u001B[1;31m---------------------------------------------------------------------------\u001B[0m",
      "\u001B[1;31mTypeError\u001B[0m                                 Traceback (most recent call last)",
      "Cell \u001B[1;32mIn[24], line 5\u001B[0m\n\u001B[0;32m      2\u001B[0m S \u001B[38;5;241m=\u001B[39m {\u001B[38;5;241m3\u001B[39m, \u001B[38;5;241m4\u001B[39m, \u001B[38;5;241m5\u001B[39m, \u001B[38;5;241m6\u001B[39m, \u001B[38;5;241m7\u001B[39m, \u001B[38;5;241m8\u001B[39m, \u001B[38;5;241m9\u001B[39m}\n\u001B[0;32m      4\u001B[0m \u001B[38;5;66;03m# Output:\u001B[39;00m\n\u001B[1;32m----> 5\u001B[0m \u001B[38;5;28mprint\u001B[39m(\u001B[43mS\u001B[49m\u001B[43m[\u001B[49m\u001B[38;5;241;43m3\u001B[39;49m\u001B[43m]\u001B[49m)  \u001B[38;5;66;03m# Error because S[3] is not defined\u001B[39;00m\n",
      "\u001B[1;31mTypeError\u001B[0m: 'set' object is not subscriptable"
     ]
    }
   ],
   "source": [
    "# Variable(s):\n",
    "S = {3, 4, 5, 6, 7, 8, 9}\n",
    "\n",
    "# Output:\n",
    "print(S[3])  # Error because S[3] is not defined"
   ],
   "metadata": {
    "collapsed": false
   }
  },
  {
   "cell_type": "markdown",
   "source": [
    "***\n",
    "(3) What will Python print?"
   ],
   "metadata": {
    "collapsed": false
   }
  },
  {
   "cell_type": "code",
   "execution_count": null,
   "outputs": [],
   "source": [
    "# Function(s):\n",
    "def h(x, max_steps=4):\n",
    "    # Variable(s):\n",
    "    sum = 0\n",
    "\n",
    "    # Calculations:\n",
    "    for i in range(max_steps):\n",
    "        sum += x ** (2 * i + 1)\n",
    "\n",
    "        # Output:\n",
    "        return sum\n",
    "\n",
    "# Output:\n",
    "h(2, 3)  # 2"
   ],
   "metadata": {
    "collapsed": false
   }
  },
  {
   "cell_type": "markdown",
   "source": [
    "***\n",
    "(4) What does Python print?"
   ],
   "metadata": {
    "collapsed": false
   }
  },
  {
   "cell_type": "code",
   "execution_count": null,
   "outputs": [],
   "source": [
    "# Variable(s):\n",
    "A = set(\"monday\")\n",
    "B = set(\"wednesday\")\n",
    "S = set()\n",
    "\n",
    "# Logic:\n",
    "for element in A:\n",
    "    if element not in B:\n",
    "        S.add(element)\n",
    "\n",
    "# Output:\n",
    "print(S)  # {'m', 'o'}"
   ],
   "metadata": {
    "collapsed": false
   }
  },
  {
   "cell_type": "markdown",
   "source": [
    "***\n",
    "(5) What does Python print?"
   ],
   "metadata": {
    "collapsed": false
   }
  },
  {
   "cell_type": "code",
   "execution_count": null,
   "outputs": [],
   "source": [
    "# Variable(s):\n",
    "d = {\"milk\": 60, \"fruit\": 3600, \"chocolate\": 1, \"bread\": 54}\n",
    "\n",
    "# Function(s):\n",
    "def f(m, s, t):\n",
    "    return m * d[t] / d[s]\n",
    "\n",
    "# Output:\n",
    "print(f(12, \"milk\", \"bread\"))  # 10.8"
   ],
   "metadata": {
    "collapsed": false
   }
  },
  {
   "cell_type": "markdown",
   "source": [
    "***\n",
    "(6) What does Python print?"
   ],
   "metadata": {
    "collapsed": false
   }
  },
  {
   "cell_type": "code",
   "execution_count": null,
   "outputs": [],
   "source": [
    "# Variable(s):\n",
    "d = {1: \"January\", 2: \"February\", 3: \"March\", 4: \"April\", 5: \"May\"}\n",
    "\n",
    "# Output:\n",
    "print(\"March\" in d)  # False"
   ],
   "metadata": {
    "collapsed": false
   }
  },
  {
   "cell_type": "markdown",
   "source": [
    "***\n",
    "(7) The following block of code is supposed to count the frequency of each digit in the string called pi. What command should be used in line 7?"
   ],
   "metadata": {
    "collapsed": false
   }
  },
  {
   "cell_type": "code",
   "execution_count": null,
   "outputs": [],
   "source": [
    "# Variable(s):\n",
    "pi = \"1415926535897932384626433832795028841971693993\"\n",
    "L = [0] * 10\n",
    "\n",
    "# Logic:\n",
    "for num in pi:\n",
    "    L[int(num)] += 1\n",
    "\n",
    "# Output:\n",
    "print(L)"
   ],
   "metadata": {
    "collapsed": false
   }
  },
  {
   "cell_type": "markdown",
   "source": [
    "***\n",
    "(8) The following block of code is supposed to make a dictionary where the keys are the number of calories per 100g, and the values are the names of the corresponding fruit. What command should be used in line ?"
   ],
   "metadata": {
    "collapsed": false
   }
  },
  {
   "cell_type": "code",
   "execution_count": null,
   "outputs": [],
   "source": [
    "# Variable(s):\n",
    "food = [\"apple\", \"banana\", \"orange\", \"lettuce\", \"avocado\"]\n",
    "calories_per_100g = [52, 89, 47, 15, 160, 67]\n",
    "cal_food = {}\n",
    "\n",
    "# Logic:\n",
    "for i in range(len(food)):\n",
    "    cal_food[calories_per_100g[i]] = food[i]\n",
    "\n",
    "# Output:\n",
    "print(cal_food)"
   ],
   "metadata": {
    "collapsed": false
   }
  },
  {
   "cell_type": "markdown",
   "source": [
    "***\n",
    "(9) Make a function that takes in two lists of equal length L1 and L2 as parameters, and returns L_max and L_min such that\n",
    "L_max[i] = max{L1[i], L2[i]}\n",
    "L_min[i] = min{L1[i], L2[i]}"
   ],
   "metadata": {
    "collapsed": false
   }
  },
  {
   "cell_type": "code",
   "execution_count": null,
   "outputs": [],
   "source": [
    "# Function(s):\n",
    "def max_and_min_arrays(L1, L2):\n",
    "    # Variable(s):\n",
    "    L_max, L_min = [], []\n",
    "\n",
    "    # Logic:\n",
    "    for i in range(len(L1)):\n",
    "        if L1[i] > L2[i]:\n",
    "            L_max.append(L1[i])\n",
    "            L_min.append(L2[i])\n",
    "\n",
    "        else:\n",
    "            L_max.append(L2[i])\n",
    "            L_min.append(L1[i])\n",
    "\n",
    "    # Output:\n",
    "    return [L_max, L_min]"
   ],
   "metadata": {
    "collapsed": false
   }
  },
  {
   "cell_type": "markdown",
   "source": [
    "***\n",
    "(10) Make a function that takes in two dictionaries as parameters, and returns a new dictionary according to the following rule:\n",
    "a:b in d1 ∧ b:c in d2 ⇒ a:c in d3\n",
    "a:b in d1 ∧ b:c not in d2 ⇒ a:\"no match\" in d3"
   ],
   "metadata": {
    "collapsed": false
   }
  },
  {
   "cell_type": "code",
   "execution_count": null,
   "outputs": [],
   "source": [
    "# Function(s):\n",
    "def transitive_dictionary(d1, d2):\n",
    "    # Variable(s):\n",
    "    d3 = {}\n",
    "\n",
    "    # Logic:\n",
    "    for key_1, value_1 in d1.items():\n",
    "        if value_1 in d2:\n",
    "            d3[key_1] = d2[value_1]\n",
    "\n",
    "        else:\n",
    "            d3[key_1] = \"no match\"\n",
    "\n",
    "    # Output:\n",
    "    return d3"
   ],
   "metadata": {
    "collapsed": false
   }
  }
 ],
 "metadata": {
  "kernelspec": {
   "display_name": "Python 3",
   "language": "python",
   "name": "python3"
  },
  "language_info": {
   "codemirror_mode": {
    "name": "ipython",
    "version": 2
   },
   "file_extension": ".py",
   "mimetype": "text/x-python",
   "name": "python",
   "nbconvert_exporter": "python",
   "pygments_lexer": "ipython2",
   "version": "2.7.6"
  }
 },
 "nbformat": 4,
 "nbformat_minor": 0
}
