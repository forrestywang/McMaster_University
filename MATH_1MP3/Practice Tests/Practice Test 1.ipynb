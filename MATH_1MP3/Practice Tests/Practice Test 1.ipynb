{
 "cells": [
  {
   "cell_type": "markdown",
   "source": [
    "#### This is the list of solutions to problems in MATH 1MP3's practice test 1."
   ],
   "metadata": {
    "collapsed": false
   }
  },
  {
   "cell_type": "markdown",
   "source": [
    "***\n",
    "(1a) Make a function that takes an array of all the words in the English language in lowercase and prints all 7-letter words that end on ing."
   ],
   "metadata": {
    "collapsed": false
   }
  },
  {
   "cell_type": "code",
   "execution_count": 7,
   "metadata": {
    "collapsed": true
   },
   "outputs": [
    {
     "name": "stdout",
     "output_type": "stream",
     "text": [
      "asf\n",
      "und\n",
      "ing\n",
      "washing\n",
      "ing\n",
      "texting\n"
     ]
    }
   ],
   "source": [
    "# Function(s):\n",
    "def ends_in(W):\n",
    "    # Logic:\n",
    "    for word in W:\n",
    "        # Output:\n",
    "        if len(word) == 7 and word[-3:] == \"ing\": print(word)"
   ]
  },
  {
   "cell_type": "markdown",
   "source": [
    "***\n",
    "(1b) Make a function that takes in an array of all the words in the English language in lowercase and prints all the palindromes."
   ],
   "metadata": {
    "collapsed": false
   }
  },
  {
   "cell_type": "code",
   "execution_count": 8,
   "outputs": [
    {
     "name": "stdout",
     "output_type": "stream",
     "text": [
      "willow\n",
      "pop\n"
     ]
    }
   ],
   "source": [
    "# Function(s):\n",
    "def palindromes(W):\n",
    "    # Logic:\n",
    "    for word in W:\n",
    "        # Output:\n",
    "        if word[0] == word[-1]: print(word)"
   ],
   "metadata": {
    "collapsed": false
   }
  },
  {
   "cell_type": "markdown",
   "source": [
    "***\n",
    "(2) Make a function that takes in an hour in 24-hour time, a boolean variable if it is a weekday, and another boolean variable if it is a holiday as parameters. Based on the coffee shop's hours, determine if it is open."
   ],
   "metadata": {
    "collapsed": false
   }
  },
  {
   "cell_type": "code",
   "execution_count": 9,
   "outputs": [
    {
     "name": "stdout",
     "output_type": "stream",
     "text": [
      "False\n"
     ]
    }
   ],
   "source": [
    "# On weekdays, the coffee shop is open from 8:00 to 22:00\n",
    "# On weekends, the coffee shop is open from 10:00 to 23:00\n",
    "# On holidays, the coffee shop is closed\n",
    "\n",
    "# Function(s):\n",
    "def coffee_open(hour, is_weekday, is_holiday):\n",
    "    # Logic:\n",
    "    if is_holiday == False and ((is_weekday and 8 <= hour <= 22) or (is_weekday == False and 10 <= hour <= 23)): return True\n",
    "\n",
    "    else: return False"
   ],
   "metadata": {
    "collapsed": false
   }
  },
  {
   "cell_type": "markdown",
   "source": [
    "***\n",
    "(3a) How many times is the for loop executed?\n",
    "(3b) What is the value of id in line 7 after the second iteration\n",
    "(3c) What will the command in line 11 print?"
   ],
   "metadata": {
    "collapsed": false
   }
  },
  {
   "cell_type": "code",
   "execution_count": 10,
   "outputs": [
    {
     "name": "stdout",
     "output_type": "stream",
     "text": [
      "['1', '9', '6']\n"
     ]
    }
   ],
   "source": [
    "# Variable(s):\n",
    "id = \"411234196\"\n",
    "\n",
    "# Function(s):\n",
    "def mystery(id):\n",
    "    # Variable(s):\n",
    "    w = []\n",
    "\n",
    "    # Calculations:\n",
    "    for i in range(3):  # Executed 3 times\n",
    "        w.append(id[-1])\n",
    "        id = id[:len(id) - 1]  # id = \"41123441\" after the second iteration\n",
    "\n",
    "    z = w[::-1]\n",
    "\n",
    "    # Output:\n",
    "    return z\n",
    "\n",
    "print(mystery(id))  # [\"1\", \"9\", \"6\"]"
   ],
   "metadata": {
    "collapsed": false
   }
  },
  {
   "cell_type": "markdown",
   "source": [
    "***\n",
    "(4) Make a function that takes in a string as a parameter and returns the number of consecutive double letters in it."
   ],
   "metadata": {
    "collapsed": false
   }
  },
  {
   "cell_type": "code",
   "execution_count": 1,
   "outputs": [
    {
     "name": "stdout",
     "output_type": "stream",
     "text": [
      "2\n"
     ]
    }
   ],
   "source": [
    "# Function(s):\n",
    "def count_double_letter(word):\n",
    "    # Variable(s):\n",
    "    count = 0\n",
    "\n",
    "    # Calculations:\n",
    "    for i in range(len(word) - 1):\n",
    "        if word[i] == word[i + 1]: count += 1\n",
    "\n",
    "    # Output:\n",
    "    return count"
   ],
   "metadata": {
    "collapsed": false
   }
  },
  {
   "cell_type": "markdown",
   "source": [
    "***\n",
    "(5) Make a function that takes in a 3x3 matrix as a parameter and returns the largest entry and the number of occurrences."
   ],
   "metadata": {
    "collapsed": false
   }
  },
  {
   "cell_type": "code",
   "execution_count": 1,
   "outputs": [
    {
     "data": {
      "text/plain": "[5, 4]"
     },
     "execution_count": 1,
     "metadata": {},
     "output_type": "execute_result"
    }
   ],
   "source": [
    "# Function(s):\n",
    "def max_entry(A):\n",
    "    # Variable(s):\n",
    "    max = A[0][0]\n",
    "    count = 1\n",
    "\n",
    "    # Logic:\n",
    "    for row in A:\n",
    "        for entry in row:\n",
    "            if entry > max:\n",
    "                max = entry\n",
    "                count = 1\n",
    "\n",
    "            elif entry == max: count += 1\n",
    "\n",
    "    # Output:\n",
    "    return [max, count]"
   ],
   "metadata": {
    "collapsed": false
   }
  }
 ],
 "metadata": {
  "kernelspec": {
   "display_name": "Python 3",
   "language": "python",
   "name": "python3"
  },
  "language_info": {
   "codemirror_mode": {
    "name": "ipython",
    "version": 2
   },
   "file_extension": ".py",
   "mimetype": "text/x-python",
   "name": "python",
   "nbconvert_exporter": "python",
   "pygments_lexer": "ipython2",
   "version": "2.7.6"
  }
 },
 "nbformat": 4,
 "nbformat_minor": 0
}
