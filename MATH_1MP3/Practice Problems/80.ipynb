{
 "cells": [
  {
   "cell_type": "markdown",
   "source": [
    "#### This is the list of solutions to problems 71 - 80 in the MATH 1MP3 Problem Set."
   ],
   "metadata": {
    "collapsed": false
   }
  },
  {
   "cell_type": "markdown",
   "source": [
    "***\n",
    "Import(s):"
   ],
   "metadata": {
    "collapsed": false
   }
  },
  {
   "cell_type": "code",
   "execution_count": 3,
   "outputs": [],
   "source": [
    "# Import(s):\n",
    "import numpy as np\n",
    "from sympy import sieve"
   ],
   "metadata": {
    "collapsed": false,
    "pycharm": {
     "is_executing": true
    },
    "ExecuteTime": {
     "end_time": "2023-05-19T20:24:03.132117400Z",
     "start_time": "2023-05-19T20:24:03.120397500Z"
    }
   }
  },
  {
   "cell_type": "markdown",
   "source": [
    "***\n",
    "(71) Make a function that and returns the largest prime number gap in the prime numbers up to 1e6."
   ],
   "metadata": {
    "collapsed": false
   }
  },
  {
   "cell_type": "code",
   "execution_count": 1,
   "metadata": {
    "collapsed": true
   },
   "outputs": [
    {
     "data": {
      "text/plain": "114"
     },
     "execution_count": 1,
     "metadata": {},
     "output_type": "execute_result"
    }
   ],
   "source": [
    "# Function(s):\n",
    "def prime_gap():\n",
    "    # Variable(s):\n",
    "    prime_list = list(sieve.primerange(1, 1e6))\n",
    "    gap = 0\n",
    "\n",
    "    # Calculations:\n",
    "    for i in range(len(prime_list) - 1):\n",
    "        prime_difference = prime_list[i + 1] - prime_list[i]\n",
    "\n",
    "        if prime_difference > gap: gap = prime_difference\n",
    "\n",
    "    # Output:\n",
    "    return gap\n",
    "\n",
    "# Output:\n",
    "prime_gap()"
   ]
  },
  {
   "cell_type": "markdown",
   "source": [
    "***\n",
    "(72) Make a function that takes in a list of length 1000 whose entries are either 0 or 1 as a parameter, and return a list defined by the following conditions:\n",
    "B[0] and B[-1] == 0\n",
    "A[i] == 0 and A[i - 1] == 0 or A[i + 1] == 0 => B[i] == 0\n",
    "A[i] == 1 and A[i - 1] == 1 or A[i + 1] == 1 => B[i] == 1\n",
    "If the two conditions above haven't been met, then B[i] == 0"
   ],
   "metadata": {
    "collapsed": false
   }
  },
  {
   "cell_type": "code",
   "execution_count": 2,
   "outputs": [],
   "source": [
    "# Function(s):\n",
    "def list_1(A):\n",
    "    # Variable(s):\n",
    "    B = [0]\n",
    "\n",
    "    # Calculations:\n",
    "    for i in range(1, len(A) - 1):\n",
    "\n",
    "        if A[i] == 0 and (A[i - 1] == 0 or A[i + 1] == 0):\n",
    "            B.append(0)\n",
    "\n",
    "        elif A[i] == 1 and (A[i - 1] == 1 or A[i + 1] == 1):\n",
    "            B.append(1)\n",
    "\n",
    "        else:\n",
    "            B.append(0)\n",
    "\n",
    "    # Output:\n",
    "    B.append(0)\n",
    "    return B"
   ],
   "metadata": {
    "collapsed": false
   }
  },
  {
   "cell_type": "markdown",
   "source": [
    "***\n",
    "(73) Make a function that takes in hundreds digit and the hundredths digit of a number as a parameter, and returns the price of a turkey if\n",
    "Price of a turkey = _67.9_ / 72"
   ],
   "metadata": {
    "collapsed": false
   }
  },
  {
   "cell_type": "code",
   "execution_count": 3,
   "outputs": [],
   "source": [
    "# Function(s):\n",
    "def turkey_price(a, b):\n",
    "    # Output:\n",
    "    return (a * 100 + 67.9 + b / 100) / 72"
   ],
   "metadata": {
    "collapsed": false
   }
  },
  {
   "cell_type": "markdown",
   "source": [
    "***\n",
    "(74) Make a function called convert_distance that takes in a float value, and a unit (m, km) for determining the unit of the float value, and another unit (in, ft, mi) for determining the desired unit, and returns the float value converted to the desired unit."
   ],
   "metadata": {
    "collapsed": false
   }
  },
  {
   "cell_type": "code",
   "execution_count": 4,
   "outputs": [],
   "source": [
    "# Function(s):\n",
    "def convert_distance(dist, dist_unit, target_unit):\n",
    "    # Constant(s):\n",
    "    CONVERSION_CONSTANTS = {\"m\": 39.3701, \"km\": 39370.1, \"in\": 1, \"ft\": 12, \"mi\": 63360}\n",
    "\n",
    "    # Convert dist_unit into inches, then into target_unit:\n",
    "    return dist * CONVERSION_CONSTANTS[dist_unit] / CONVERSION_CONSTANTS[target_unit]"
   ],
   "metadata": {
    "collapsed": false
   }
  },
  {
   "cell_type": "markdown",
   "source": [
    "***\n",
    "(75) Make a function called convert_mass that takes in a float value, and a unit (mg, g, kg, t, oz, lb, st) for determining the unit of the float value, and another unit (mg, g, kg, t, oz, lb, st) for determining the desired unit, and returns the float value converted to the desired unit."
   ],
   "metadata": {
    "collapsed": false
   }
  },
  {
   "cell_type": "code",
   "execution_count": 5,
   "outputs": [],
   "source": [
    "# Function(s):\n",
    "def convert_mass(mass, mass_unit, target_unit):\n",
    "    # Constant(s):\n",
    "    CONVERSION_CONSTANTS = {\"mg\": 1, \"g\": 1e3, \"kg\": 1e6, \"t\": 1e9, \"oz\": 28349.5, \"lb\": 453592, \"st\": 6.35e6}\n",
    "\n",
    "    # Convert mass_unit into mg, then into target_unit:\n",
    "    return mass * CONVERSION_CONSTANTS[mass_unit] / CONVERSION_CONSTANTS[target_unit]"
   ],
   "metadata": {
    "collapsed": false
   }
  },
  {
   "cell_type": "markdown",
   "source": [
    "***\n",
    "(76) Make a function that computes the value of f(x) = 3 cos(3.4x) - e^0.45x - x + 2.2. Make another function takes in n and tol values as parameters and uses the grid method to return the zeros of f(x) on the closed interval [2, 4]. Use n values of 1000, and 10000, and use tol values of 1e-6, and 1e-10."
   ],
   "metadata": {
    "collapsed": false
   }
  },
  {
   "cell_type": "code",
   "execution_count": 6,
   "outputs": [
    {
     "name": "stdout",
     "output_type": "stream",
     "text": [
      "[]\n",
      "[]\n",
      "[]\n",
      "[]\n"
     ]
    }
   ],
   "source": [
    "# Function(s):\n",
    "def f(x):\n",
    "    # Output:\n",
    "    return 3 * np.cos(3.4 * x) - np.exp(0.45 * x) - x + 2.2\n",
    "\n",
    "def roots(n, tol):\n",
    "    # Variable(s):\n",
    "    gap_dist = 2 / n\n",
    "    root_array = []\n",
    "\n",
    "    # Calculations:\n",
    "    for i in range(n + 1):\n",
    "        x = gap_dist * i + 2\n",
    "\n",
    "        if np.abs(f(x)) < tol:\n",
    "            root_array.append(x)\n",
    "\n",
    "    # Output:\n",
    "    return root_array\n",
    "\n",
    "# Output:\n",
    "print(roots(1000, 1e-6))\n",
    "print(roots(1000, 1e-10))\n",
    "print(roots(10000, 1e-6))\n",
    "print(roots(10000, 1e-10))"
   ],
   "metadata": {
    "collapsed": false
   }
  },
  {
   "cell_type": "markdown",
   "source": [
    "***\n",
    "(77) Make a function that computes the value of f(x) = x^3 - x^2 - 2x + 3 sin(2x). Make another function takes in n and tol values as parameters and uses the grid method to return the zeros of f(x) on the closed interval [-1, 3]. Use n values of 1000, and 10000, and use tol values of 1e-6, and 1e-10."
   ],
   "metadata": {
    "collapsed": false
   }
  },
  {
   "cell_type": "code",
   "execution_count": 7,
   "outputs": [
    {
     "name": "stdout",
     "output_type": "stream",
     "text": [
      "[0.0]\n",
      "[0.0]\n",
      "[0.0]\n",
      "[0.0]\n"
     ]
    }
   ],
   "source": [
    "# Function(s):\n",
    "def f(x):\n",
    "    # Output:\n",
    "    return x ** 3 - x ** 2 - 2 * x + 3 * np.sin(2 * x)\n",
    "\n",
    "def roots(n, tol):\n",
    "    # Variable(s):\n",
    "    gap_dist = 4 / n\n",
    "    root_array = []\n",
    "\n",
    "    # Calculations:\n",
    "    for i in range(n + 1):\n",
    "        x = gap_dist * i - 1\n",
    "\n",
    "        if np.abs(f(x)) < tol:\n",
    "            root_array.append(x)\n",
    "\n",
    "    # Output:\n",
    "    return root_array\n",
    "\n",
    "# Output:\n",
    "print(roots(1000, 1e-6))\n",
    "print(roots(1000, 1e-10))\n",
    "print(roots(10000, 1e-6))\n",
    "print(roots(10000, 1e-10))"
   ],
   "metadata": {
    "collapsed": false
   }
  },
  {
   "cell_type": "markdown",
   "source": [
    "***\n",
    "(78) Make a function that uses the bisection method to find the zeros of the previous two functions."
   ],
   "metadata": {
    "collapsed": false
   }
  },
  {
   "cell_type": "code",
   "execution_count": 10,
   "outputs": [
    {
     "name": "stdout",
     "output_type": "stream",
     "text": [
      "Root(s) for f₁(x):\n",
      "[2.0446319580078125, 2.044632911682129]\n",
      "Root(s) for f₂(x):\n",
      "[-2.384185791015625e-07, 4.76837158203125e-07]\n",
      "[1.1808691024780273, 1.1808698177337646]\n",
      "[2.3742313385009766, 2.374232292175293]\n"
     ]
    }
   ],
   "source": [
    "# Function(s):\n",
    "def f_1(x):\n",
    "    # Output:\n",
    "    return 3 * np.cos(3.4 * x) - np.exp(0.45 * x) - x + 2.2\n",
    "\n",
    "def f_2(x):\n",
    "    # Output:\n",
    "    return x ** 3 - x ** 2 - 2 * x + 3 * np.sin(2 * x)\n",
    "\n",
    "def bisection_method(f, a, b, tol=1e-6):\n",
    "    # Calculations:\n",
    "    while np.abs(a - b) >= tol:\n",
    "        # Variable(s):\n",
    "        m = (a + b) / 2\n",
    "        a_sign = np.sign(f(a))\n",
    "        m_sign = np.sign(f(m))\n",
    "\n",
    "        # Calculations:\n",
    "        if a_sign == - m_sign:\n",
    "            b = m\n",
    "\n",
    "        elif a_sign == 0:\n",
    "            return [a]\n",
    "        elif f(b) == 0:\n",
    "            return [b]\n",
    "        elif m_sign == 0:\n",
    "            return [m]\n",
    "\n",
    "        else:\n",
    "            a = m\n",
    "\n",
    "    # Output:\n",
    "    return [a, b]\n",
    "\n",
    "# Output:\n",
    "print(\"Root(s) for f₁(x):\")\n",
    "print(bisection_method(f_1, 2, 4))\n",
    "print(\"Root(s) for f₂(x):\")\n",
    "print(bisection_method(f_2, -1, 0.5))\n",
    "print(bisection_method(f_2, 0.5, 2))\n",
    "print(bisection_method(f_2, 2, 4))"
   ],
   "metadata": {
    "collapsed": false,
    "ExecuteTime": {
     "end_time": "2023-05-19T19:59:37.117129Z",
     "start_time": "2023-05-19T19:59:37.076121100Z"
    }
   }
  },
  {
   "cell_type": "markdown",
   "source": [
    "***\n",
    "(79) Make a function that takes in a function, its derivative, a starting x-coordinate, a tolerance, and the max number of steps as parameters and uses Newton's method to approximate a solution to the given function. Use the function to approximation a solution to f(x) = x³ - x² - 2x + 3 sin(2x) on the interval [-1, 3]."
   ],
   "metadata": {
    "collapsed": false
   }
  },
  {
   "cell_type": "code",
   "execution_count": 4,
   "outputs": [
    {
     "name": "stdout",
     "output_type": "stream",
     "text": [
      "First root: -9.83643232411156e-11\n",
      "Second root: 1.1808697676197035\n",
      "Third root: 2.3742317219276337\n"
     ]
    }
   ],
   "source": [
    "# Function(s):\n",
    "def f(x):\n",
    "    # Output:\n",
    "    return pow(x, 3) - pow(x, 2) - 2 * x + 3 * np.sin(2 * x)\n",
    "\n",
    "def first_derivative(x):\n",
    "    # Output:\n",
    "    return 3 * pow(x, 2) - 2 * x + 6 * np.cos(2 * x) - 2\n",
    "\n",
    "def newtons_method(f, fprime, x0, tol, max_steps):\n",
    "    # Variable(s):\n",
    "    step = 1\n",
    "\n",
    "    # Calculations:\n",
    "    while step <= max_steps and np.abs(f(x0)) >= tol:\n",
    "        x0 -= f(x0) / fprime(x0)\n",
    "        step += 1\n",
    "\n",
    "    # Output:\n",
    "    return x0\n",
    "\n",
    "# Output:\n",
    "print(\"First root:\", newtons_method(f, first_derivative, -0.5, 1e-6, 100))\n",
    "print(\"Second root:\", newtons_method(f, first_derivative, 1, 1e-6, 100))\n",
    "print(\"Third root:\", newtons_method(f, first_derivative, 3, 1e-6, 100))"
   ],
   "metadata": {
    "collapsed": false,
    "pycharm": {
     "is_executing": true
    },
    "ExecuteTime": {
     "end_time": "2023-05-19T20:24:10.702896400Z",
     "start_time": "2023-05-19T20:24:10.657421900Z"
    }
   }
  },
  {
   "cell_type": "markdown",
   "source": [
    "***\n",
    "(80) Write code for the following:\n",
    "1: Create a list of the Collatz sequence of numbers ∈ [1, 100,000].\n",
    "2: Output the five largest values of the list and their indices.\n",
    "3: Output the number of times 113 appears in the list.\n",
    "4: Output the starting index of the longest sequence of constant values and its length.\n",
    "5: Output the number of even and odd numbers in the list."
   ],
   "metadata": {
    "collapsed": false
   }
  },
  {
   "cell_type": "code",
   "execution_count": 1,
   "outputs": [
    {
     "ename": "KeyboardInterrupt",
     "evalue": "",
     "output_type": "error",
     "traceback": [
      "\u001B[1;31m---------------------------------------------------------------------------\u001B[0m",
      "\u001B[1;31mKeyboardInterrupt\u001B[0m                         Traceback (most recent call last)",
      "Cell \u001B[1;32mIn[1], line 73\u001B[0m\n\u001B[0;32m     68\u001B[0m     \u001B[38;5;28;01mreturn\u001B[39;00m even_count, odd_count\n\u001B[0;32m     70\u001B[0m \u001B[38;5;66;03m# Output:\u001B[39;00m\n\u001B[0;32m     71\u001B[0m \u001B[38;5;66;03m# --------------------------------------\u001B[39;00m\n\u001B[0;32m     72\u001B[0m \u001B[38;5;66;03m# Part 1:\u001B[39;00m\n\u001B[1;32m---> 73\u001B[0m collatz_count \u001B[38;5;241m=\u001B[39m \u001B[43mcollatz_count\u001B[49m\u001B[43m(\u001B[49m\u001B[43m)\u001B[49m\n\u001B[0;32m     75\u001B[0m \u001B[38;5;28mprint\u001B[39m(collatz_count) \u001B[38;5;66;03m# Output\u001B[39;00m\n\u001B[0;32m     77\u001B[0m \u001B[38;5;66;03m# Part 2:\u001B[39;00m\n",
      "Cell \u001B[1;32mIn[1], line 24\u001B[0m, in \u001B[0;36mcollatz_count\u001B[1;34m()\u001B[0m\n\u001B[0;32m     22\u001B[0m \u001B[38;5;66;03m# Calculations:\u001B[39;00m\n\u001B[0;32m     23\u001B[0m \u001B[38;5;28;01mfor\u001B[39;00m i \u001B[38;5;129;01min\u001B[39;00m \u001B[38;5;28mrange\u001B[39m(\u001B[38;5;241m1\u001B[39m, \u001B[38;5;241m100001\u001B[39m):\n\u001B[1;32m---> 24\u001B[0m     count\u001B[38;5;241m.\u001B[39mappend(\u001B[43mf\u001B[49m\u001B[43m(\u001B[49m\u001B[43mi\u001B[49m\u001B[43m)\u001B[49m)\n\u001B[0;32m     26\u001B[0m \u001B[38;5;66;03m# Output:\u001B[39;00m\n\u001B[0;32m     27\u001B[0m \u001B[38;5;28;01mreturn\u001B[39;00m np\u001B[38;5;241m.\u001B[39marray(count)\n",
      "Cell \u001B[1;32mIn[1], line 13\u001B[0m, in \u001B[0;36mf\u001B[1;34m(n)\u001B[0m\n\u001B[0;32m     11\u001B[0m     \u001B[38;5;28;01mif\u001B[39;00m n \u001B[38;5;241m%\u001B[39m \u001B[38;5;241m2\u001B[39m \u001B[38;5;241m==\u001B[39m \u001B[38;5;241m0\u001B[39m:\n\u001B[0;32m     12\u001B[0m         n \u001B[38;5;241m/\u001B[39m\u001B[38;5;241m=\u001B[39m \u001B[38;5;241m2\u001B[39m\n\u001B[1;32m---> 13\u001B[0m     n \u001B[38;5;241m=\u001B[39m \u001B[38;5;241;43m3\u001B[39;49m\u001B[43m \u001B[49m\u001B[38;5;241;43m*\u001B[39;49m\u001B[43m \u001B[49m\u001B[43mn\u001B[49m\u001B[43m \u001B[49m\u001B[38;5;241;43m+\u001B[39;49m\u001B[43m \u001B[49m\u001B[38;5;241;43m1\u001B[39;49m\n\u001B[0;32m     15\u001B[0m \u001B[38;5;66;03m# Output:\u001B[39;00m\n\u001B[0;32m     16\u001B[0m \u001B[38;5;28;01mreturn\u001B[39;00m i\n",
      "\u001B[1;31mKeyboardInterrupt\u001B[0m: "
     ]
    }
   ],
   "source": [
    "# Function(s):\n",
    "def f(n):\n",
    "    # Variable(s):\n",
    "    i = 0\n",
    "\n",
    "    # Calculations:\n",
    "    while n != 1:\n",
    "        i += 1  # Increment i\n",
    "\n",
    "        # Calculate the next term in the sequence:\n",
    "        if n % 2 == 0:\n",
    "            n /= 2\n",
    "        n = 3 * n + 1\n",
    "\n",
    "    # Output:\n",
    "    return i\n",
    "\n",
    "def collatz_count():\n",
    "    # Variable(s):\n",
    "    count = []\n",
    "\n",
    "    # Calculations:\n",
    "    for i in range(1, 100001):\n",
    "        count.append(f(i))\n",
    "\n",
    "    # Output:\n",
    "    return np.array(count)\n",
    "\n",
    "def longest_const_sequence(num_list):\n",
    "    # Variable(s):\n",
    "    i, list_length = 0, len(num_list)\n",
    "    current_length = 0\n",
    "    record_length, record_index = 0, 0\n",
    "\n",
    "    # Logic:\n",
    "    while i < list_length:\n",
    "        if i + 1 != list_length and num_list[i] == num_list[i + 1]:\n",
    "            # Start counting the number of constant elements:\n",
    "            while i + 1 != list_length and num_list[i] == num_list[i + 1]:\n",
    "                current_length += 1\n",
    "                i += 1\n",
    "\n",
    "            # Check if current length is longer than the record:\n",
    "            if current_length > record_length:\n",
    "                record_length = current_length\n",
    "                record_index = i - current_length\n",
    "\n",
    "            current_length = 0\n",
    "            i += 1\n",
    "        else:\n",
    "            i += 1\n",
    "\n",
    "    # Output:\n",
    "    return [record_index, record_length]\n",
    "\n",
    "def even_odd_count(num_list):\n",
    "    # Variable(s):\n",
    "    even_count, odd_count = 0, 0\n",
    "    \n",
    "    # Calculations:\n",
    "    for num in num_list:\n",
    "        if num % 2 == 0:\n",
    "            even_count += 1\n",
    "        else:\n",
    "            odd_count += 1\n",
    "    \n",
    "    # Output:\n",
    "    return even_count, odd_count\n",
    "\n",
    "# Output:\n",
    "# --------------------------------------\n",
    "# Part 1:\n",
    "collatz_count = collatz_count()\n",
    "\n",
    "print(collatz_count) # Output\n",
    "\n",
    "# Part 2:\n",
    "largest_count = collatz_count.copy().sort()[-5:]\n",
    "index_largest_count = []\n",
    "\n",
    "for count in largest_count:\n",
    "    index_largest_count.append(collatz_count.index(count))\n",
    "\n",
    "largest_count_dict = dict(zip(index_largest_count, zip(*largest_count)))\n",
    "\n",
    "print(largest_count_dict) # Output\n",
    "\n",
    "# Part 3:\n",
    "print(collatz_count.count(113), \"numbers require exactly 113 steps to reach one.\") # Output\n",
    "\n",
    "# Part 4:\n",
    "longest_const_sequence_index, longest_const_sequence_len = longest_const_sequence(collatz_count())\n",
    "\n",
    "print(\"The longest constant sequence starts at index\", longest_const_sequence_index, \"and continues for\", longest_const_sequence_len, \"more element(s).\") # Output\n",
    "\n",
    "# Part 5:\n",
    "even_odd_distribution = even_odd_count(collatz_count)\n",
    "\n",
    "print(\"Even:\", even_odd_distribution[0], \"Odd:\", even_odd_distribution[1]) # Output"
   ],
   "metadata": {
    "collapsed": false,
    "ExecuteTime": {
     "end_time": "2023-05-20T00:51:15.507857100Z",
     "start_time": "2023-05-20T00:50:43.421206600Z"
    }
   }
  }
 ],
 "metadata": {
  "kernelspec": {
   "display_name": "Python 3",
   "language": "python",
   "name": "python3"
  },
  "language_info": {
   "codemirror_mode": {
    "name": "ipython",
    "version": 2
   },
   "file_extension": ".py",
   "mimetype": "text/x-python",
   "name": "python",
   "nbconvert_exporter": "python",
   "pygments_lexer": "ipython2",
   "version": "2.7.6"
  }
 },
 "nbformat": 4,
 "nbformat_minor": 0
}
