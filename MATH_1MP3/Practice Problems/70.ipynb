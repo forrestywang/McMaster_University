{
 "cells": [
  {
   "cell_type": "markdown",
   "source": [
    "#### This is the list of solutions to problems 61 - 70 in the MATH 1MP3 Problem Set."
   ],
   "metadata": {
    "collapsed": false
   }
  },
  {
   "cell_type": "markdown",
   "source": [
    "***\n",
    "(61) Make the function dot_orthogonal that take two vectors in R³ that returns the dot product and determines if the pair of vectors is orthogonal or not.\n",
    "\n",
    "Make the function cross_product that take two vectors in R³ that returns the cross product.\n",
    "\n",
    "Make the function projection_vector that takes two vectors in R³ that returns the projection of the first vector onto the second."
   ],
   "metadata": {
    "collapsed": false
   }
  },
  {
   "cell_type": "code",
   "execution_count": null,
   "metadata": {
    "collapsed": true
   },
   "outputs": [],
   "source": [
    "# Function(s):\n",
    "def dot_orthogonal(u, v):\n",
    "    # Variable(s):\n",
    "    dot_product = 0\n",
    "\n",
    "    # Calculations:\n",
    "    for index in range(3): dot_product += u[index] * v[index]\n",
    "\n",
    "    # Output:\n",
    "    return [dot_product, dot_product == 0]\n",
    "\n",
    "def cross_product(u, v):\n",
    "    # Variable(s):\n",
    "    product = [u[1] * v[2] - u[2] * v[1], u[2] * v[0] - u[0] * v[2], u[0] * v[1] - u[1] * v[0]]\n",
    "\n",
    "    # Output:\n",
    "    return product\n",
    "\n",
    "def projection_vector(u, v):\n",
    "    # Variable(s):\n",
    "    dot_product_1, dot_product_2 = 0, 0\n",
    "    projection = []\n",
    "\n",
    "    # Calculations:\n",
    "    # Calculate the dot products:\n",
    "    for index in range(3):\n",
    "        dot_product_1 += u[index] * v[index]\n",
    "        dot_product_2 += v[index] ** 2\n",
    "\n",
    "    # Calculate the projection:\n",
    "    for index in range(3): projection.append((dot_product_1 / dot_product_2) * v[index])\n",
    "\n",
    "    # Output:\n",
    "    return projection"
   ]
  },
  {
   "cell_type": "markdown",
   "source": [
    "***\n",
    "(62) Make a function that takes in a matrix as a parameter and returns the sum of all the entries."
   ],
   "metadata": {
    "collapsed": false
   }
  },
  {
   "cell_type": "code",
   "execution_count": null,
   "outputs": [],
   "source": [
    "# Function(s):\n",
    "def sum_entries(M):\n",
    "    # Variable(s):\n",
    "    sum = 0\n",
    "\n",
    "    # Calculations:\n",
    "    for row in M:\n",
    "        for entry in row: sum += entry\n",
    "\n",
    "    # Output:\n",
    "    return sum"
   ],
   "metadata": {
    "collapsed": false
   }
  },
  {
   "cell_type": "markdown",
   "source": [
    "***\n",
    "(63) Make a function that takes in a matrix, an entry, and a replaced entry as parameters and replaces all the specified entries with the replaced entry and returns the new matrix."
   ],
   "metadata": {
    "collapsed": false
   }
  },
  {
   "cell_type": "code",
   "execution_count": null,
   "outputs": [],
   "source": [
    "# Function(s):\n",
    "def replace_entry(M, find_entry, replace_entry):\n",
    "    # Calculations:\n",
    "    for row in M:\n",
    "        for entry in row:\n",
    "            if entry == find_entry: entry = replace_entry\n",
    "\n",
    "    # Output:\n",
    "    return M"
   ],
   "metadata": {
    "collapsed": false
   }
  },
  {
   "cell_type": "markdown",
   "source": [
    "***\n",
    "(64) Make a function that takes in a matrix as a parameter and returns the largest entry, the number of occurrences, and the locations."
   ],
   "metadata": {
    "collapsed": false
   }
  },
  {
   "cell_type": "code",
   "execution_count": 5,
   "outputs": [
    {
     "data": {
      "text/plain": "[999, 2, [[2, 1], [2, 2]]]"
     },
     "execution_count": 5,
     "metadata": {},
     "output_type": "execute_result"
    }
   ],
   "source": [
    "# Function(s):\n",
    "def find_max(M):\n",
    "    # Variable(s):\n",
    "    max = M[0][0]\n",
    "    occurrences = 1\n",
    "    locations = [[0, 0]]\n",
    "\n",
    "    # Calculations:\n",
    "    for rowIndex in range(len(M)):\n",
    "        for colIndex in range(len(M[0])):\n",
    "            # If the same max is found again:\n",
    "            if M[rowIndex][colIndex] == max and [rowIndex, colIndex] != [0, 0]:\n",
    "                occurrences += 1\n",
    "                locations.append([rowIndex, colIndex])\n",
    "\n",
    "            # If a new max is found:\n",
    "            elif M[rowIndex][colIndex] > max:\n",
    "                max = M[rowIndex][colIndex]\n",
    "                occurrences = 1\n",
    "                locations.clear()\n",
    "                locations.append([rowIndex, colIndex])\n",
    "\n",
    "    # Output:\n",
    "    return [max, occurrences, locations]"
   ],
   "metadata": {
    "collapsed": false
   }
  },
  {
   "cell_type": "markdown",
   "source": [
    "***\n",
    "(65) Make functions that takes a 3x3 matrix as a parameter and returns the sum of the diagonal entries, and returns the sum of the non-diagonal entries.\n",
    "\n",
    "Make functions that take two 3x3 matrices as parameters and returns the sum of both matrices, and returns the product of both matrices."
   ],
   "metadata": {
    "collapsed": false
   }
  },
  {
   "cell_type": "code",
   "execution_count": null,
   "outputs": [],
   "source": [
    "# Function(s):\n",
    "def sum_diagonal(M):\n",
    "    # Variable(s):\n",
    "    sum = 0\n",
    "\n",
    "    # Calculations:\n",
    "    for index in range(3):\n",
    "        sum += M[index][index]\n",
    "\n",
    "    # Output:\n",
    "    return sum\n",
    "\n",
    "def sum_non_diagonal(M):\n",
    "    # Variable(s):\n",
    "    sum = 0\n",
    "\n",
    "    # Calculations:\n",
    "    for rowIndex in range(3):\n",
    "        for colIndex in range(3):\n",
    "            if rowIndex != colIndex: sum += M[rowIndex][colIndex]\n",
    "\n",
    "    # Output:\n",
    "    return sum\n",
    "\n",
    "def add_matrices(M1, M2):\n",
    "    # Variable(s):\n",
    "    sum_matrix = []\n",
    "\n",
    "    # Calculations:\n",
    "    for rowIndex in range(3):\n",
    "        sum_row = []\n",
    "\n",
    "        for colIndex in range(3):\n",
    "            sum_row.append(M1[rowIndex][colIndex] + M2[rowIndex][colIndex])\n",
    "\n",
    "        sum_matrix.append(sum_row)\n",
    "\n",
    "    # Output:\n",
    "    return sum_matrix\n",
    "\n",
    "def multiply_matrices(M1, M2):\n",
    "    # Variable(s):\n",
    "    product_matrix = []\n",
    "\n",
    "    # Calcualtions:\n",
    "    for a in range(3):\n",
    "        product_row = []\n",
    "\n",
    "        # Compute a row:\n",
    "        for i in range(3):\n",
    "            element = 0\n",
    "\n",
    "            # Compute vector dot product:\n",
    "            for j in range(3): element += M1[i][j] * M2[j][i]\n",
    "\n",
    "            product_row.append(element)\n",
    "\n",
    "        product_matrix.append(product_row)"
   ],
   "metadata": {
    "collapsed": false
   }
  },
  {
   "cell_type": "markdown",
   "source": [
    "***\n",
    "(66) Make a function that takes in a square matrix as a parameter and returns an array of all the diagonal entries."
   ],
   "metadata": {
    "collapsed": false
   }
  },
  {
   "cell_type": "code",
   "execution_count": null,
   "outputs": [],
   "source": [
    "# Function(s):\n",
    "def diagonal(M):\n",
    "    # Variable(s):\n",
    "    diagonal_array = []\n",
    "\n",
    "    # Calculations:\n",
    "    for index in range(len(M)): diagonal_array.append(M[index][index])\n",
    "\n",
    "    # Output:\n",
    "    return diagonal_array"
   ],
   "metadata": {
    "collapsed": false
   }
  },
  {
   "cell_type": "markdown",
   "source": [
    "***\n",
    "(67) Make a function that prints the following arrays."
   ],
   "metadata": {
    "collapsed": false
   }
  },
  {
   "cell_type": "code",
   "execution_count": null,
   "outputs": [],
   "source": [
    "# L1 = {∀n ∈ [1, 1001] ∋ n % 2 = 1}\n",
    "# L2 = {(⅓)^n | ∀n ∈ [1, 43]}\n",
    "# L3 = {∀m ∈ M ∋ m⁴}\n",
    "# L4 = Given an array, return the fourth power of every third element.\n",
    "\n",
    "# Function(s):\n",
    "def arrays_1(list):\n",
    "    # Variable(s):\n",
    "    L1, L2, L3, L4 = [], [], [], []\n",
    "\n",
    "    # Calculations:\n",
    "    for i in range(1, 502): L1.append(2 * i - 1)\n",
    "\n",
    "    for i in range(1, 44): L2.append((1 / 3) ** i)\n",
    "\n",
    "    for element in list: L3.append(element ** 4)\n",
    "\n",
    "    for i in range(len(list) // 3 + 1): L4.append(list[3 * i] ** 4)\n",
    "\n",
    "    # Output:\n",
    "    print(\"L1:\", L1)\n",
    "    print(\"L2:\", L2)\n",
    "    print(\"L3:\", L3)\n",
    "    print(\"L4:\", L4)"
   ],
   "metadata": {
    "collapsed": false
   }
  },
  {
   "cell_type": "markdown",
   "source": [
    "***\n",
    "(68) Make a function that prints the following arrays."
   ],
   "metadata": {
    "collapsed": false
   }
  },
  {
   "cell_type": "code",
   "execution_count": 1,
   "outputs": [
    {
     "name": "stdout",
     "output_type": "stream",
     "text": [
      "L1: [108, 120, 132, 144, 156, 168, 180, 192, 204, 216, 228, 240, 252, 264, 276, 288, 300, 312, 324, 336, 348, 360, 372, 384, 396, 408, 420, 432, 444, 456, 468, 480, 492, 504, 516, 528, 540, 552, 564, 576, 588, 600, 612, 624, 636, 648, 660, 672, 684, 696, 708, 720, 732, 744, 756, 768, 780, 792, 804, 816, 828, 840, 852, 864, 876, 888, 900, 912, 924, 936, 948, 960, 972, 984, 996]\n",
      "L2: [132, 264, 396, 528, 660, 792, 924]\n",
      "L3: [110, 121, 143, 154, 165, 176, 187, 198, 209, 220, 231, 242, 253, 275, 286, 297, 308, 319, 330, 341, 352, 363, 374, 385, 407, 418, 429, 440, 451, 462, 473, 484, 495, 506, 517, 539, 550, 561, 572, 583, 594, 605, 616, 627, 638, 649, 671, 682, 693, 704, 715, 726, 737, 748, 759, 770, 781, 803, 814, 825, 836, 847, 858, 869, 880, 891, 902, 913, 935, 946, 957, 968, 979, 990]\n"
     ]
    }
   ],
   "source": [
    "# L1 = {∀n ∈ [100, 1000] ∋ n % 12 = 0}\n",
    "# L2 = {∀n ∈ [100, 1000] ∋ n % 132 = 0}\n",
    "# L3 = {∀n ∈ [100, 1000] ∋ n % 11 = 0 ∧ n % 12 != 0}\n",
    "\n",
    "# Function(s):\n",
    "def arrays_2():\n",
    "    # Variable(s):\n",
    "    L1, L2, L3 = [], [], []\n",
    "\n",
    "    # Calculations:\n",
    "    for num in range(100, 1001):\n",
    "        if num % 12 == 0: L1.append(num)\n",
    "\n",
    "        if num % 132 == 0: L2.append(num)\n",
    "\n",
    "        if num % 11 == 0 and num % 12 != 0: L3.append(num)\n",
    "\n",
    "    # Output:\n",
    "    print(\"L1:\", L1)\n",
    "    print(\"L2:\", L2)\n",
    "    print(\"L3:\", L3)\n",
    "\n",
    "# Output:\n",
    "arrays_2()"
   ],
   "metadata": {
    "collapsed": false
   }
  },
  {
   "cell_type": "markdown",
   "source": [
    "***\n",
    "(69) Make a function that takes in an array of strings as a parameter and returns the following lists."
   ],
   "metadata": {
    "collapsed": false
   }
  },
  {
   "cell_type": "code",
   "execution_count": 2,
   "outputs": [
    {
     "name": "stdout",
     "output_type": "stream",
     "text": [
      "L1: ['Iron Man', 'Ant-Man', 'Hawkeye', 'Quicksilver', 'Scarlet Witch', 'Captain America', 'Goliath', 'Hercules', 'Black Widow']\n",
      "L2: ['Ant-Man', 'Black Widow']\n",
      "L3: ['Iron Man', 'Hulk', 'Thor', 'Ant-Man', 'Hawkeye', 'Quicksilver', 'Scarlet Witch', 'Captain America', 'Goliath', 'Hercules', 'Black Widow']\n",
      "L4: ['Iron Man', 'Hulk', 'Ant-Man', 'Wasp', 'Hawkeye', 'Scarlet Witch', 'Captain America', 'Goliath', 'Hercules', 'Black Widow']\n"
     ]
    }
   ],
   "source": [
    "# L1 = {Strings longer than 6 characters including spaces}\n",
    "# L2 = {Strings that start with \"A\" or \"B\"}\n",
    "# L3 = {Strings that do not contain the string \"as\"}\n",
    "# L4 = {Strings that do not end on \"r\"}\n",
    "\n",
    "# Function(s):\n",
    "def arrays_3(list):\n",
    "    # Variable(s):\n",
    "    L1, L2, L3, L4 = [], [], [], []\n",
    "\n",
    "    # Calculations:\n",
    "    for string in list:\n",
    "        if len(string) > 6: L1.append(string)\n",
    "\n",
    "        if string[0] == \"A\" or string[0] == \"B\": L2.append(string)\n",
    "\n",
    "        if \"as\" not in string: L3.append(string)\n",
    "\n",
    "        if string[-1] != \"r\": L4.append(string)\n",
    "\n",
    "    # Output:\n",
    "    print(\"L1:\", L1)\n",
    "    print(\"L2:\", L2)\n",
    "    print(\"L3:\", L3)\n",
    "    print(\"L4:\", L4)\n",
    "\n",
    "# Variable(s):\n",
    "L = [\"Iron Man\", \"Hulk\", \"Thor\", \"Ant-Man\", \"Wasp\", \"Hawkeye\", \"Quicksilver\", \"Scarlet Witch\", \"Captain America\", \"Goliath\", \"Hercules\", \"Black Widow\"]\n",
    "\n",
    "# Output:\n",
    "arrays_3(L)"
   ],
   "metadata": {
    "collapsed": false
   }
  },
  {
   "cell_type": "markdown",
   "source": [
    "***\n",
    "(70) Make a function that takes an array of the coefficients on a polynomial and a x value as parameters and returns the value of the polynomial at value x."
   ],
   "metadata": {
    "collapsed": false
   }
  },
  {
   "cell_type": "code",
   "execution_count": null,
   "outputs": [],
   "source": [
    "# Function(s):\n",
    "def evaluate_polynomial(polynomial, x):\n",
    "    # Variable(s):\n",
    "    result = 0\n",
    "\n",
    "    # Calculations:\n",
    "    for index in range(len(polynomial)): result += polynomial[index] * x ** index\n",
    "\n",
    "    # Output:\n",
    "    return result"
   ],
   "metadata": {
    "collapsed": false
   }
  }
 ],
 "metadata": {
  "kernelspec": {
   "display_name": "Python 3",
   "language": "python",
   "name": "python3"
  },
  "language_info": {
   "codemirror_mode": {
    "name": "ipython",
    "version": 2
   },
   "file_extension": ".py",
   "mimetype": "text/x-python",
   "name": "python",
   "nbconvert_exporter": "python",
   "pygments_lexer": "ipython2",
   "version": "2.7.6"
  }
 },
 "nbformat": 4,
 "nbformat_minor": 0
}
