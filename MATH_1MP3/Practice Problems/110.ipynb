{
 "cells": [
  {
   "cell_type": "markdown",
   "source": [
    "#### This is the list of solutions to problems 101 - 110 in the MATH 1MP3 Problem Set."
   ],
   "metadata": {
    "collapsed": false
   }
  },
  {
   "cell_type": "markdown",
   "source": [
    "***\n",
    "(101) Make a function that takes in two given arrays as parameters, and returns a dictionary and its inverse from the two arrays"
   ],
   "metadata": {
    "collapsed": false
   }
  },
  {
   "cell_type": "code",
   "execution_count": 35,
   "metadata": {
    "collapsed": true
   },
   "outputs": [
    {
     "data": {
      "text/plain": "({'A+': 12,\n  'A': 11,\n  'A-': 10,\n  'B+': 9,\n  'B': 8,\n  'B-': 7,\n  'C+': 6,\n  'C': 5,\n  'C-': 4,\n  'D+': 3,\n  'D': 2,\n  'D-': 1,\n  'F': 0},\n {12: 'A+',\n  11: 'A',\n  10: 'A-',\n  9: 'B+',\n  8: 'B',\n  7: 'B-',\n  6: 'C+',\n  5: 'C',\n  4: 'C-',\n  3: 'D+',\n  2: 'D',\n  1: 'D-',\n  0: 'F'})"
     },
     "execution_count": 35,
     "metadata": {},
     "output_type": "execute_result"
    }
   ],
   "source": [
    "# Function(s):\n",
    "def gpa_dict(mark_array, gpa_array):\n",
    "    # Variable(s):\n",
    "    mark_to_gpa_dict = dict(zip(mark_array, gpa_array))\n",
    "    gpa_to_mark_dict = dict(zip(gpa_array, mark_array))\n",
    "\n",
    "    # Output:\n",
    "    return mark_to_gpa_dict, gpa_to_mark_dict\n",
    "\n",
    "# Output:\n",
    "gpa_dict([\"A+\", \"A\", \"A-\", \"B+\", \"B\", \"B-\", \"C+\", \"C\", \"C-\", \"D+\", \"D\", \"D-\", \"F\"], list(range(13))[::-1])"
   ]
  },
  {
   "cell_type": "markdown",
   "source": [
    "***\n",
    "(102) Make a function that takes two dictionaries as parameters and returns a new dictionary with the following properties:\n",
    "∀a: b ∈ d1, a not a key of d2 ⇒ add a: b to d3\n",
    "∀a: b ∈ d2, a not a key of d1 ⇒ add a: b to d3"
   ],
   "metadata": {
    "collapsed": false
   }
  },
  {
   "cell_type": "code",
   "execution_count": 36,
   "outputs": [
    {
     "data": {
      "text/plain": "{8: 19, 6: 4, 5: 12, 4: 3, 3: 9}"
     },
     "execution_count": 36,
     "metadata": {},
     "output_type": "execute_result"
    }
   ],
   "source": [
    "# Function(s):\n",
    "def new_dict_1(d1, d2):\n",
    "    # Variable(s):\n",
    "    d3 = dict()\n",
    "\n",
    "    # Logic:\n",
    "    for key_1, value_1 in d1.items():\n",
    "        if key_1 not in d2:\n",
    "            d3[key_1] = value_1\n",
    "\n",
    "    for key_2, value_2 in d2.items():\n",
    "        if key_2 not in d1:\n",
    "            d3[key_2] = value_2\n",
    "\n",
    "    # Output:\n",
    "    return d3\n",
    "\n",
    "# Variable(s):\n",
    "d1 = {2: 3,  8: 19,  6: 4,  5: 12}\n",
    "d2 = {2: 5,  4: 3,  3: 9}\n",
    "\n",
    "# Output:\n",
    "new_dict_1(d1, d2)"
   ],
   "metadata": {
    "collapsed": false
   }
  },
  {
   "cell_type": "markdown",
   "source": [
    "***\n",
    "(103) Make a function that returns a dictionary with keys equal to numbers ∈ [1, 2] such that each number is 0.1 greater than the previous, and the values are the squares of each number"
   ],
   "metadata": {
    "collapsed": false
   }
  },
  {
   "cell_type": "code",
   "execution_count": 37,
   "outputs": [
    {
     "data": {
      "text/plain": "{1.0: 1.0,\n 1.1: 1.2100000000000002,\n 1.2: 1.44,\n 1.3: 1.6900000000000002,\n 1.4: 1.9599999999999997,\n 1.5: 2.25,\n 1.6: 2.5600000000000005,\n 1.7000000000000002: 2.8900000000000006,\n 1.8: 3.24,\n 1.9: 3.61,\n 2.0: 4.0}"
     },
     "execution_count": 37,
     "metadata": {},
     "output_type": "execute_result"
    }
   ],
   "source": [
    "# Function(s):\n",
    "def new_dict_2():\n",
    "    # Variable(s)\n",
    "    squares_dict = dict()\n",
    "\n",
    "    # Logic:\n",
    "    for i in range(11):\n",
    "        term = 0.1 * i + 1\n",
    "        squares_dict[term] = term ** 2\n",
    "\n",
    "    # Output:\n",
    "    return squares_dict\n",
    "\n",
    "# Output:\n",
    "new_dict_2()"
   ],
   "metadata": {
    "collapsed": false
   }
  },
  {
   "cell_type": "markdown",
   "source": [
    "***\n",
    "(104) Make a function that takes in a natural number ∈ [20, 99] as a parameter, and returns the number in English."
   ],
   "metadata": {
    "collapsed": false
   }
  },
  {
   "cell_type": "code",
   "execution_count": 38,
   "outputs": [],
   "source": [
    "# Function(s):\n",
    "def number_speller_1(num):\n",
    "    # Variable(s):\n",
    "    UNITS_DIGIT_NAME = [\"one\", \"two\", \"three\", \"four\", \"five\", \"six\", \"seven\", \"eight\", \"nine\", \"ten\"]\n",
    "    TENS_DIGIT_NAME = [\"twenty\", \"thirty\", \"forty\", \"fifty\", \"sixty\", \"seventy\", \"eighty\", \"ninety\"]\n",
    "    units_digit = num % 10\n",
    "    tens_digit = num // 10\n",
    "\n",
    "    # Output:\n",
    "    return TENS_DIGIT_NAME[tens_digit - 2] + \" \" + UNITS_DIGIT_NAME[units_digit - 1]"
   ],
   "metadata": {
    "collapsed": false
   }
  },
  {
   "cell_type": "markdown",
   "source": [
    "***\n",
    "(105) Make a function that takes in the name of a natural number ∈ [20, 99] in English as a parameter, and returns the number."
   ],
   "metadata": {
    "collapsed": false
   }
  },
  {
   "cell_type": "code",
   "execution_count": 39,
   "outputs": [],
   "source": [
    "# Function(s):\n",
    "def number_speller_2(num_name):\n",
    "    # Variable(s):\n",
    "    UNITS_DIGIT_NAME = {\"one\": 1, \"two\": 2, \"three\": 3, \"four\": 4, \"five\": 5, \"six\": 6, \"seven\": 7, \"eight\": 8, \"nine\": 9}\n",
    "    TENS_DIGIT_NAME = {\"twenty\": 20, \"thirty\": 30, \"forty\": 40, \"fifty\": 50, \"sixty\": 60, \"seventy\": 70, \"eighty\": 80, \"ninety\": 90}\n",
    "\n",
    "    # Calculations:\n",
    "    units_digit = UNITS_DIGIT_NAME[num_name[num_name.index(\" \") + 1:]]\n",
    "    tens_digit = TENS_DIGIT_NAME[num_name[:num_name.index(\" \")]]\n",
    "\n",
    "    # Output:\n",
    "    return units_digit + tens_digit"
   ],
   "metadata": {
    "collapsed": false
   }
  },
  {
   "cell_type": "markdown",
   "source": [
    "***\n",
    "(106) Make a function that takes in the name of a natural number ∈ [1, 999] in English as a parameter, and returns the number."
   ],
   "metadata": {
    "collapsed": false
   }
  },
  {
   "cell_type": "code",
   "execution_count": 40,
   "outputs": [
    {
     "data": {
      "text/plain": "413"
     },
     "execution_count": 40,
     "metadata": {},
     "output_type": "execute_result"
    }
   ],
   "source": [
    "# Function(s):\n",
    "def number_speller_3(num_name):\n",
    "    # Variable(s):\n",
    "    UNITS_DIGIT_NAME = {\"one\": 1, \"two\": 2, \"three\": 3, \"four\": 4, \"five\": 5, \"six\": 6, \"seven\": 7, \"eight\": 8, \"nine\": 9}\n",
    "    TENS_DIGIT_NAME = {\"twenty\": 20, \"thirty\": 30, \"forty\": 40, \"fifty\": 50, \"sixty\": 60, \"seventy\": 70, \"eighty\": 80, \"ninety\": 90}\n",
    "    HUNDREDS_DIGIT_NAME = {\"one hundred\": 100, \"two hundred\": 200, \"three hundred\": 300, \"four hundred\": 400, \"five hundred\": 500, \"six hundred\": 600, \"seven hundred\": 700, \"eight hundred\": 800, \"nine hundred\": 900}\n",
    "    IRREGULAR_DIGIT_NAME = {\"eleven\": 11, \"twelve\": 12, \"thirteen\": 13, \"fourteen\": 14, \"fifteen\": 15, \"sixteen\": 16, \"seventeen\": 17, \"eighteen\": 18, \"nineteen\": 19}\n",
    "    units_digit, tens_digit, hundreds_digit, irregular_digit = 0, 0, 0, 0\n",
    "\n",
    "    # Calculations:\n",
    "    # Units digit:\n",
    "    units_digit_name = num_name[len(num_name) - num_name[::-1].index(\" \"):]\n",
    "\n",
    "    if units_digit_name in UNITS_DIGIT_NAME:\n",
    "        units_digit = UNITS_DIGIT_NAME[units_digit_name]\n",
    "\n",
    "    # Tens digit:\n",
    "    for key in TENS_DIGIT_NAME:\n",
    "        if key in num_name:\n",
    "            tens_digit = TENS_DIGIT_NAME[key]\n",
    "\n",
    "    # Hundreds digit:\n",
    "    for key in HUNDREDS_DIGIT_NAME:\n",
    "        if key in num_name:\n",
    "            hundreds_digit = HUNDREDS_DIGIT_NAME[key]\n",
    "\n",
    "    # Irregular digit:\n",
    "    for key in IRREGULAR_DIGIT_NAME:\n",
    "        if key in num_name:\n",
    "            irregular_digit = IRREGULAR_DIGIT_NAME[key]\n",
    "\n",
    "    # Output:\n",
    "    return units_digit + tens_digit + hundreds_digit + irregular_digit\n",
    "\n",
    "# Really stupid indexing method:\n",
    "# ------------------------------\n",
    "# units_digit = UNITS_DIGIT_NAME[num_name[::-1][:num_name[::-1].index(\" \")][::-1]]  # Reverse, splice the reversed units digit, reverse it again\n",
    "# tens_digit = TENS_DIGIT_NAME[num_name[::-1][num_name[::-1].index(\" \") + 1:][:num_name[::-1][num_name[::-1].index(\" \") + 1:].index(\" \")][::-1]]  # Reverse, splice at where the first space begins which should now include the tens digit, splice it again at the index of the next space after the tens digit, then reverse it\n",
    "# hundreds_digit = 100 * UNITS_DIGIT_NAME[num_name[:num_name.index(\" \")]]\n",
    "\n",
    "number_speller_3(\"four hundred and thirteen\")"
   ],
   "metadata": {
    "collapsed": false
   }
  },
  {
   "cell_type": "markdown",
   "source": [
    "***\n",
    "(107) Make a function that takes in a string with letters and number as a parameter and returns the string after moving the numbers to the front in the same order."
   ],
   "metadata": {
    "collapsed": false
   }
  },
  {
   "cell_type": "code",
   "execution_count": 41,
   "outputs": [],
   "source": [
    "# Function(s):\n",
    "def string_sorter(s):\n",
    "    # Variable(s):\n",
    "    digit_string, letter_string = \"\", \"\"\n",
    "\n",
    "    # Logic:\n",
    "    for char in s:\n",
    "        if char.isdigit():\n",
    "            digit_string += char\n",
    "\n",
    "        else:\n",
    "            letter_string += char\n",
    "\n",
    "    # Output:\n",
    "    return digit_string + letter_string"
   ],
   "metadata": {
    "collapsed": false
   }
  },
  {
   "cell_type": "markdown",
   "source": [
    "***\n",
    "(108) Make a function named zipper that takes in two strings of equal length as parameters and returns a new string that alternates the elements in each string, where the string starts with the first element of the first parameter."
   ],
   "metadata": {
    "collapsed": false
   }
  },
  {
   "cell_type": "code",
   "execution_count": 42,
   "outputs": [],
   "source": [
    "# Function(s):\n",
    "def zipper(s1, s2):\n",
    "    # Variable(s):\n",
    "    new_string = \"\"\n",
    "\n",
    "    # Logic:\n",
    "    for index in range(len(s1)):\n",
    "        new_string = new_string + s1[index] + s2[index]\n",
    "\n",
    "    # Output:\n",
    "    return new_string"
   ],
   "metadata": {
    "collapsed": false
   }
  },
  {
   "cell_type": "markdown",
   "source": [
    "***\n",
    "(109) Make a function named remove that takes in a string as a parameter and returns the string without (, ), [, ]."
   ],
   "metadata": {
    "collapsed": false
   }
  },
  {
   "cell_type": "code",
   "execution_count": 43,
   "outputs": [],
   "source": [
    "# Function(s):\n",
    "def remove(s):\n",
    "    # Variable(s):\n",
    "    new_string = \"\"\n",
    "\n",
    "    # Logic:\n",
    "    for char in s:\n",
    "        if char != \"(\" and char != \")\" and char != \"[\" and char != \"]\":\n",
    "            new_string += char\n",
    "\n",
    "    # Output:\n",
    "    return new_string"
   ],
   "metadata": {
    "collapsed": false
   }
  },
  {
   "cell_type": "markdown",
   "source": [
    "***\n",
    "(110) Make a function named make_unique that takes an array of numbers as a parameter, and returns a list of the unique numbers in the array."
   ],
   "metadata": {
    "collapsed": false
   }
  },
  {
   "cell_type": "code",
   "execution_count": 44,
   "outputs": [],
   "source": [
    "# Function(s):\n",
    "def make_unique(num_array):\n",
    "    # Variable(s):\n",
    "    unique_array = []\n",
    "\n",
    "    # Logic:\n",
    "    for element in num_array:\n",
    "        if num_array.count(element) == 1:\n",
    "            unique_array.append(element)\n",
    "\n",
    "    # Output:\n",
    "    return unique_array"
   ],
   "metadata": {
    "collapsed": false
   }
  }
 ],
 "metadata": {
  "kernelspec": {
   "display_name": "Python 3",
   "language": "python",
   "name": "python3"
  },
  "language_info": {
   "codemirror_mode": {
    "name": "ipython",
    "version": 2
   },
   "file_extension": ".py",
   "mimetype": "text/x-python",
   "name": "python",
   "nbconvert_exporter": "python",
   "pygments_lexer": "ipython2",
   "version": "2.7.6"
  }
 },
 "nbformat": 4,
 "nbformat_minor": 0
}
