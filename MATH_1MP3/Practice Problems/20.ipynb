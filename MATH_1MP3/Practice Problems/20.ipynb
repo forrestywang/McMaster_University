{
 "cells": [
  {
   "cell_type": "markdown",
   "source": [
    "#### This is the list of solutions to problems 11 - 20 in the MATH 1MP3 Problem Set."
   ],
   "metadata": {
    "collapsed": false
   }
  },
  {
   "cell_type": "markdown",
   "source": [
    "***\n",
    "(11) Given a string, print it in reverse."
   ],
   "metadata": {
    "collapsed": false
   }
  },
  {
   "cell_type": "code",
   "execution_count": null,
   "metadata": {
    "collapsed": true
   },
   "outputs": [],
   "source": [
    "# Variable(s):\n",
    "reverse_string = input(\"Type a string to reverse it: \")\n",
    "\n",
    "# Output:\n",
    "print(reverse_string[::-1])"
   ]
  },
  {
   "cell_type": "markdown",
   "source": [
    "***\n",
    "(12) Given two strings, what is the output of each statement?"
   ],
   "metadata": {
    "collapsed": false
   }
  },
  {
   "cell_type": "code",
   "execution_count": null,
   "outputs": [],
   "source": [
    "# Variable(s):\n",
    "town_1 = \"Halifax NS\"\n",
    "town_2 = \"Toronto ON\"\n",
    "\n",
    "# Output:\n",
    "# print(Halifax in town_1) # Syntax error\n",
    "print(\"Halifax\" in town_1)  # True\n",
    "print(\"TorontoON\" in town_2)  # False\n",
    "print(town_1 + town_2)  # Halifax NSToronto ON\n",
    "print(town_2 + town_1)  # Toronto ONHalifax NS\n",
    "print(town_1 * 3)  # Halifax NSHalifax NSHalifax NS\n",
    "print(town_2 + 2 * town_1)  # Toronto ONHalifax NSHalifax NS\n",
    "print(town_1 + \"and\" + town_2)  # Halifax NSandToronto ON\n",
    "print(town_1 + \" and \" + town_2)  # Halifax NS and Toronto ON"
   ],
   "metadata": {
    "collapsed": false
   }
  },
  {
   "cell_type": "markdown",
   "source": [
    "***\n",
    "(13) Giving a string, print the string concatenated with its reverse."
   ],
   "metadata": {
    "collapsed": false
   }
  },
  {
   "cell_type": "code",
   "execution_count": null,
   "outputs": [],
   "source": [
    "# Variable(s):\n",
    "S = input(\"Type a string to concatenate it with it's reverse: \")\n",
    "\n",
    "# Output:\n",
    "print(S + S[::-1])"
   ],
   "metadata": {
    "collapsed": false
   }
  },
  {
   "cell_type": "markdown",
   "source": [
    "***\n",
    "(14) Given an array, what is the element with index 2?"
   ],
   "metadata": {
    "collapsed": false
   }
  },
  {
   "cell_type": "code",
   "execution_count": null,
   "outputs": [],
   "source": [
    "# Variable(s):\n",
    "A_list = [9, -4, 33, 2, 89, 100, 36, 11]\n",
    "\n",
    "# Output:\n",
    "print(\"A_list[2] =\", A_list[2])  # 33"
   ],
   "metadata": {
    "collapsed": false
   }
  },
  {
   "cell_type": "markdown",
   "source": [
    "***\n",
    "(15) Given an array, what is the element with index 3?"
   ],
   "metadata": {
    "collapsed": false
   }
  },
  {
   "cell_type": "code",
   "execution_count": null,
   "outputs": [],
   "source": [
    "# Variable(s):\n",
    "B_list = [True, False, True, True, False, True, True, True]\n",
    "\n",
    "# Output:\n",
    "print(\"B_list[3] =\", B_list[3])  # True"
   ],
   "metadata": {
    "collapsed": false
   }
  },
  {
   "cell_type": "markdown",
   "source": [
    "***\n",
    "(16) Given a 2D array, what is the element with index 4 and [4][1]?"
   ],
   "metadata": {
    "collapsed": false
   }
  },
  {
   "cell_type": "code",
   "execution_count": null,
   "outputs": [],
   "source": [
    "# Variable(s):\n",
    "C_list = [[9, -4], [33, 2], [89, 100], [36, 11], [0, 6], [1, -2]]\n",
    "\n",
    "# Output:\n",
    "print(\"C_list[4] =\", C_list[4])  # [0, 6]\n",
    "print(\"C_list[4][1] =\", C_list[4][1])  # 6"
   ],
   "metadata": {
    "collapsed": false
   }
  },
  {
   "cell_type": "markdown",
   "source": [
    "***\n",
    "(17) Given a 2D array, what is the element with index 2, [1][0], and [0][1]?"
   ],
   "metadata": {
    "collapsed": false
   }
  },
  {
   "cell_type": "code",
   "execution_count": null,
   "outputs": [],
   "source": [
    "# Variable(s):\n",
    "D_list = [[True, False, True, False], [False, True], [True, True]]\n",
    "\n",
    "# Output:\n",
    "print(\"D_list[2] =\", D_list[2])  # [True, True]\n",
    "print(\"D_list[1][0] =\", D_list[1][0])  # False\n",
    "print(\"D_list[0][1] =\", D_list[0][1])  # False"
   ],
   "metadata": {
    "collapsed": false
   }
  },
  {
   "cell_type": "markdown",
   "source": [
    "***\n",
    "(18) Given a 3 x 2 matrix, represent it as 2D array whose elements are the rows of the matrix, and another 2D array whose elements are the columns of the matrix."
   ],
   "metadata": {
    "collapsed": false
   }
  },
  {
   "cell_type": "code",
   "execution_count": null,
   "outputs": [],
   "source": [
    "# Variable(s):\n",
    "rows = [[1, 21], [3, 16], [5, 43]]\n",
    "columns = [[1, 3, 5], [21, 16, 43]]\n",
    "\n",
    "# Output:\n",
    "print(\"Matrix in rows:\", rows)\n",
    "print(\"Matrix in columns:\", columns)"
   ],
   "metadata": {
    "collapsed": false
   }
  },
  {
   "cell_type": "markdown",
   "source": [
    "***\n",
    "(19) Given an array, what is the output of each statement?"
   ],
   "metadata": {
    "collapsed": false
   }
  },
  {
   "cell_type": "code",
   "execution_count": null,
   "outputs": [],
   "source": [
    "# Variable(s):\n",
    "F_list = [19, -2, 4, 3, -2, -2, 1, 9]\n",
    "\n",
    "# Output:\n",
    "print(F_list[4])  # -2\n",
    "# print(F_list[8])  # Index out of range\n",
    "print(F_list[:4])  # [19, -2, 4, 3]\n",
    "print(F_list[:4:1])  # [19, -2, 4, 3]\n",
    "print(F_list[3::1])  # [3, -2, -2, 1, 9]\n",
    "print(F_list[3:9:1])  # [3, -2, -2, 1, 9]\n",
    "print(F_list[3::2])  # [3, -2, 9]\n",
    "print(F_list[3::3])  # [3, 1]\n",
    "print(F_list[-4:-4])  # []\n",
    "print(F_list[-4:-1])  # [-2, -2, 1]\n",
    "print(F_list[-3:])  # [-2, 1, 9]\n",
    "print(F_list[:-3])  # [19, -2, 4, 3, -2]\n",
    "print(F_list[::-1])  # F_list.reverse()\n",
    "print(F_list[-1:6:-1])  # [9]\n",
    "print(F_list[-9:6:-1])  # []\n",
    "print(F_list[-4:-8:-1])  # [-2, 3, 4, -2]\n",
    "print(F_list[-3::-2])  # [-2, 3, -2]\n",
    "print(F_list[3::-2])  # [3, -2]\n",
    "print(F_list[:-3:-2])  # [9]"
   ],
   "metadata": {
    "collapsed": false
   }
  },
  {
   "cell_type": "markdown",
   "source": [
    "***\n",
    "(20) What is the output of each statement?"
   ],
   "metadata": {
    "collapsed": false
   }
  },
  {
   "cell_type": "code",
   "execution_count": null,
   "outputs": [],
   "source": [
    "# Part A:\n",
    "x = [1, 2, 3, 4, 5]\n",
    "y = x\n",
    "x[1] = 47\n",
    "print(\"y:\", y)  # [1, 47, 3, 4, 5]\n",
    "\n",
    "# Part B:\n",
    "x = [1, 2, 3, 4, 5]\n",
    "y = x\n",
    "y[3] = -4\n",
    "print(\"x:\", x)  # [1, 2, 3, -4, 5]\n",
    "\n",
    "# Part C:\n",
    "x = [1, 2, 3, 4, 5]\n",
    "y = [6, 7]\n",
    "x.extend(y)\n",
    "print(\"x:\", x)  # list(range(1, 8))\n",
    "\n",
    "# Part D:\n",
    "x = [1, 2, 3, 4, 5]\n",
    "y = [6, 7]\n",
    "x.append(y)\n",
    "print(\"x:\", x)  # [1, 2, 3, 4, 5, [6, 7]]\n",
    "\n",
    "# Part E:\n",
    "x = [1, 2, 3, 4, 5]\n",
    "y = [6, 7]\n",
    "z = x + y\n",
    "print(\"z:\", z)  # list(range(1, 8))"
   ],
   "metadata": {
    "collapsed": false
   }
  }
 ],
 "metadata": {
  "kernelspec": {
   "display_name": "Python 3",
   "language": "python",
   "name": "python3"
  },
  "language_info": {
   "codemirror_mode": {
    "name": "ipython",
    "version": 2
   },
   "file_extension": ".py",
   "mimetype": "text/x-python",
   "name": "python",
   "nbconvert_exporter": "python",
   "pygments_lexer": "ipython2",
   "version": "2.7.6"
  }
 },
 "nbformat": 4,
 "nbformat_minor": 0
}
