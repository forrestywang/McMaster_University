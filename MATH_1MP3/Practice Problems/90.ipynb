{
 "cells": [
  {
   "cell_type": "markdown",
   "source": [
    "#### This is the list of solutions to problems 81 - 90 in the MATH 1MP3 Problem Set."
   ],
   "metadata": {
    "collapsed": false
   }
  },
  {
   "cell_type": "markdown",
   "source": [
    "***\n",
    "Import(s):"
   ],
   "metadata": {
    "collapsed": false
   }
  },
  {
   "cell_type": "code",
   "execution_count": null,
   "outputs": [],
   "source": [
    "# Import(s):\n",
    "import numpy as np"
   ],
   "metadata": {
    "collapsed": false
   }
  },
  {
   "cell_type": "markdown",
   "source": [
    "***\n",
    "(81) Make a function that takes an angle in radians, and returns the coterminal angle."
   ],
   "metadata": {
    "collapsed": false
   }
  },
  {
   "cell_type": "code",
   "execution_count": 64,
   "metadata": {
    "collapsed": true
   },
   "outputs": [],
   "source": [
    "# Function(s):\n",
    "def coterminal_angle(angle):\n",
    "    # Calculations:\n",
    "    while angle < 0 or angle >= 2 * np.pi: angle -= np.sign(angle) * 2 * np.pi\n",
    "\n",
    "    # Output:\n",
    "    return angle"
   ]
  },
  {
   "cell_type": "markdown",
   "source": [
    "***\n",
    "(82) Make a function that takes in an angle in radians as a parameter and approximates cos x using the following formula. If the angle is not in the interval [0,2π), then reduce it to the coterminal angle.\n",
    "cos x ≈ 24 ∑ i = 0 -> 24 (x^2i) / (2i)!"
   ],
   "metadata": {
    "collapsed": false
   }
  },
  {
   "cell_type": "code",
   "execution_count": 65,
   "outputs": [],
   "source": [
    "# Function(s):\n",
    "# This approximation is awful\n",
    "def cosine_approximation_1(x):\n",
    "    # Variable(s):\n",
    "    x = coterminal_angle(x)  # Return the coterminal angle of x:\n",
    "    sum = 0\n",
    "\n",
    "    # Calculations:\n",
    "    for i in range(0, 49, 2): sum += x ** i / np.math.factorial(i)\n",
    "\n",
    "    # Output:\n",
    "    return sum"
   ],
   "metadata": {
    "collapsed": false
   }
  },
  {
   "cell_type": "markdown",
   "source": [
    "***\n",
    "(83) Make a function that takes an angle in radians as a parameter, tolerance, and a number of iterations and approximates cos x using the following formula. If the angle is not in the interval [0,2π), then reduce it to the coterminal angle.\n",
    "cos x ≈ 24 ∑ i = 0 -> 24 (x^2i) / (2i)!"
   ],
   "metadata": {
    "collapsed": false
   }
  },
  {
   "cell_type": "code",
   "execution_count": 66,
   "outputs": [],
   "source": [
    "# Function(s):\n",
    "# This approximation is awful\n",
    "def cosine_approximation_2(x, tol=1e-7, max_terms=15):\n",
    "    # Variable(s):\n",
    "    x = coterminal_angle(x)\n",
    "    sum = 0\n",
    "\n",
    "    # Calculations:\n",
    "    for i in range(0,2 * max_terms + 1):\n",
    "        term = x ** i / np.math.factorial(i)\n",
    "\n",
    "        if term < tol: return sum\n",
    "\n",
    "        sum += term\n",
    "\n",
    "    # Output:\n",
    "    return sum"
   ],
   "metadata": {
    "collapsed": false
   }
  },
  {
   "cell_type": "markdown",
   "source": [
    "***\n",
    "(84) Make a function that returns the smallest number of iterations such that ζ(2) approximates π² / 6 with an error less than 1e-6."
   ],
   "metadata": {
    "collapsed": false
   }
  },
  {
   "cell_type": "code",
   "execution_count": 67,
   "outputs": [
    {
     "data": {
      "text/plain": "1000000"
     },
     "execution_count": 67,
     "metadata": {},
     "output_type": "execute_result"
    }
   ],
   "source": [
    "# Function(s):\n",
    "def basel_problem_approximation():\n",
    "    # Variable(s):\n",
    "    approx = np.pi ** 2 / 6\n",
    "    tol = 1e-6\n",
    "    i, sum = 0, 0\n",
    "\n",
    "    # Calculations:\n",
    "    while approx - sum >= tol:\n",
    "        i += 1\n",
    "        sum += 1 / i ** 2\n",
    "\n",
    "    # Output:\n",
    "    return i\n",
    "\n",
    "# Output:\n",
    "basel_problem_approximation()"
   ],
   "metadata": {
    "collapsed": false
   }
  },
  {
   "cell_type": "markdown",
   "source": [
    "***\n",
    "(85) Make a function named exp_sum that takes in an x value and a number of iterations as parameters and returns the taylor series approximation of e^x after a specific number of iterations."
   ],
   "metadata": {
    "collapsed": false
   }
  },
  {
   "cell_type": "code",
   "execution_count": 68,
   "outputs": [],
   "source": [
    "# Function(s)\n",
    "def exp_sum(x, n):\n",
    "    # Variable(s):\n",
    "    sum = 0\n",
    "\n",
    "    # Calculations:\n",
    "    for i in range(n + 1):\n",
    "        sum += x ** i / np.math.factorial(i)\n",
    "\n",
    "    # Output:\n",
    "    return sum"
   ],
   "metadata": {
    "collapsed": false
   }
  },
  {
   "cell_type": "markdown",
   "source": [
    "***\n",
    "(86) Make a function that takes in an x value as a parameter and returns f(x) = e ^ sin(x). Make another function that takes in f(x), a, and h as parameters and returns the derivative of f(x) at a using the difference quotient."
   ],
   "metadata": {
    "collapsed": false
   }
  },
  {
   "cell_type": "code",
   "execution_count": 69,
   "outputs": [],
   "source": [
    "# Function(s):\n",
    "def f(x):\n",
    "    # Output:\n",
    "    return np.exp(np.sin(x))\n",
    "\n",
    "def difference_quotient_1(f, a, h=1e-8):\n",
    "    # Output:\n",
    "    return (f(a + h) - f(a)) / h"
   ],
   "metadata": {
    "collapsed": false
   }
  },
  {
   "cell_type": "markdown",
   "source": [
    "***\n",
    "(87) Make a function that takes in f(x), a, and h as parameters and returns eh derivative of f(x) at a using the difference quotient."
   ],
   "metadata": {
    "collapsed": false
   }
  },
  {
   "cell_type": "code",
   "execution_count": 70,
   "outputs": [],
   "source": [
    "# Function(s):\n",
    "def difference_quotient_2(f, a, h=1e-8):\n",
    "    # Output:\n",
    "    return (f(a + h) - f(a)) / h"
   ],
   "metadata": {
    "collapsed": false
   }
  },
  {
   "cell_type": "markdown",
   "source": [
    "***\n",
    "(88) Make a function that takes in an array as a parameter and returns another array containing the unique entries."
   ],
   "metadata": {
    "collapsed": false
   }
  },
  {
   "cell_type": "code",
   "execution_count": 71,
   "outputs": [],
   "source": [
    "# Function(s):\n",
    "def single_appearance_1(A):\n",
    "    # Variable(s):\n",
    "    unique_list = []\n",
    "\n",
    "    # Calculations:\n",
    "    for entry in A:\n",
    "        if entry not in unique_list:\n",
    "            unique_list.append(entry)\n",
    "\n",
    "    # Output:\n",
    "    return unique_list"
   ],
   "metadata": {
    "collapsed": false
   }
  },
  {
   "cell_type": "markdown",
   "source": [
    "***\n",
    "(89) Make a function that takes in an array of real numbers and a real number M as parameters and removes all elements greater than M and returns it."
   ],
   "metadata": {
    "collapsed": false
   }
  },
  {
   "cell_type": "code",
   "execution_count": 72,
   "outputs": [],
   "source": [
    "# Function(s):\n",
    "def list_trimmer(A, M):\n",
    "    # Variable(s):\n",
    "    new_list = []\n",
    "\n",
    "    # Calculations:\n",
    "    for entry in A:\n",
    "        if entry <= M:\n",
    "            new_list.append(entry)\n",
    "\n",
    "    # Output:\n",
    "    return new_list"
   ],
   "metadata": {
    "collapsed": false
   }
  },
  {
   "cell_type": "markdown",
   "source": [
    "***\n",
    "(90) Make a function that takes a string as a parameter and returns an array of the unique words."
   ],
   "metadata": {
    "collapsed": false
   }
  },
  {
   "cell_type": "code",
   "execution_count": 73,
   "outputs": [
    {
     "data": {
      "text/plain": "['this',\n 'stuff',\n 'about',\n 'earth',\n 'is',\n 'interesting',\n 'on',\n 'process',\n 'seems',\n 'to',\n 'have',\n 'taken',\n 'place',\n 'quite',\n 'suddenly',\n 'nine',\n 'hundred',\n 'million',\n 'years',\n 'ago',\n 'at',\n 'that',\n 'time',\n 'the',\n 'was',\n 'already',\n 'almost',\n 'four',\n 'billion',\n 'old',\n 'and',\n 'had',\n 'been',\n 'inhabited',\n 'by',\n 'some',\n 'simple',\n 'life',\n 'forms',\n 'such',\n 'as',\n 'bacteria',\n 'for',\n 'much',\n 'of']"
     },
     "execution_count": 73,
     "metadata": {},
     "output_type": "execute_result"
    }
   ],
   "source": [
    "# Function(s):\n",
    "def single_appearance_2(str):\n",
    "    # Variable(s):\n",
    "    unique_list = []\n",
    "    start = 0\n",
    "\n",
    "    # Logic:\n",
    "    str = str.lower()\n",
    "    str = str.replace(\".\", \"\")\n",
    "    str = str.replace(\",\", \"\")\n",
    "    str = str.strip()\n",
    "    str = str + \" \"\n",
    "\n",
    "    # Accesses each word in the string:\n",
    "    for index in range(len(str)):\n",
    "        if str[index] == \" \":\n",
    "            word = str[start:index]  # Splices the word\n",
    "\n",
    "            # Appends unique words to the unique_list:\n",
    "            if word not in unique_list:\n",
    "                unique_list.append(word)\n",
    "\n",
    "            start = index + 1  # Moves the starting index\n",
    "\n",
    "    # Output:\n",
    "    return unique_list\n",
    "\n",
    "single_appearance_2(\"This stuff about Earth is interesting. On Earth this process seems to have taken place quite suddenly about nine hundred million years ago. At that time the Earth was already almost four billion years old, and had been inhabited by some simple life forms such as bacteria for much of that time.\")"
   ],
   "metadata": {
    "collapsed": false
   }
  }
 ],
 "metadata": {
  "kernelspec": {
   "display_name": "Python 3",
   "language": "python",
   "name": "python3"
  },
  "language_info": {
   "codemirror_mode": {
    "name": "ipython",
    "version": 2
   },
   "file_extension": ".py",
   "mimetype": "text/x-python",
   "name": "python",
   "nbconvert_exporter": "python",
   "pygments_lexer": "ipython2",
   "version": "2.7.6"
  }
 },
 "nbformat": 4,
 "nbformat_minor": 0
}
