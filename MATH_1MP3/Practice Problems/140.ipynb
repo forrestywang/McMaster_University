{
 "cells": [
  {
   "cell_type": "markdown",
   "source": [
    "#### This is the list of solutions to problems 131 - 140 in the MATH 1MP3 Problem Set."
   ],
   "metadata": {
    "collapsed": false
   }
  },
  {
   "cell_type": "markdown",
   "source": [
    "***\n",
    "Import(s):"
   ],
   "metadata": {
    "collapsed": false
   }
  },
  {
   "cell_type": "code",
   "execution_count": 3,
   "outputs": [],
   "source": [
    "# Import(s):\n",
    "import numpy as np"
   ],
   "metadata": {
    "collapsed": false,
    "ExecuteTime": {
     "start_time": "2023-04-27T17:21:35.787127Z",
     "end_time": "2023-04-27T17:21:35.905905Z"
    }
   }
  },
  {
   "cell_type": "markdown",
   "source": [
    "***\n",
    "(131) Make a function that takes in a mxn NumPy array as a parameter and returns the same array but surrounded by a row and column of zeros."
   ],
   "metadata": {
    "collapsed": false
   }
  },
  {
   "cell_type": "code",
   "execution_count": 30,
   "metadata": {
    "collapsed": true,
    "ExecuteTime": {
     "start_time": "2023-04-27T14:59:51.928032Z",
     "end_time": "2023-04-27T14:59:51.954219Z"
    }
   },
   "outputs": [],
   "source": [
    "# Function(s):\n",
    "def surround_zeros(M):\n",
    "    # Variable(s):\n",
    "    rows, columns = M.shape\n",
    "    columns += 2\n",
    "\n",
    "    zero_column = np.zeros(rows).reshape(rows, 1)\n",
    "    zero_row = np.zeros(columns).reshape(1, columns)\n",
    "\n",
    "    # Logic:\n",
    "    M = np.concatenate((zero_column, M, zero_column), axis=1)\n",
    "    M = np.concatenate((zero_row, M, zero_row), axis=0)\n",
    "\n",
    "    # Output:\n",
    "    return M"
   ]
  },
  {
   "cell_type": "markdown",
   "source": [
    "***\n",
    "(132) Make a function that returns the following 8x8 NumPy array. See the practice problem set for the array."
   ],
   "metadata": {
    "collapsed": false
   }
  },
  {
   "cell_type": "code",
   "execution_count": 4,
   "outputs": [
    {
     "data": {
      "text/plain": "array([[1., 0., 1., 0., 1., 0., 1., 0.],\n       [0., 1., 0., 1., 0., 1., 0., 1.],\n       [1., 0., 1., 0., 1., 0., 1., 0.],\n       [0., 1., 0., 1., 0., 1., 0., 1.],\n       [1., 0., 1., 0., 1., 0., 1., 0.],\n       [0., 1., 0., 1., 0., 1., 0., 1.],\n       [1., 0., 1., 0., 1., 0., 1., 0.],\n       [0., 1., 0., 1., 0., 1., 0., 1.]])"
     },
     "execution_count": 4,
     "metadata": {},
     "output_type": "execute_result"
    }
   ],
   "source": [
    "# Function(s):\n",
    "def array_generator_1():\n",
    "    # Variable(s):\n",
    "    matrix = np.zeros((8, 8))\n",
    "\n",
    "    # Logic:\n",
    "    for i in range(8):\n",
    "        for j in range(8):\n",
    "            if (i + j) % 2 == 0:\n",
    "                matrix[i, j] = 1\n",
    "\n",
    "    # Output:\n",
    "    return matrix\n",
    "\n",
    "# Output:\n",
    "array_generator_1()"
   ],
   "metadata": {
    "collapsed": false,
    "ExecuteTime": {
     "start_time": "2023-04-27T17:21:38.397388Z",
     "end_time": "2023-04-27T17:21:38.442299Z"
    }
   }
  },
  {
   "cell_type": "markdown",
   "source": [
    "***\n",
    "(133) Make a function that returns the following 8x8 NumPy array. See the practice problem set for the array."
   ],
   "metadata": {
    "collapsed": false
   }
  },
  {
   "cell_type": "code",
   "execution_count": 7,
   "outputs": [
    {
     "data": {
      "text/plain": "array([[1., 0., 1., 0., 1., 0., 1., 0.],\n       [0., 2., 0., 2., 0., 2., 0., 2.],\n       [3., 0., 3., 0., 3., 0., 3., 0.],\n       [0., 4., 0., 4., 0., 4., 0., 4.],\n       [5., 0., 5., 0., 5., 0., 5., 0.],\n       [0., 6., 0., 6., 0., 6., 0., 6.],\n       [7., 0., 7., 0., 7., 0., 7., 0.],\n       [0., 8., 0., 8., 0., 8., 0., 8.]])"
     },
     "execution_count": 7,
     "metadata": {},
     "output_type": "execute_result"
    }
   ],
   "source": [
    "# Function(s):\n",
    "def array_generator_2():\n",
    "    # Variable(s):\n",
    "    matrix = np.zeros((8, 8))\n",
    "\n",
    "    # Logic:\n",
    "    for i in range(8):\n",
    "        for j in range(8):\n",
    "            if (i + j) % 2 == 0:\n",
    "                matrix[i, j] = i + 1\n",
    "\n",
    "    # Output:\n",
    "    return matrix\n",
    "\n",
    "# Output:\n",
    "array_generator_2()"
   ],
   "metadata": {
    "collapsed": false,
    "ExecuteTime": {
     "start_time": "2023-04-27T17:23:26.525030Z",
     "end_time": "2023-04-27T17:23:26.553368Z"
    }
   }
  },
  {
   "cell_type": "markdown",
   "source": [
    "***\n",
    "(134) Make a function that takes in m, a, and b as parameters and returns a mxm matrix where all entries along the diagonal are a and all other entries are b."
   ],
   "metadata": {
    "collapsed": false
   }
  },
  {
   "cell_type": "code",
   "execution_count": 13,
   "outputs": [],
   "source": [
    "# Function(s):\n",
    "def matrix_ab(m, a, b):\n",
    "    # Variable(s):\n",
    "    matrix = np.full((m, m), b)\n",
    "\n",
    "    # Calculations:\n",
    "    for i in range(m):\n",
    "        matrix[i, i] = a\n",
    "\n",
    "    # Output:\n",
    "    return matrix"
   ],
   "metadata": {
    "collapsed": false,
    "ExecuteTime": {
     "start_time": "2023-04-27T14:39:02.473172Z",
     "end_time": "2023-04-27T14:39:02.490374Z"
    }
   }
  },
  {
   "cell_type": "markdown",
   "source": [
    "***\n",
    "(135) Make a function that takes in two 1D lists A and B as parameters and returns a list of indices where the entries in A and B match."
   ],
   "metadata": {
    "collapsed": false
   }
  },
  {
   "cell_type": "code",
   "execution_count": 15,
   "outputs": [],
   "source": [
    "# Function(s):\n",
    "def compare_list(A, B):\n",
    "    # Variable(s):\n",
    "    C = []\n",
    "\n",
    "    # Calculations:\n",
    "    for element in A:\n",
    "        if element in B:\n",
    "            C.append(A.index(element))\n",
    "\n",
    "    # Output:\n",
    "    return C"
   ],
   "metadata": {
    "collapsed": false,
    "ExecuteTime": {
     "start_time": "2023-04-27T14:42:47.750864Z",
     "end_time": "2023-04-27T14:42:47.770376Z"
    }
   }
  },
  {
   "cell_type": "markdown",
   "source": [
    "***\n",
    "(136) Make a function that takes in two 1D lists A and B as parameters and returns a list representing the cartesian product of A and B."
   ],
   "metadata": {
    "collapsed": false
   }
  },
  {
   "cell_type": "code",
   "execution_count": null,
   "outputs": [],
   "source": [
    "# Function(s):\n",
    "def cartesian_product(A, B):\n",
    "    # Variable(s):\n",
    "    cartesian_product_list = []\n",
    "\n",
    "    # Logic:\n",
    "    for a in A:\n",
    "        for b in B:\n",
    "            cartesian_product_list.append([a, b])\n",
    "\n",
    "    # Output:\n",
    "    return cartesian_product_list"
   ],
   "metadata": {
    "collapsed": false
   }
  },
  {
   "cell_type": "markdown",
   "source": [
    "***\n",
    "(137) Make a function that takes in A and n as parameters where A is a list of m(n) numbers and reshapes A to the shape (m, n)."
   ],
   "metadata": {
    "collapsed": false
   }
  },
  {
   "cell_type": "code",
   "execution_count": 12,
   "outputs": [
    {
     "data": {
      "text/plain": "[[1, 2, 3, 4], [5, 6, 7, 8]]"
     },
     "execution_count": 12,
     "metadata": {},
     "output_type": "execute_result"
    }
   ],
   "source": [
    "# Function(s):\n",
    "def create_array_1(A, n):\n",
    "    # Variable(s):\n",
    "    reshaped_array, row = [], []\n",
    "\n",
    "    # Logic:\n",
    "    for a in A:\n",
    "        if len(row) < n:\n",
    "            row.append(a)\n",
    "        else:\n",
    "            reshaped_array.append(row)\n",
    "            row = [a]\n",
    "\n",
    "    reshaped_array.append(row)\n",
    "\n",
    "    # Output:\n",
    "    return reshaped_array\n",
    "\n",
    "create_array_1([1, 2, 3, 4, 5, 6, 7, 8], 4)"
   ],
   "metadata": {
    "collapsed": false,
    "ExecuteTime": {
     "start_time": "2023-04-27T15:21:19.899143Z",
     "end_time": "2023-04-27T15:21:19.921237Z"
    }
   }
  },
  {
   "cell_type": "markdown",
   "source": [
    "***\n",
    "(138) Make a function that takes in a list of numbers and returns a square zero matrix with the list of numbers as diagonal entries."
   ],
   "metadata": {
    "collapsed": false
   }
  },
  {
   "cell_type": "code",
   "execution_count": 17,
   "outputs": [],
   "source": [
    "# Function(s):\n",
    "def create_array_2(L):\n",
    "    # Variable(s):\n",
    "    length = len(L)\n",
    "    matrix = np.zeros((length, length))\n",
    "\n",
    "    # Calculations:\n",
    "    for i in range(length):\n",
    "        matrix[i, i] = L[i]\n",
    "\n",
    "    # Output:\n",
    "    return matrix"
   ],
   "metadata": {
    "collapsed": false,
    "ExecuteTime": {
     "start_time": "2023-04-27T14:46:07.081298Z",
     "end_time": "2023-04-27T14:46:07.087296Z"
    }
   }
  },
  {
   "cell_type": "markdown",
   "source": [
    "***\n",
    "(139) Given a NumPy array L, predict what each print statement outputs."
   ],
   "metadata": {
    "collapsed": false
   }
  },
  {
   "cell_type": "code",
   "execution_count": 11,
   "outputs": [
    {
     "name": "stdout",
     "output_type": "stream",
     "text": [
      "[False False False  True False  True  True  True  True]\n",
      "[ True  True  True False  True False False False False]\n",
      "[ True False  True False  True  True False  True False]\n",
      "[ True  True  True  True False  True  True  True  True]\n",
      "[False False False  True  True  True  True  True  True]\n",
      "[False False False  True False  True False False  True]\n",
      "[ True  True  True False False False False False False]\n"
     ]
    }
   ],
   "source": [
    "# Variable(s):\n",
    "L = np.array([-2, -3, -6, 9, 0, 8, 7, 6, 9])\n",
    "\n",
    "# Output:\n",
    "print(L > 0)  # [False False False True False True True True True]\n",
    "print(L <= 0)  # [True True True False True False False False False]\n",
    "print(L % 2 == 0)  # [True False True False True True False True False]\n",
    "print(pow(L, 2) > 0)  # [True True True True False True True True True]\n",
    "print(np.logical_or(-1 < L, L > 7))  # [False False False True True True True True True]\n",
    "print(np.logical_and(-1 < L, L > 7))  # [False False False True False True False False True]\n",
    "print(np.logical_not(-1 < L))  # [True True True False False False False False False]"
   ],
   "metadata": {
    "collapsed": false,
    "ExecuteTime": {
     "start_time": "2023-04-27T14:33:49.269103Z",
     "end_time": "2023-04-27T14:33:49.285943Z"
    }
   }
  },
  {
   "cell_type": "markdown",
   "source": [
    "***\n",
    "(140) Given two NumPy arrays A and B, predict what each print statement outputs."
   ],
   "metadata": {
    "collapsed": false
   }
  },
  {
   "cell_type": "code",
   "execution_count": null,
   "outputs": [],
   "source": [
    "# Variable(s):\n",
    "A = np.arange(1, 11)  # [1 2 3 4 5 6 7 8 9 10]\n",
    "B = np.arange(-6, 13, 2)  # [-6 -4 -2 0 2 4 6 8 10 12]\n",
    "\n",
    "# Output:\n",
    "print(A > B)  # [True True True True True True True False False False]\n",
    "print(A > pow(B, 2))  # [False False True True False False False False False False]\n",
    "print(A - B != 0)  # [True True True True True True True False True True]\n",
    "print(A - B == 4)  # [False False False True False False False False False False]"
   ],
   "metadata": {
    "collapsed": false
   }
  }
 ],
 "metadata": {
  "kernelspec": {
   "display_name": "Python 3",
   "language": "python",
   "name": "python3"
  },
  "language_info": {
   "codemirror_mode": {
    "name": "ipython",
    "version": 2
   },
   "file_extension": ".py",
   "mimetype": "text/x-python",
   "name": "python",
   "nbconvert_exporter": "python",
   "pygments_lexer": "ipython2",
   "version": "2.7.6"
  }
 },
 "nbformat": 4,
 "nbformat_minor": 0
}
