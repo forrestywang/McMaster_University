{
 "cells": [
  {
   "cell_type": "markdown",
   "source": [
    "#### This is the list of solutions to problems 21 - 30 in the MATH 1MP3 Problem Set."
   ],
   "metadata": {
    "collapsed": false
   }
  },
  {
   "cell_type": "markdown",
   "source": [
    "***\n",
    "(21) Make a function that has the same effect as the .append(element) method."
   ],
   "metadata": {
    "collapsed": false
   }
  },
  {
   "cell_type": "code",
   "execution_count": null,
   "metadata": {
    "collapsed": true
   },
   "outputs": [],
   "source": [
    "# Function(s):\n",
    "def append(list_1, a): list_1 += [a]"
   ]
  },
  {
   "cell_type": "markdown",
   "source": [
    "***\n",
    "(22) Make a function that has the same effect as the .insert(position, element) method."
   ],
   "metadata": {
    "collapsed": false
   }
  },
  {
   "cell_type": "code",
   "execution_count": null,
   "outputs": [],
   "source": [
    "# Function(s):\n",
    "def insert(list_2, index, a): return list_2[:index] + [a] + list_2[index:]"
   ],
   "metadata": {
    "collapsed": false
   }
  },
  {
   "cell_type": "markdown",
   "source": [
    "***\n",
    "(23) Make a function that has the same effect as the .pop(index) method."
   ],
   "metadata": {
    "collapsed": false
   }
  },
  {
   "cell_type": "code",
   "execution_count": null,
   "outputs": [],
   "source": [
    "# Function(s):\n",
    "def pop(list_3, index): return list_3[:index] + list_3[index + 1:]"
   ],
   "metadata": {
    "collapsed": false
   }
  },
  {
   "cell_type": "markdown",
   "source": [
    "***\n",
    "(24) Make a function that takes a real number as an input and prints whether input < 0, or input 0 <= input < 4, or input >= 4"
   ],
   "metadata": {
    "collapsed": false
   }
  },
  {
   "cell_type": "code",
   "execution_count": null,
   "outputs": [],
   "source": [
    "# Variable(s):\n",
    "number = float(input(\"Enter a real number: \"))\n",
    "\n",
    "# Function(s):\n",
    "def number_sorter(num):\n",
    "    if num < 0: print(\"The number is negative.\")\n",
    "\n",
    "    elif num >= 4: print(\"The number is larger than or equal to 4.\")\n",
    "\n",
    "    else:print(\"The number is zero or smaller than 4.\")\n",
    "\n",
    "# Output:\n",
    "number_sorter(number)"
   ],
   "metadata": {
    "collapsed": false
   }
  },
  {
   "cell_type": "markdown",
   "source": [
    "***\n",
    "(25) Make a function that takes a natural number as an input and prints whether input is divisible by 3 or 4."
   ],
   "metadata": {
    "collapsed": false
   }
  },
  {
   "cell_type": "code",
   "execution_count": null,
   "outputs": [],
   "source": [
    "# Variable(s):\n",
    "number = int(input(\"Enter a natural number: \"))\n",
    "\n",
    "# Function(s):\n",
    "def is_divisible(num):\n",
    "    if num % 3 == 0 % num % 4 != 0: print(\"the number is divisible by 3 but not divisible by 4\")\n",
    "\n",
    "    elif num % 3 != 0 % num % 4 == 0: print(\"the number is divisible by 4 but not divisible by 3\")\n",
    "\n",
    "    elif num % 3 == 0 % num % 4 == 0: print(\"the number is divisible by both 3 and 4\")\n",
    "\n",
    "    else: print(\"the number is not divisible by 3 and not divisible by 4\")\n",
    "\n",
    "# Output:\n",
    "is_divisible(number)"
   ],
   "metadata": {
    "collapsed": false
   }
  },
  {
   "cell_type": "markdown",
   "source": [
    "***\n",
    "(26) Make a function that outputs the largest out of three distinct numbers."
   ],
   "metadata": {
    "collapsed": false
   }
  },
  {
   "cell_type": "code",
   "execution_count": null,
   "outputs": [],
   "source": [
    "# Variable(s):\n",
    "print(\"Enter three distinct numbers:\")\n",
    "int1 = int(input(\"Enter the first number: \"))\n",
    "int2 = int(input(\"Enter the second number: \"))\n",
    "int3 = int(input(\"Enter the third number: \"))\n",
    "\n",
    "# Function(s):\n",
    "def largest_number_1(a, b, c):\n",
    "    if a > b > c or a > c > b: print(a, \"is the greatest number.\")\n",
    "\n",
    "    elif b > a > c or b > c > a: print(b, \"is the greatest number.\")\n",
    "\n",
    "    else: print(c, \"is the greatest number.\")\n",
    "\n",
    "# Output:\n",
    "largest_number_1(int1, int2, int3)"
   ],
   "metadata": {
    "collapsed": false
   }
  },
  {
   "cell_type": "markdown",
   "source": [
    "***\n",
    "(27) Make a function that outputs the largest out of three numbers."
   ],
   "metadata": {
    "collapsed": false
   }
  },
  {
   "cell_type": "code",
   "execution_count": null,
   "outputs": [],
   "source": [
    "# Variable(s):\n",
    "print(\"Enter three numbers:\")\n",
    "int1 = int(input(\"Enter the first number: \"))\n",
    "int2 = int(input(\"Enter the second number: \"))\n",
    "int3 = int(input(\"Enter the third number: \"))\n",
    "\n",
    "# Function(s):\n",
    "def largest_number_2(a, b, c):\n",
    "    if a >= b >= c or a >= c >= b: print(a, \"is the greatest number.\")\n",
    "\n",
    "    elif b >= a >= c or b >= c >= a: print(b, \"is the greatest number.\")\n",
    "\n",
    "    else: print(c, \"is the greatest number.\")\n",
    "\n",
    "# Output:\n",
    "largest_number_2(int1, int2, int3)"
   ],
   "metadata": {
    "collapsed": false
   }
  },
  {
   "cell_type": "markdown",
   "source": [
    "***\n",
    "(28) Make a function that takes in a year as an input and outputs if it is a leap year."
   ],
   "metadata": {
    "collapsed": false
   }
  },
  {
   "cell_type": "code",
   "execution_count": null,
   "outputs": [],
   "source": [
    "# Variable(s):\n",
    "year = int(input(\"Enter a year between 1600 and 2200: \"))\n",
    "\n",
    "# Function(s):\n",
    "def leap_year(yr):\n",
    "    if yr % 4 == 0:\n",
    "        if yr % 100 == 0 and yr % 400 != 0: print(yr, \"is not a leap year.\")\n",
    "\n",
    "        else: print(yr, \"is a leap year.\")\n",
    "\n",
    "    else: print(yr, \"is a leap year.\")\n",
    "\n",
    "# Output:\n",
    "leap_year(year)"
   ],
   "metadata": {
    "collapsed": false
   }
  },
  {
   "cell_type": "markdown",
   "source": [
    "***\n",
    "(29) Make a function that takes in a speed in km/h and if it is your birthday and outputs the fine."
   ],
   "metadata": {
    "collapsed": false
   }
  },
  {
   "cell_type": "code",
   "execution_count": null,
   "outputs": [],
   "source": [
    "# Variable(s):\n",
    "current_speed = int(input(\"Enter your current speed: \"))\n",
    "date = input(\"Enter today's date in MM/DD/YYYY: \")\n",
    "birthday = False\n",
    "\n",
    "if date == \"12/28/2004\": birthday = True\n",
    "\n",
    "# Function(s):\n",
    "def fine(speed, isBirthday):\n",
    "    if not isBirthday:\n",
    "        if speed <= 110: print(\"Fine: $0\")\n",
    "\n",
    "        elif 111 <= speed <= 130: print(\"Fine: $150\")\n",
    "\n",
    "        elif speed < 130: print(\"Fine: $350\")\n",
    "\n",
    "    else:\n",
    "        if speed <= 115: print(\"Fine: $0\")\n",
    "\n",
    "        elif 116 <= speed <= 135: print(\"Fine: $150\")\n",
    "\n",
    "        elif speed < 135: print(\"Fine: $350\")\n",
    "\n",
    "# Output:\n",
    "fine(current_speed, birthday)"
   ],
   "metadata": {
    "collapsed": false
   }
  },
  {
   "cell_type": "markdown",
   "source": [
    "***\n",
    "(30) Make a function that takes an array and an element as an input and returns the number of times the element appears in the array."
   ],
   "metadata": {
    "collapsed": false
   }
  },
  {
   "cell_type": "code",
   "execution_count": null,
   "outputs": [],
   "source": [
    "# Function(s)\n",
    "def number_of_occurrences(list_4, a):\n",
    "    count = 0\n",
    "\n",
    "    for x in list_4:\n",
    "        if x == a: count += 1\n",
    "\n",
    "    return count"
   ],
   "metadata": {
    "collapsed": false
   }
  }
 ],
 "metadata": {
  "kernelspec": {
   "display_name": "Python 3",
   "language": "python",
   "name": "python3"
  },
  "language_info": {
   "codemirror_mode": {
    "name": "ipython",
    "version": 2
   },
   "file_extension": ".py",
   "mimetype": "text/x-python",
   "name": "python",
   "nbconvert_exporter": "python",
   "pygments_lexer": "ipython2",
   "version": "2.7.6"
  }
 },
 "nbformat": 4,
 "nbformat_minor": 0
}
