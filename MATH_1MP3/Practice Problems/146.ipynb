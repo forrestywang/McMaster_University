{
 "cells": [
  {
   "cell_type": "markdown",
   "source": [
    "#### This is the list of solutions to problems 141 - 146 in the MATH 1MP3 Problem Set."
   ],
   "metadata": {
    "collapsed": false
   }
  },
  {
   "cell_type": "markdown",
   "source": [
    "***\n",
    "Import(s):"
   ],
   "metadata": {
    "collapsed": false
   }
  },
  {
   "cell_type": "code",
   "execution_count": 1,
   "outputs": [],
   "source": [
    "# Import(s):\n",
    "import numpy as np"
   ],
   "metadata": {
    "collapsed": false,
    "ExecuteTime": {
     "end_time": "2023-05-23T13:35:41.104827700Z",
     "start_time": "2023-05-23T13:35:40.164700900Z"
    }
   }
  },
  {
   "cell_type": "markdown",
   "source": [
    "***\n",
    "(141) Given two NumPy arrays A and B, predict what each print statement outputs."
   ],
   "metadata": {
    "collapsed": false
   }
  },
  {
   "cell_type": "code",
   "execution_count": 2,
   "metadata": {
    "collapsed": true,
    "ExecuteTime": {
     "end_time": "2023-05-23T13:35:41.153075Z",
     "start_time": "2023-05-23T13:35:40.609709300Z"
    }
   },
   "outputs": [
    {
     "name": "stdout",
     "output_type": "stream",
     "text": [
      "[ 1  2  3  4 55 55 55 55 55 55]\n",
      "[ 1  2  3  4  5  6 55 55 55 55]\n",
      "[  1   2   3   4   5   6   7 333   9  10]\n",
      "[ 1  2  3  4  5 17 17 17 17 17]\n"
     ]
    }
   ],
   "source": [
    "# Variable(s):\n",
    "A = np.arange(1, 11)  # [1 2 3 4 5 6 7 8 9 10]\n",
    "B = np.arange(-6, 13, 2)  # [-6 -4 -2 0 2 4 6 8 10 12]\n",
    "\n",
    "# Output:\n",
    "A[A > 4] = 55\n",
    "print(A)  # [1 2 3 4 55 55 55 55 55 55]\n",
    "\n",
    "A = np.arange(1, 11)\n",
    "A[B > 4] = 55\n",
    "print(A)  # [1 2 3 4 5 6 55 55 55 55]\n",
    "\n",
    "A = np.arange(1, 11)\n",
    "A[A == B] = 333\n",
    "print(A)  # [1 2 3 4 5 6 7 333 9 10]\n",
    "\n",
    "A = np.arange(1, 11)\n",
    "A[np.abs(A - B) <= 2] = 17\n",
    "print(A)  # [1 2 3 4 5 17 17 17 17 17]"
   ]
  },
  {
   "cell_type": "markdown",
   "source": [
    "***\n",
    "(142) Given a NumPy arrays M, predict what each print statement outputs."
   ],
   "metadata": {
    "collapsed": false
   }
  },
  {
   "cell_type": "code",
   "execution_count": 3,
   "outputs": [
    {
     "name": "stdout",
     "output_type": "stream",
     "text": [
      "[[ True  True  True  True]\n",
      " [ True  True  True  True]\n",
      " [False False False False]]\n",
      "[[False False False  True]\n",
      " [ True  True  True  True]\n",
      " [False False False False]]\n",
      "[[False False False False]\n",
      " [ True  True  True  True]\n",
      " [ True  True  True  True]]\n",
      "[[ True  True  True  True]\n",
      " [ True  True  True  True]\n",
      " [False False False False]]\n"
     ]
    }
   ],
   "source": [
    "# Variable(s):\n",
    "M = np.arange(-5, 7).reshape(3, 4)  # [[-5 -4 -3 -2] [-1 0 1 2] [3 4 5 6]]\n",
    "\n",
    "# Output:\n",
    "print(M <= 2)  # [[True True True True] [True True True True] [False False False False]]\n",
    "print(pow(M, 2) <= 4)  # [[False False False True] [True True True True] [False False False False]]\n",
    "print(np.logical_or(-2 < M, M > 2))  # [[False False False False] [True True True True] [True True True True]]\n",
    "print(np.logical_not(M > 2))  # [[True True True True] [True True True True] [False False False False]]"
   ],
   "metadata": {
    "collapsed": false,
    "ExecuteTime": {
     "end_time": "2023-05-23T13:35:41.157069900Z",
     "start_time": "2023-05-23T13:35:40.633712300Z"
    }
   }
  },
  {
   "cell_type": "markdown",
   "source": [
    "***\n",
    "(143) Given a NumPy array M, predict what each print statement outputs."
   ],
   "metadata": {
    "collapsed": false
   }
  },
  {
   "cell_type": "code",
   "execution_count": 4,
   "outputs": [
    {
     "name": "stdout",
     "output_type": "stream",
     "text": [
      "[5 6]\n",
      "[4]\n",
      "[3 4 5 6]\n",
      "[1 2 3 4 5 6]\n"
     ]
    }
   ],
   "source": [
    "# Variable(s):\n",
    "M = np.arange(-5, 7).reshape(3, 4)  # [[-5 -4 -3 -2] [-1 0 1 2] [3 4 5 6]]\n",
    "\n",
    "# Output:\n",
    "print(M[M > 4])  # [5 6]\n",
    "print(M[M == 4])  # [4]\n",
    "print(M[2 * M - 5 > 0])  # [3 4 5 6]\n",
    "print(M[np.exp(M) > 1])  # [1 2 3 4 5 6]"
   ],
   "metadata": {
    "collapsed": false,
    "ExecuteTime": {
     "end_time": "2023-05-23T13:35:41.161085500Z",
     "start_time": "2023-05-23T13:35:40.654238300Z"
    }
   }
  },
  {
   "cell_type": "markdown",
   "source": [
    "***\n",
    "(144) Given a NumPy array M, predict what each print statement outputs."
   ],
   "metadata": {
    "collapsed": false
   }
  },
  {
   "cell_type": "code",
   "execution_count": 5,
   "outputs": [
    {
     "name": "stdout",
     "output_type": "stream",
     "text": [
      "[[-5 -4 -3 -2]\n",
      " [-1  0  1  1]\n",
      " [ 1  1  1  1]]\n",
      "[[-5 -4 -3 -2]\n",
      " [-1 -6 -6 -6]\n",
      " [-6 -6 -6 -6]]\n",
      "[[ -5  -4  -3  -2]\n",
      " [ -1 100   1   2]\n",
      " [  3   4   5   6]]\n",
      "[[-5 77 -3 77]\n",
      " [-1 77  1 77]\n",
      " [ 3 77  5 77]]\n"
     ]
    }
   ],
   "source": [
    "# Variable(s):\n",
    "M = np.arange(-5, 7).reshape(3, 4)  # [[-5 -4 -3 -2] [-1 0 1 2] [3 4 5 6]]\n",
    "\n",
    "# Output:\n",
    "M[M > 0] = 1\n",
    "print(M)  # [[-5 -4 -3 -2] [-1 0 1 1] [1 1 1 1]]\n",
    "\n",
    "M = np.arange(-5, 7).reshape(3, 4)\n",
    "M[M >= 0] = -6\n",
    "print(M)  # [[-5 -4 -3 -2] [-1 -6 -6 -6] [-6 -6 -6 -6]]\n",
    "\n",
    "M = np.arange(-5, 7).reshape(3, 4)\n",
    "M[M == 0] = 100\n",
    "print(M)  # [[-5 -4 -3 -2] [-1 100 1 2] [3 4 5 6]]\n",
    "\n",
    "M = np.arange(-5, 7).reshape(3, 4)\n",
    "M[M % 2 == 0] = 77\n",
    "print(M)  # [[-5 77 -3 77] [-1 77 1 77] [3 77 5 77]]"
   ],
   "metadata": {
    "collapsed": false,
    "ExecuteTime": {
     "end_time": "2023-05-23T13:35:41.202092600Z",
     "start_time": "2023-05-23T13:35:40.686230500Z"
    }
   }
  },
  {
   "cell_type": "markdown",
   "source": [
    "***\n",
    "(145) Make functions that take in a non-zero 2D matrix M of type float and returns a logical NumPy array L whose entry is True if:\n",
    "1: M[i, j] >= 0.\n",
    "2: M[i, j] >= np.mean(M).\n",
    "3: M[i, j] == np.amax(M, axis=1)."
   ],
   "metadata": {
    "collapsed": false
   }
  },
  {
   "cell_type": "code",
   "execution_count": 6,
   "outputs": [],
   "source": [
    "# Function(s):\n",
    "def logical_positive(M):\n",
    "    # Output:\n",
    "    return M >= 0\n",
    "\n",
    "def logical_above_mean(M):\n",
    "    # Output:\n",
    "    return M >= np.mean(M)\n",
    "\n",
    "def logical_max_row(M):\n",
    "    # Output:\n",
    "    return M == np.amax(M, axis=1)"
   ],
   "metadata": {
    "collapsed": false,
    "ExecuteTime": {
     "end_time": "2023-05-23T13:35:41.202092600Z",
     "start_time": "2023-05-23T13:35:40.694243700Z"
    }
   }
  },
  {
   "cell_type": "markdown",
   "source": [
    "***\n",
    "(146) Make functions that take in a non-zero 2D matrix M of type float and:\n",
    "1: Returns M[M > 4].\n",
    "2: Returns M[M > np.mean(M)].\n",
    "3: Replaces all entries greater than 5 with 0.\n",
    "4: Replaces all entries greater than the mean with the mean."
   ],
   "metadata": {
    "collapsed": false
   }
  },
  {
   "cell_type": "code",
   "execution_count": 7,
   "outputs": [],
   "source": [
    "# Function(s):\n",
    "def above_4(M):\n",
    "    # Output:\n",
    "    return M[M > 4]\n",
    "\n",
    "def above_mean(M):\n",
    "    # Output:\n",
    "    return M[M > np.mean(M)]\n",
    "\n",
    "def replace_5(M):\n",
    "    # Logic:\n",
    "    M[M == 5] = 0\n",
    "\n",
    "    # Output:\n",
    "    return M\n",
    "\n",
    "def replace_above_mean(M):\n",
    "    # Variable(s):\n",
    "    mean = np.mean(M)\n",
    "\n",
    "    # Logic:\n",
    "    M[M > mean] = mean\n",
    "\n",
    "    # Output:\n",
    "    return M"
   ],
   "metadata": {
    "collapsed": false,
    "ExecuteTime": {
     "end_time": "2023-05-23T13:35:41.206622700Z",
     "start_time": "2023-05-23T13:35:40.713826Z"
    }
   }
  }
 ],
 "metadata": {
  "kernelspec": {
   "display_name": "Python 3",
   "language": "python",
   "name": "python3"
  },
  "language_info": {
   "codemirror_mode": {
    "name": "ipython",
    "version": 2
   },
   "file_extension": ".py",
   "mimetype": "text/x-python",
   "name": "python",
   "nbconvert_exporter": "python",
   "pygments_lexer": "ipython2",
   "version": "2.7.6"
  }
 },
 "nbformat": 4,
 "nbformat_minor": 0
}
