{
 "cells": [
  {
   "cell_type": "markdown",
   "source": [
    "#### This is the list of solutions to problems 91 - 100 in the MATH 1MP3 Problem Set."
   ],
   "metadata": {
    "collapsed": false
   }
  },
  {
   "cell_type": "markdown",
   "source": [
    "***\n",
    "(91) Make a function named symmetric_difference that takes in two sets as parameters and returns their union without their intersection."
   ],
   "metadata": {
    "collapsed": false
   }
  },
  {
   "cell_type": "code",
   "execution_count": 12,
   "metadata": {
    "collapsed": true
   },
   "outputs": [],
   "source": [
    "# Function(s):\n",
    "def symmetric_difference(A, B):\n",
    "    # Output:\n",
    "    return A.union(B) - A.intersection(B)"
   ]
  },
  {
   "cell_type": "markdown",
   "source": [
    "***\n",
    "(92) Make functions that perform each of these operations on sets:\n",
    "complement(A, U)\n",
    "difference(A, B)\n",
    "partition(X, A, B, C)"
   ],
   "metadata": {
    "collapsed": false
   }
  },
  {
   "cell_type": "code",
   "execution_count": 13,
   "outputs": [],
   "source": [
    "# Function(s):\n",
    "def complement(A, U):\n",
    "    # If A is ∅\n",
    "    if A == {}:\n",
    "        return U\n",
    "\n",
    "    return U - A\n",
    "\n",
    "def difference(A, B):\n",
    "    # If A is ∅\n",
    "    if A == {}:\n",
    "        return A\n",
    "\n",
    "    return A - B\n",
    "\n",
    "def partition(X, A, B, C):\n",
    "    # Output:\n",
    "    return X == A.union(B).union(C) and A.intersection(B) == A.intersection(C) == B.intersection(C) == set()"
   ],
   "metadata": {
    "collapsed": false
   }
  },
  {
   "cell_type": "markdown",
   "source": [
    "***\n",
    "(93) Make a function that takes two sets as parameters and returns the cartesian product of the two sets."
   ],
   "metadata": {
    "collapsed": false
   }
  },
  {
   "cell_type": "code",
   "execution_count": 14,
   "outputs": [],
   "source": [
    "# Function(s):\n",
    "def cartesian_product(A, B):\n",
    "    # Variable(s):\n",
    "    C = set()\n",
    "\n",
    "    # Logic:\n",
    "    for element_A in A:\n",
    "        for element_B in B:\n",
    "            C.add((element_A, element_B))\n",
    "\n",
    "    # Output:\n",
    "    return C"
   ],
   "metadata": {
    "collapsed": false
   }
  },
  {
   "cell_type": "markdown",
   "source": [
    "***\n",
    "(94) Make a function that takes in a set of tuples in ℝ² and returns the set in quadrant 3 and lie outside the circle x² + y² = 21."
   ],
   "metadata": {
    "collapsed": false
   }
  },
  {
   "cell_type": "code",
   "execution_count": 15,
   "outputs": [],
   "source": [
    "# Function(s):\n",
    "def quadrant_3_set(P):\n",
    "    # Variable(s):\n",
    "    Q = set()\n",
    "\n",
    "    # Logic:\n",
    "    for element in P:\n",
    "        if element[0] <= 0 and element[1] <= 0 and element[0] ** 2 + element[1] ** 2 >= 21:\n",
    "            Q.add(element)\n",
    "\n",
    "    # Output:\n",
    "    return Q"
   ],
   "metadata": {
    "collapsed": false
   }
  },
  {
   "cell_type": "markdown",
   "source": [
    "***\n",
    "(95) Make a function that takes in two dictionaries with disjoint keys as parameters, and returns a new dictionary that merges the two."
   ],
   "metadata": {
    "collapsed": false
   }
  },
  {
   "cell_type": "code",
   "execution_count": 16,
   "outputs": [],
   "source": [
    "# Function(s):\n",
    "def merge_dict_1(d1, d2):\n",
    "    # Variable(s):\n",
    "    d3 = dict()\n",
    "\n",
    "    # Logic:\n",
    "    for key_1, value_1 in d1.items():\n",
    "        d3[key_1] = value_1\n",
    "\n",
    "    for key_2, value_2 in d2.items():\n",
    "        d3[key_2] = value_2\n",
    "\n",
    "    # Output:\n",
    "    return d3"
   ],
   "metadata": {
    "collapsed": false
   }
  },
  {
   "cell_type": "markdown",
   "source": [
    "***\n",
    "(96) Make a function that takes in two dictionaries with intersecting keys as parameters, and returns a new dictionary that merges the two without duplicating any keys."
   ],
   "metadata": {
    "collapsed": false
   }
  },
  {
   "cell_type": "code",
   "execution_count": 17,
   "outputs": [],
   "source": [
    "# Function(s):\n",
    "def merge_dict_2(d1, d2):\n",
    "    # Variable(s):\n",
    "    d3 = dict()\n",
    "\n",
    "    # Logic:\n",
    "    for key_1, value_1 in d1.items():\n",
    "        d3[key_1] = value_1\n",
    "\n",
    "    for key_2, value_2 in d2.items():\n",
    "        if key_2 not in d3:\n",
    "            d3[key_2] = value_2\n",
    "\n",
    "    # Output:\n",
    "    return d3"
   ],
   "metadata": {
    "collapsed": false
   }
  },
  {
   "cell_type": "markdown",
   "source": [
    "***\n",
    "(97) Make a function that takes in two dictionaries with intersecting keys as parameters, and returns a new dictionary that merges the two where the intersecting keys' values are in an array that can be mapped from their one corresponding value."
   ],
   "metadata": {
    "collapsed": false
   }
  },
  {
   "cell_type": "code",
   "execution_count": 18,
   "outputs": [],
   "source": [
    "# Function(s):\n",
    "def merge_dict_3(d1, d2):\n",
    "    # Variable(s):\n",
    "    d3 = dict()\n",
    "\n",
    "    # Logic:\n",
    "    for key_1, value_1 in d1.items():\n",
    "        if key_1 not in d2:\n",
    "            d3[key_1] = value_1\n",
    "\n",
    "        else:\n",
    "            d3[key_1] = [value_1, d2[key_1]]\n",
    "\n",
    "    for key_2, value_2 in d2.items():\n",
    "        if key_2 not in d1:\n",
    "            d3[key_2] = value_2\n",
    "\n",
    "    # Output:\n",
    "    return d3"
   ],
   "metadata": {
    "collapsed": false
   }
  },
  {
   "cell_type": "markdown",
   "source": [
    "***\n",
    "(98) Make a function that takes in a dictionary as a parameter and returns the inverted dictionary."
   ],
   "metadata": {
    "collapsed": false
   }
  },
  {
   "cell_type": "code",
   "execution_count": 19,
   "outputs": [],
   "source": [
    "# Function(s):\n",
    "def invert_dict(d):\n",
    "    # Variable(s):\n",
    "    keys, values = [], []\n",
    "    inv_dict = dict()\n",
    "\n",
    "    # Logic:\n",
    "    for key, value in d.items():\n",
    "        if value not in inv_dict:\n",
    "            inv_dict[value] = [key]\n",
    "\n",
    "        else:\n",
    "            inv_dict[value].append(key)\n",
    "\n",
    "    # Output:\n",
    "    return inv_dict"
   ],
   "metadata": {
    "collapsed": false
   }
  },
  {
   "cell_type": "markdown",
   "source": [
    "***\n",
    "(99) Make a function that takes in a dictionary as a parameter and returns an array of the distinct values of d."
   ],
   "metadata": {
    "collapsed": false
   }
  },
  {
   "cell_type": "code",
   "execution_count": 20,
   "outputs": [],
   "source": [
    "# Function(s):\n",
    "def distinct_values(d):\n",
    "    # Variable(s):\n",
    "    dist_values = []\n",
    "\n",
    "    # Logic:\n",
    "    for value in d.values():\n",
    "        if value not in dist_values:\n",
    "            dist_values.append(value)\n",
    "\n",
    "    # Output:\n",
    "    return dist_values"
   ],
   "metadata": {
    "collapsed": false
   }
  },
  {
   "cell_type": "markdown",
   "source": [
    "***\n",
    "(100) Make a function that takes in a given dictionary as a parameter, and changes Khloe's salary to 8800, Kourtney's name to Courtney, and the sum of the salaries of the three employees."
   ],
   "metadata": {
    "collapsed": false
   }
  },
  {
   "cell_type": "code",
   "execution_count": 21,
   "outputs": [
    {
     "data": {
      "text/plain": "({'employee 1': {'name': 'Kim', 'salary': 3200},\n  'employee 2': {'name': 'Courtney', 'salary': 5700},\n  'employee 3': {'name': 'Khloe', 'salary': 8800}},\n 13100)"
     },
     "execution_count": 21,
     "metadata": {},
     "output_type": "execute_result"
    }
   ],
   "source": [
    "# Function(s):\n",
    "def employee_dictionary(employee_dict):\n",
    "    # Variable(s):\n",
    "    salary_sum = 0\n",
    "\n",
    "    # Logic:\n",
    "    for value_1 in employee_dict.values():\n",
    "        # Change the employee dictionary:\n",
    "        for key_2, value_2 in value_1.items():\n",
    "            if value_2 == \"Kourtney\":\n",
    "                value_1[key_2] = \"Courtney\"\n",
    "\n",
    "            elif value_2 == 4200:\n",
    "                value_1[key_2] = 8800\n",
    "\n",
    "            # Sum the salaries:\n",
    "            if key_2 == \"salary\":\n",
    "                salary_sum += value_2\n",
    "\n",
    "    # Output:\n",
    "    return employee_dict, salary_sum\n",
    "\n",
    "# Variable(s):\n",
    "employees = {\n",
    "    \"employee 1\": {\"name\": \"Kim\", \"salary\": 3200},\n",
    "    \"employee 2\": {\"name\": \"Kourtney\", \"salary\": 5700},\n",
    "    \"employee 3\": {\"name\": \"Khloe\", \"salary\": 4200}\n",
    "}\n",
    "\n",
    "# Output:\n",
    "employee_dictionary(employees)"
   ],
   "metadata": {
    "collapsed": false
   }
  }
 ],
 "metadata": {
  "kernelspec": {
   "display_name": "Python 3",
   "language": "python",
   "name": "python3"
  },
  "language_info": {
   "codemirror_mode": {
    "name": "ipython",
    "version": 2
   },
   "file_extension": ".py",
   "mimetype": "text/x-python",
   "name": "python",
   "nbconvert_exporter": "python",
   "pygments_lexer": "ipython2",
   "version": "2.7.6"
  }
 },
 "nbformat": 4,
 "nbformat_minor": 0
}
