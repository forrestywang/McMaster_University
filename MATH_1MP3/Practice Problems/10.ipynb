{
 "cells": [
  {
   "cell_type": "markdown",
   "source": [
    "#### This is the list of solutions to problems 1 - 10 in the MATH 1MP3 Problem Set."
   ],
   "metadata": {
    "collapsed": false
   }
  },
  {
   "cell_type": "markdown",
   "source": [
    "***\n",
    "(1) What will be returned when you execute each statement?"
   ],
   "metadata": {
    "collapsed": false
   }
  },
  {
   "cell_type": "code",
   "execution_count": 11,
   "outputs": [
    {
     "name": "stdout",
     "output_type": "stream",
     "text": [
      "2.5\n",
      "1.0\n",
      "-55.5\n",
      "5.076923076923077\n",
      "-81.5\n",
      "3\n"
     ]
    }
   ],
   "source": [
    "# Output:\n",
    "print(3 - 2 ** - 1)  # 2.5\n",
    "print((3 - 2) ** - 1)  # 1\n",
    "print(3 - 4 / 8 - 12 * 5 + 16 // 7)  # - 55.5\n",
    "print(3 - 4 / (8 - 12 * 5) + 16 // 7)  # 5 + (1/13) = 5.07692\n",
    "print(3 - 4 / 8 - 12 * (5 + 16 // 7))  # - 81.5\n",
    "print((98 % 11) // 3)  # 3"
   ],
   "metadata": {
    "collapsed": false
   }
  },
  {
   "cell_type": "markdown",
   "source": [
    "***\n",
    "(2) What will be returned when you execute the following statement?"
   ],
   "metadata": {
    "collapsed": false
   }
  },
  {
   "cell_type": "code",
   "execution_count": 12,
   "outputs": [
    {
     "name": "stdout",
     "output_type": "stream",
     "text": [
      "134217728\n"
     ]
    }
   ],
   "source": [
    "# Output:\n",
    "print(2 ** 3 ** 3)  # 2 ^ 27 = 134217728"
   ],
   "metadata": {
    "collapsed": false
   }
  },
  {
   "cell_type": "markdown",
   "source": [
    "***\n",
    "(3) Integer divide 736543/67 and 9728234/1121 by finding q and r s.t. 736543 = 67q + r and 9728234 = 1121q + r."
   ],
   "metadata": {
    "collapsed": false
   }
  },
  {
   "cell_type": "code",
   "execution_count": 13,
   "outputs": [
    {
     "name": "stdout",
     "output_type": "stream",
     "text": [
      "736543 = 67 * 10993 + 12\n",
      "9728234 = 1121 * 8678 + 196\n"
     ]
    }
   ],
   "source": [
    "# Variable(s):\n",
    "a_1 = 736543\n",
    "b_1 = 67\n",
    "a_2 = 9728234\n",
    "b_2 = 1121\n",
    "\n",
    "# Calculations:\n",
    "q_1 = a_1 // b_1\n",
    "r_1 = a_1 - b_1 * q_1\n",
    "q_2 = a_2 // b_2\n",
    "r_2 = a_2 - b_2 * q_2\n",
    "\n",
    "# Output:\n",
    "print(a_1, \"=\", b_1, \"*\", q_1, \"+\", r_1)\n",
    "print(a_2, \"=\", b_2, \"*\", q_2, \"+\", r_2)"
   ],
   "metadata": {
    "collapsed": false
   }
  },
  {
   "cell_type": "markdown",
   "source": [
    "***\n",
    "(4) Print the following output."
   ],
   "metadata": {
    "collapsed": false
   }
  },
  {
   "cell_type": "code",
   "execution_count": 14,
   "outputs": [
    {
     "name": "stdout",
     "output_type": "stream",
     "text": [
      "abcdefghijkl\n",
      "a c e g i k\n",
      "\n",
      "abcd----ijkl\n"
     ]
    }
   ],
   "source": [
    "# Output:\n",
    "print(\"abcdefghijkl\")\n",
    "print(\"a\", \"c\", \"e\", \"g\", \"i\", \"k\")\n",
    "print()\n",
    "print(\"abcd----ijkl\")"
   ],
   "metadata": {
    "collapsed": false
   }
  },
  {
   "cell_type": "markdown",
   "source": [
    "***\n",
    "(5) Compute the following expressions."
   ],
   "metadata": {
    "collapsed": false
   }
  },
  {
   "cell_type": "code",
   "execution_count": 15,
   "outputs": [
    {
     "name": "stdout",
     "output_type": "stream",
     "text": [
      "i(2 - i)(75i) = (-150+75j)\n",
      "(1 + i) ^ 5 = (-4-4j)\n",
      "(2 - 4i) ^ (-2) = (-0.03+0.04j)\n",
      "7(2 - i) ^ (4 - 3i) = (-18.69178535687383+39.33150410283302j)\n"
     ]
    }
   ],
   "source": [
    "# Variable(s):\n",
    "product_1 = 1j * (2 - 1j) * 75j\n",
    "product_2 = (1 + 1j) ** 5\n",
    "product_3 = (2 - 4j) ** - 2\n",
    "product_4 = 7 * (2 - 1j) ** (4 - 3j)\n",
    "\n",
    "# Output:\n",
    "print(\"i(2 - i)(75i) =\", product_1)\n",
    "print(\"(1 + i) ^ 5 =\", product_2)\n",
    "print(\"(2 - 4i) ^ (-2) =\", product_3)\n",
    "print(\"7(2 - i) ^ (4 - 3i) =\", product_4)"
   ],
   "metadata": {
    "collapsed": false
   }
  },
  {
   "cell_type": "markdown",
   "source": [
    "***\n",
    "(6) Convert 21 degrees C to F."
   ],
   "metadata": {
    "collapsed": false
   }
  },
  {
   "cell_type": "code",
   "execution_count": 16,
   "outputs": [
    {
     "name": "stdout",
     "output_type": "stream",
     "text": [
      "21 degrees Celsius is 69.8 degrees Fahrenheit.\n"
     ]
    }
   ],
   "source": [
    "# Variable(s):\n",
    "c = 21\n",
    "f = (c * 9 / 5) + 32\n",
    "\n",
    "# Output:\n",
    "print(\"21 degrees Celsius is\", f, \"degrees Fahrenheit.\")"
   ],
   "metadata": {
    "collapsed": false
   }
  },
  {
   "cell_type": "markdown",
   "source": [
    "***\n",
    "(7) Which of the following will cause a syntax error?"
   ],
   "metadata": {
    "collapsed": false
   }
  },
  {
   "cell_type": "code",
   "execution_count": 17,
   "outputs": [],
   "source": [
    "# 2 - (3 * (4 // 5))) -> Extra )\n",
    "# 2 - (3 * (4 // 5))) -> Two extra )\n",
    "# 7.5 = c -> Variable should be at the beginning of the line\n",
    "# 8 = a + 3 -> Variable should be at the beginning of the line\n",
    "# a += 13 -> Acceptable"
   ],
   "metadata": {
    "collapsed": false
   }
  },
  {
   "cell_type": "markdown",
   "source": [
    "***\n",
    "(8) Write a program that calculates the wind chill index using Environment Canada's formula."
   ],
   "metadata": {
    "collapsed": false
   }
  },
  {
   "cell_type": "code",
   "execution_count": 18,
   "outputs": [
    {
     "name": "stdout",
     "output_type": "stream",
     "text": [
      "Air Temperature: 10 degrees Celsius\n",
      "Wind Speed: 10\n",
      "Wind Chill Index: 42.55034980661881\n"
     ]
    }
   ],
   "source": [
    "# Variable(s):\n",
    "air_temperature = int(input(\"Enter the air temperature: \"))\n",
    "wind_speed = int(input(\"Enter the wind speed: \"))\n",
    "\n",
    "# Calculations:\n",
    "wind_chill_index = 0.3965 * air_temperature * wind_speed + 0.6215 * air_temperature - 11.37 * wind_speed ** 0.16 + 13.12\n",
    "\n",
    "# Output:\n",
    "print(\"Air Temperature:\", air_temperature, \"degrees Celsius\")\n",
    "print(\"Wind Speed:\", wind_speed)\n",
    "print(\"Wind Chill Index:\", wind_chill_index)"
   ],
   "metadata": {
    "collapsed": false
   }
  },
  {
   "cell_type": "markdown",
   "source": [
    "***\n",
    "(9) What will be returned when you execute each statement?"
   ],
   "metadata": {
    "collapsed": false
   }
  },
  {
   "cell_type": "code",
   "execution_count": 19,
   "outputs": [
    {
     "name": "stdout",
     "output_type": "stream",
     "text": [
      "A m  \n",
      "s . s\n",
      "Assume \n",
      "Au af)\n",
      "Aet)atunn\n",
      "Assume that f(x) is a continuo\n",
      "inuous function.\n",
      "u ucin\n",
      "uuincas xfth msA\n",
      "s fu\n",
      "\n"
     ]
    }
   ],
   "source": [
    "# Variable(s):\n",
    "my_sentence = \"Assume that f(x) is a continuous function.\"\n",
    "\n",
    "# Output:\n",
    "print(my_sentence[0], my_sentence[4], my_sentence[11])  # A m\n",
    "print(my_sentence[1], my_sentence[-1], my_sentence[-11])  # s . s\n",
    "print(my_sentence[:7])  # Assume\n",
    "print(my_sentence[:16:3])  # Au af)\n",
    "print(my_sentence[::5])  # Aet)atunn\n",
    "print(my_sentence[:-12])  # Assume that f(x) is a continuo\n",
    "print(my_sentence[-16:])  # inuous function.\n",
    "print(my_sentence[-12::2])  # u ucin\n",
    "print(my_sentence[-12::-2])  # uuincas xfth msA\n",
    "print(my_sentence[-11:-7])  # s fu\n",
    "print(my_sentence[-7:-11])  # Nothing"
   ],
   "metadata": {
    "collapsed": false
   }
  },
  {
   "cell_type": "markdown",
   "source": [
    "***\n",
    "(10) Using string manipulation, output the following output:"
   ],
   "metadata": {
    "collapsed": false
   }
  },
  {
   "cell_type": "code",
   "execution_count": 20,
   "outputs": [
    {
     "name": "stdout",
     "output_type": "stream",
     "text": [
      "mming languag\n",
      "Ph oaig \n",
      "egaugnal\n",
      "gimropn\n"
     ]
    }
   ],
   "source": [
    "# Variable(s):\n",
    "words = \"Python programming language\"\n",
    "\n",
    "# Output:\n",
    "print(words[13:26])  # mming languag\n",
    "print(words[:17:3] + words[17:19])  # Ph oaing\n",
    "print(words[-1:-9:-1])  # eguagnal\n",
    "print(words[17:4:-2])  # gimropn"
   ],
   "metadata": {
    "collapsed": false
   }
  }
 ],
 "metadata": {
  "kernelspec": {
   "display_name": "Python 3",
   "language": "python",
   "name": "python3"
  },
  "language_info": {
   "codemirror_mode": {
    "name": "ipython",
    "version": 2
   },
   "file_extension": ".py",
   "mimetype": "text/x-python",
   "name": "python",
   "nbconvert_exporter": "python",
   "pygments_lexer": "ipython2",
   "version": "2.7.6"
  }
 },
 "nbformat": 4,
 "nbformat_minor": 0
}
