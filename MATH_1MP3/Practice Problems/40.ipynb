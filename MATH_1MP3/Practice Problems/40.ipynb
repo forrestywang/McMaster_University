{
 "cells": [
  {
   "cell_type": "markdown",
   "source": [
    "#### This is the list of solutions to problems 31 - 40 in the MATH 1MP3 Problem Set."
   ],
   "metadata": {
    "collapsed": false
   }
  },
  {
   "cell_type": "markdown",
   "source": [
    "***\n",
    "(31) Given a list of positive integers, return how many odd numbers there are."
   ],
   "metadata": {
    "collapsed": false
   }
  },
  {
   "cell_type": "code",
   "execution_count": null,
   "metadata": {
    "collapsed": true
   },
   "outputs": [],
   "source": [
    "def odd_numbers(array):\n",
    "    count = 0\n",
    "\n",
    "    for num in array:\n",
    "        if num % 2 == 1: count += 1\n",
    "\n",
    "    return count"
   ]
  },
  {
   "cell_type": "markdown",
   "source": [
    "***\n",
    "(32) Sum the squares from 1 to 100 inclusive, and check the answer with the formula."
   ],
   "metadata": {
    "collapsed": false
   }
  },
  {
   "cell_type": "code",
   "execution_count": null,
   "outputs": [],
   "source": [
    "# Variable(s):\n",
    "sum = 0\n",
    "\n",
    "# Calculations:\n",
    "for i in range(1, 101): sum += i ** 2\n",
    "\n",
    "# Output:\n",
    "if sum == (100 * (100 + 1) * (2 * 100 + 1)) / 6: print(\"Sum of the squares from 1 to 100 inclusive:\", sum)"
   ],
   "metadata": {
    "collapsed": false
   }
  },
  {
   "cell_type": "markdown",
   "source": [
    "***\n",
    "(33) Sum the inverses from 1 to 10,000 inclusive."
   ],
   "metadata": {
    "collapsed": false
   }
  },
  {
   "cell_type": "code",
   "execution_count": null,
   "outputs": [],
   "source": [
    "# Variable(s):\n",
    "sum = 0\n",
    "\n",
    "# Calculations:\n",
    "for i in range(1, 10001): sum += 1 / i\n",
    "\n",
    "# Output:\n",
    "print(\"Sum of the inverses from 1 to 10,000 inclusive:\", sum)"
   ],
   "metadata": {
    "collapsed": false
   }
  },
  {
   "cell_type": "markdown",
   "source": [
    "***\n",
    "(34) Sum all numbers from 1 to 10,000 inclusive which are not divisible by 4 or 5."
   ],
   "metadata": {
    "collapsed": false
   }
  },
  {
   "cell_type": "code",
   "execution_count": null,
   "outputs": [],
   "source": [
    "# Variable(s):\n",
    "sum = 0\n",
    "\n",
    "# Calculations:\n",
    "for i in range(1, 10001):\n",
    "    if i % 4 != 0 and i % 5 != 0: sum += i\n",
    "\n",
    "# Output:\n",
    "print(\"Sum of the numbers from 1 to 10,000 inclusive which are not divisible by 4 or 5:\", sum)"
   ],
   "metadata": {
    "collapsed": false
   }
  },
  {
   "cell_type": "markdown",
   "source": [
    "***\n",
    "(35) Create an array with the squares of 1 to 20,000 inclusive which are divisible by 7."
   ],
   "metadata": {
    "collapsed": false
   }
  },
  {
   "cell_type": "code",
   "execution_count": null,
   "outputs": [],
   "source": [
    "# Variable(s):\n",
    "list_of_squares_1 = []\n",
    "\n",
    "# Calculations:\n",
    "for i in range(1, 20001):\n",
    "    if i % 7 == 0: list_of_squares_1.append(i ** 2)"
   ],
   "metadata": {
    "collapsed": false
   }
  },
  {
   "cell_type": "markdown",
   "source": [
    "***\n",
    "(36) Given two arrays of equal length with real entries, make a new array based on the elements in the two arrays."
   ],
   "metadata": {
    "collapsed": false
   }
  },
  {
   "cell_type": "code",
   "execution_count": null,
   "outputs": [],
   "source": [
    "# L1[i] = L2[i] => L3[i] = 0\n",
    "# L1[i] > L2[i] => L3[i] = 1\n",
    "# L1[i] < L2[i] => L3[i] = -1\n",
    "\n",
    "def array_1(L1, L2):\n",
    "    # Variable(s):\n",
    "    L3 = []\n",
    "\n",
    "    # Calculations:\n",
    "    for i in range(len(L1)):\n",
    "        if L1[i] == L2[i]: L3[i] = 0\n",
    "\n",
    "        elif L1[i] > L2[i]: L3[i] = 1\n",
    "\n",
    "        else: L3[i] = -1\n",
    "\n",
    "    # Output:\n",
    "    return L3"
   ],
   "metadata": {
    "collapsed": false
   }
  },
  {
   "cell_type": "markdown",
   "source": [
    "***\n",
    "(37) Given two arrays of equal length with boolean entries, make a new array based on the elements in the two arrays."
   ],
   "metadata": {
    "collapsed": false
   }
  },
  {
   "cell_type": "code",
   "execution_count": null,
   "outputs": [],
   "source": [
    "# L1[i] <=> L2[i] => L3[i] = True\n",
    "# L1[i] XOR L2[i] => L3[i] = False\n",
    "\n",
    "def array_2(L1, L2):\n",
    "    # Variable(s):\n",
    "    L3 = []\n",
    "\n",
    "    # Calculations:\n",
    "    for i in range(len(L1)):\n",
    "        if L1[i] == L2[i]: L3[i] = True\n",
    "\n",
    "        else: L3[i] = False\n",
    "\n",
    "    # Output:\n",
    "    return L3"
   ],
   "metadata": {
    "collapsed": false
   }
  },
  {
   "cell_type": "markdown",
   "source": [
    "***\n",
    "(38) Create an array with the squares of 1 to 100,000 inclusive, then remove all the entries that start with 9 and end with 0 or 1."
   ],
   "metadata": {
    "collapsed": false
   }
  },
  {
   "cell_type": "code",
   "execution_count": null,
   "outputs": [],
   "source": [
    "# Variable(s):\n",
    "list_of_squares_2 = []\n",
    "\n",
    "# Calculations:\n",
    "for i in range(1, 100001):\n",
    "    if str(i ** 2)[0] != \"9\" or str(i ** 2)[len(str(i ** 2)) - 1] != \"0\" and str(i ** 2)[len(str(i ** 2)) - 1] != \"1\":\n",
    "        list_of_squares_2.append(i ** 2)"
   ],
   "metadata": {
    "collapsed": false
   }
  },
  {
   "cell_type": "markdown",
   "source": [
    "***\n",
    "(39) Sum the inverses from 1 to 10,000 inclusive which do not have 7 as a digit."
   ],
   "metadata": {
    "collapsed": false
   }
  },
  {
   "cell_type": "code",
   "execution_count": null,
   "outputs": [],
   "source": [
    "# Variable(s):\n",
    "sum = 0\n",
    "\n",
    "# Calculations:\n",
    "for i in range(1, 10000):\n",
    "    if \"7\" not in str(i): sum += 1 / i\n",
    "\n",
    "# Output:\n",
    "print(\"Sum of the numbers from 1 to 10,000 inclusive which do not have 7 as a digit:\", sum)"
   ],
   "metadata": {
    "collapsed": false
   }
  },
  {
   "cell_type": "markdown",
   "source": [
    "***\n",
    "(40) Given an array with real entries, return the mean and standard deviation."
   ],
   "metadata": {
    "collapsed": false
   }
  },
  {
   "cell_type": "code",
   "execution_count": null,
   "outputs": [],
   "source": [
    "def mean_and_SD(array):\n",
    "    # Variable(s):\n",
    "    sum1, sum2 = 0, 0\n",
    "\n",
    "    # Calculations:\n",
    "    for num in array: sum1 += num\n",
    "    mean = sum1 / len(array)\n",
    "\n",
    "    for num in array: sum2 = (num - mean) ** 2\n",
    "\n",
    "    # Output:\n",
    "    print(\"Mean:\", mean)\n",
    "    print(\"Standard Deviation:\", (sum2 / len(array)) ** 0.5)"
   ],
   "metadata": {
    "collapsed": false
   }
  }
 ],
 "metadata": {
  "kernelspec": {
   "display_name": "Python 3",
   "language": "python",
   "name": "python3"
  },
  "language_info": {
   "codemirror_mode": {
    "name": "ipython",
    "version": 2
   },
   "file_extension": ".py",
   "mimetype": "text/x-python",
   "name": "python",
   "nbconvert_exporter": "python",
   "pygments_lexer": "ipython2",
   "version": "2.7.6"
  }
 },
 "nbformat": 4,
 "nbformat_minor": 0
}
