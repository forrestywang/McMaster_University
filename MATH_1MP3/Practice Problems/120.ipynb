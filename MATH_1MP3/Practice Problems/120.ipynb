{
 "cells": [
  {
   "cell_type": "markdown",
   "source": [
    "#### This is the list of solutions to problems 111 - 120 in the MATH 1MP3 Problem Set."
   ],
   "metadata": {
    "collapsed": false
   }
  },
  {
   "cell_type": "markdown",
   "source": [
    "***\n",
    "Import(s):"
   ],
   "metadata": {
    "collapsed": false
   }
  },
  {
   "cell_type": "code",
   "execution_count": 1,
   "outputs": [],
   "source": [
    "# Import(s):\n",
    "import numpy as np"
   ],
   "metadata": {
    "collapsed": false,
    "ExecuteTime": {
     "start_time": "2023-04-27T17:53:24.455810Z",
     "end_time": "2023-04-27T17:53:24.725387Z"
    }
   }
  },
  {
   "cell_type": "markdown",
   "source": [
    "***\n",
    "(111) Make a function named multiple_app that takes in a list of numbers as a parameter, and returns each non-unique number in the array."
   ],
   "metadata": {
    "collapsed": false
   }
  },
  {
   "cell_type": "code",
   "execution_count": 11,
   "metadata": {
    "collapsed": true,
    "ExecuteTime": {
     "start_time": "2023-04-17T15:48:29.785861Z",
     "end_time": "2023-04-17T15:48:30.086446Z"
    }
   },
   "outputs": [],
   "source": [
    "# Function(s):\n",
    "def multiple_app(num_array):\n",
    "    # Logic:\n",
    "    for element in set(num_array):\n",
    "        num_array.remove(element)\n",
    "\n",
    "    # Output:\n",
    "    return list(set(num_array))"
   ]
  },
  {
   "cell_type": "markdown",
   "source": [
    "***\n",
    "(112) Make a function that takes in a natural number n as a parameter and returns an ordered NumPy array of natural numbers ∈ [0, 20] such that each number is repeated n times."
   ],
   "metadata": {
    "collapsed": false
   }
  },
  {
   "cell_type": "code",
   "execution_count": 12,
   "outputs": [],
   "source": [
    "# Function(s):\n",
    "def array(n):\n",
    "    # Variable(s):\n",
    "    repeated_array = []\n",
    "\n",
    "    # Logic:\n",
    "    for num in range(21):\n",
    "        repeated_array.extend([num] * n)\n",
    "\n",
    "    # Output:\n",
    "    return np.array(repeated_array, dtype=int)"
   ],
   "metadata": {
    "collapsed": false,
    "ExecuteTime": {
     "start_time": "2023-04-17T15:48:29.814541Z",
     "end_time": "2023-04-17T15:48:30.086446Z"
    }
   }
  },
  {
   "cell_type": "markdown",
   "source": [
    "***\n",
    "(113) Make a function that returns a NumPy array of the cosine of numbers ∈ [0, 3.14] such that each number is 0.01 greater than the previous."
   ],
   "metadata": {
    "collapsed": false
   }
  },
  {
   "cell_type": "code",
   "execution_count": 13,
   "outputs": [
    {
     "data": {
      "text/plain": "array([ 1.00000000e+00,  9.99950000e-01,  9.99800007e-01,  9.99550034e-01,\n        9.99200107e-01,  9.98750260e-01,  9.98200540e-01,  9.97551000e-01,\n        9.96801706e-01,  9.95952733e-01,  9.95004165e-01,  9.93956098e-01,\n        9.92808636e-01,  9.91561894e-01,  9.90215996e-01,  9.88771078e-01,\n        9.87227283e-01,  9.85584767e-01,  9.83843693e-01,  9.82004235e-01,\n        9.80066578e-01,  9.78030915e-01,  9.75897449e-01,  9.73666395e-01,\n        9.71337975e-01,  9.68912422e-01,  9.66389978e-01,  9.63770896e-01,\n        9.61055438e-01,  9.58243876e-01,  9.55336489e-01,  9.52333570e-01,\n        9.49235418e-01,  9.46042344e-01,  9.42754666e-01,  9.39372713e-01,\n        9.35896824e-01,  9.32327346e-01,  9.28664636e-01,  9.24909060e-01,\n        9.21060994e-01,  9.17120823e-01,  9.13088940e-01,  9.08965750e-01,\n        9.04751663e-01,  9.00447102e-01,  8.96052498e-01,  8.91568288e-01,\n        8.86994923e-01,  8.82332859e-01,  8.77582562e-01,  8.72744508e-01,\n        8.67819180e-01,  8.62807071e-01,  8.57708681e-01,  8.52524522e-01,\n        8.47255111e-01,  8.41900975e-01,  8.36462650e-01,  8.30940679e-01,\n        8.25335615e-01,  8.19648018e-01,  8.13878457e-01,  8.08027508e-01,\n        8.02095758e-01,  7.96083799e-01,  7.89992231e-01,  7.83821666e-01,\n        7.77572719e-01,  7.71246015e-01,  7.64842187e-01,  7.58361876e-01,\n        7.51805729e-01,  7.45174402e-01,  7.38468559e-01,  7.31688869e-01,\n        7.24836011e-01,  7.17910670e-01,  7.10913538e-01,  7.03845316e-01,\n        6.96706709e-01,  6.89498433e-01,  6.82221207e-01,  6.74875760e-01,\n        6.67462826e-01,  6.59983146e-01,  6.52437468e-01,  6.44826547e-01,\n        6.37151144e-01,  6.29412027e-01,  6.21609968e-01,  6.13745749e-01,\n        6.05820157e-01,  5.97833982e-01,  5.89788025e-01,  5.81683089e-01,\n        5.73519986e-01,  5.65299531e-01,  5.57022547e-01,  5.48689861e-01,\n        5.40302306e-01,  5.31860721e-01,  5.23365951e-01,  5.14818845e-01,\n        5.06220257e-01,  4.97571048e-01,  4.88872082e-01,  4.80124229e-01,\n        4.71328364e-01,  4.62485367e-01,  4.53596121e-01,  4.44661517e-01,\n        4.35682446e-01,  4.26659808e-01,  4.17594504e-01,  4.08487441e-01,\n        3.99339529e-01,  3.90151684e-01,  3.80924824e-01,  3.71659872e-01,\n        3.62357754e-01,  3.53019401e-01,  3.43645746e-01,  3.34237727e-01,\n        3.24796284e-01,  3.15322362e-01,  3.05816908e-01,  2.96280873e-01,\n        2.86715210e-01,  2.77120875e-01,  2.67498829e-01,  2.57850033e-01,\n        2.48175452e-01,  2.38476053e-01,  2.28752808e-01,  2.19006687e-01,\n        2.09238666e-01,  1.99449721e-01,  1.89640831e-01,  1.79812978e-01,\n        1.69967143e-01,  1.60104312e-01,  1.50225470e-01,  1.40331606e-01,\n        1.30423709e-01,  1.20502769e-01,  1.10569780e-01,  1.00625733e-01,\n        9.06716245e-02,  8.07084485e-02,  7.07372017e-02,  6.07588812e-02,\n        5.07744849e-02,  4.07850112e-02,  3.07914591e-02,  2.07948278e-02,\n        1.07961171e-02,  7.96326711e-04, -9.20354327e-03, -1.92024929e-02,\n       -2.91995223e-02, -3.91936318e-02, -4.91838219e-02, -5.91690937e-02,\n       -6.91484487e-02, -7.91208888e-02, -8.90854169e-02, -9.90410366e-02,\n       -1.08986752e-01, -1.18921569e-01, -1.28844494e-01, -1.38754535e-01,\n       -1.48650700e-01, -1.58532001e-01, -1.68397448e-01, -1.78246056e-01,\n       -1.88076839e-01, -1.97888815e-01, -2.07681002e-01, -2.17452421e-01,\n       -2.27202095e-01, -2.36929049e-01, -2.46632310e-01, -2.56310908e-01,\n       -2.65963876e-01, -2.75590247e-01, -2.85189059e-01, -2.94759353e-01,\n       -3.04300171e-01, -3.13810559e-01, -3.23289567e-01, -3.32736246e-01,\n       -3.42149651e-01, -3.51528842e-01, -3.60872880e-01, -3.70180831e-01,\n       -3.79451765e-01, -3.88684753e-01, -3.97878874e-01, -4.07033207e-01,\n       -4.16146837e-01, -4.25218852e-01, -4.34248346e-01, -4.43234416e-01,\n       -4.52176162e-01, -4.61072691e-01, -4.69923114e-01, -4.78726544e-01,\n       -4.87482102e-01, -4.96188913e-01, -5.04846105e-01, -5.13452812e-01,\n       -5.22008175e-01, -5.30511338e-01, -5.38961449e-01, -5.47357665e-01,\n       -5.55699146e-01, -5.63985058e-01, -5.72214571e-01, -5.80386863e-01,\n       -5.88501117e-01, -5.96556522e-01, -6.04552271e-01, -6.12487566e-01,\n       -6.20361612e-01, -6.28173623e-01, -6.35922817e-01, -6.43608419e-01,\n       -6.51229661e-01, -6.58785780e-01, -6.66276021e-01, -6.73699636e-01,\n       -6.81055881e-01, -6.88344020e-01, -6.95563326e-01, -7.02713077e-01,\n       -7.09792556e-01, -7.16801057e-01, -7.23737879e-01, -7.30602327e-01,\n       -7.37393716e-01, -7.44111365e-01, -7.50754605e-01, -7.57322769e-01,\n       -7.63815202e-01, -7.70231254e-01, -7.76570284e-01, -7.82831657e-01,\n       -7.89014747e-01, -7.95118937e-01, -8.01143616e-01, -8.07088180e-01,\n       -8.12952037e-01, -8.18734599e-01, -8.24435289e-01, -8.30053535e-01,\n       -8.35588777e-01, -8.41040461e-01, -8.46408041e-01, -8.51690981e-01,\n       -8.56888753e-01, -8.62000837e-01, -8.67026721e-01, -8.71965904e-01,\n       -8.76817890e-01, -8.81582196e-01, -8.86258344e-01, -8.90845867e-01,\n       -8.95344306e-01, -8.99753211e-01, -9.04072142e-01, -9.08300666e-01,\n       -9.12438361e-01, -9.16484813e-01, -9.20439618e-01, -9.24302379e-01,\n       -9.28072710e-01, -9.31750235e-01, -9.35334586e-01, -9.38825404e-01,\n       -9.42222341e-01, -9.45525056e-01, -9.48733219e-01, -9.51846510e-01,\n       -9.54864616e-01, -9.57787238e-01, -9.60614081e-01, -9.63344863e-01,\n       -9.65979312e-01, -9.68517164e-01, -9.70958165e-01, -9.73302071e-01,\n       -9.75548648e-01, -9.77697670e-01, -9.79748924e-01, -9.81702203e-01,\n       -9.83557313e-01, -9.85314068e-01, -9.86972293e-01, -9.88531821e-01,\n       -9.89992497e-01, -9.91354174e-01, -9.92616717e-01, -9.93779999e-01,\n       -9.94843903e-01, -9.95808325e-01, -9.96673166e-01, -9.97438340e-01,\n       -9.98103772e-01, -9.98669394e-01, -9.99135150e-01, -9.99500994e-01,\n       -9.99766888e-01, -9.99932806e-01, -9.99998732e-01])"
     },
     "execution_count": 13,
     "metadata": {},
     "output_type": "execute_result"
    }
   ],
   "source": [
    "# Function(s):\n",
    "def cos_array():\n",
    "    # Output:\n",
    "    return np.cos(np.arange(0, 3.15, 0.01))\n",
    "\n",
    "# Output:\n",
    "cos_array()"
   ],
   "metadata": {
    "collapsed": false,
    "ExecuteTime": {
     "start_time": "2023-04-17T15:48:29.842692Z",
     "end_time": "2023-04-17T15:48:30.086446Z"
    }
   }
  },
  {
   "cell_type": "markdown",
   "source": [
    "***\n",
    "(114) Make a function that takes in an x as a parameter and returns the value of f(x). Make another function that creates a NumPy array of the f(x) of numbers ∈ [0, 14] such that each number is 0.15 greater than the previous.\n"
   ],
   "metadata": {
    "collapsed": false
   }
  },
  {
   "cell_type": "code",
   "execution_count": 14,
   "outputs": [
    {
     "data": {
      "text/plain": "array([-1.90000000e+00, -2.05989213e+00, -2.63384823e+00, -3.78972133e+00,\n       -5.74947947e+00, -8.81878885e+00, -1.34221871e+01, -2.01417218e+01,\n       -2.97570657e+01, -4.32857654e+01, -6.20234096e+01, -8.75850395e+01,\n       -1.21950944e+02, -1.67521932e+02, -2.27191077e+02, -3.04440622e+02,\n       -4.03474101e+02, -5.29394654e+02, -6.88441011e+02, -8.88292732e+02,\n       -1.13845614e+03, -1.45074222e+03, -1.83984794e+03, -2.32405293e+03,\n       -2.92604547e+03, -3.67389425e+03, -4.60218764e+03, -5.75336817e+03,\n       -7.17929958e+03, -8.94311442e+03, -1.11214047e+04, -1.38068343e+04,\n       -1.71112708e+04, -2.11695575e+04, -2.61440697e+04, -3.22302285e+04,\n       -3.96631764e+04, -4.87258552e+04, -5.97587669e+04, -7.31717450e+04,\n       -8.94581214e+04, -1.09211737e+05, -1.33147320e+05, -1.62124863e+05,\n       -1.97178720e+05, -2.39552304e+05, -2.90739429e+05, -3.52533519e+05,\n       -4.27086178e+05, -5.16976881e+05, -6.25295897e+05, -7.55742972e+05,\n       -9.12744766e+05, -1.10159464e+06, -1.32861905e+06, -1.60137560e+06,\n       -1.92888882e+06, -2.32193074e+06, -2.79335474e+06, -3.35849270e+06,\n       -4.03562734e+06, -4.84655368e+06, -5.81724635e+06, -6.97865234e+06,\n       -8.36763239e+06, -1.00280787e+07, -1.20122415e+07, -1.43823026e+07,\n       -1.72122423e+07, -2.05900534e+07, -2.46203651e+07, -2.94275547e+07,\n       -3.51594339e+07, -4.19916180e+07, -5.01327005e+07, -5.98303837e+07,\n       -7.13787381e+07, -8.51267992e+07, -1.01488744e+08, -1.20955936e+08,\n       -1.44111186e+08, -1.71645618e+08, -2.04378630e+08, -2.43281504e+08,\n       -2.89505328e+08, -3.44414020e+08, -4.09623363e+08, -4.87047159e+08,\n       -5.78951778e+08, -6.88020624e+08, -8.17430301e+08, -9.70940610e+08,\n       -1.15300085e+09, -1.36887537e+09, -1.44939326e+09])"
     },
     "execution_count": 14,
     "metadata": {},
     "output_type": "execute_result"
    }
   ],
   "source": [
    "# Function(s):\n",
    "def f(x):\n",
    "    # Output:\n",
    "    return pow(x, 3) * np.sin(1.7 * x) - 4 * pow(x, 2) * np.exp(x + 0.43) - 1.9\n",
    "\n",
    "def f_of_x():\n",
    "    # Output:\n",
    "    return f(np.append(np.arange(0, 14, 0.15), 14))\n",
    "\n",
    "# Output:\n",
    "f_of_x()"
   ],
   "metadata": {
    "collapsed": false,
    "ExecuteTime": {
     "start_time": "2023-04-17T15:48:29.858901Z",
     "end_time": "2023-04-17T15:48:30.126987Z"
    }
   }
  },
  {
   "cell_type": "markdown",
   "source": [
    "***\n",
    "(115) Make the following three functions:\n",
    "    1: Takes in a one-dimensional NumPy array and p as parameters and returns the Lp norm.\n",
    "    2: Takes in a one-dimensional NumPy array as a parameter and returns the L∞ norm.\n",
    "    3: Takes two one-dimensional NumPy arrays as parameters and returns the inner product."
   ],
   "metadata": {
    "collapsed": false
   }
  },
  {
   "cell_type": "code",
   "execution_count": 15,
   "outputs": [],
   "source": [
    "# Function(s):\n",
    "def norm_p_1(v, p):\n",
    "    # Output:\n",
    "    return pow(np.sum(np.power(np.abs(v), p)), 1 / p)\n",
    "\n",
    "def norm_inf_1(v):\n",
    "    # Output:\n",
    "    return np.amax(np.abs(v))\n",
    "\n",
    "def inner_product_1(v, w):\n",
    "    # Output:\n",
    "    return np.sum(v * w * np.array(np.array([2] * v.size) ** np.arange(1, v.size + 1)))"
   ],
   "metadata": {
    "collapsed": false,
    "ExecuteTime": {
     "start_time": "2023-04-17T15:48:29.894966Z",
     "end_time": "2023-04-17T15:48:30.126987Z"
    }
   }
  },
  {
   "cell_type": "markdown",
   "source": [
    "***\n",
    "(116) Make a function named almost_equal that takes in two one-dimensional arrays and a tolerance with a default value of 1e-5 as parameters and returns whether the distance between each value in the arrays is < tol."
   ],
   "metadata": {
    "collapsed": false
   }
  },
  {
   "cell_type": "code",
   "execution_count": 16,
   "outputs": [],
   "source": [
    "# Function(s):\n",
    "def almost_equal(v, w, tol):\n",
    "    # Output:\n",
    "    return np.all(np.abs(v - w) < tol)"
   ],
   "metadata": {
    "collapsed": false,
    "ExecuteTime": {
     "start_time": "2023-04-17T15:48:29.913567Z",
     "end_time": "2023-04-17T15:48:30.126987Z"
    }
   }
  },
  {
   "cell_type": "markdown",
   "source": [
    "***\n",
    "(117) Without using any np.any and np.all functions, make the following four functions:\n",
    "    1: Takes in a mxn NumPy array as a parameter and returns True if all entries are even.\n",
    "    2: Takes in a mxn NumPy array as a parameter and returns True if there is an entry that is divisible by 11.\n",
    "    3: Takes in a mxn NumPy array as a parameter and returns True if all entries are ∈ (7, 47].\n",
    "    4: Recreate the first function using np.all or np.any functions.\n",
    "    5: Recreate the third function using np.all or np.any functions."
   ],
   "metadata": {
    "collapsed": false
   }
  },
  {
   "cell_type": "code",
   "execution_count": 17,
   "outputs": [],
   "source": [
    "# Function(s):\n",
    "def func_1(arr):\n",
    "    # Variable(s):\n",
    "    arr = arr.reshape(np.prod(arr.shape))\n",
    "\n",
    "    # Logic:\n",
    "    for element in arr:\n",
    "        if element % 2 == 1:\n",
    "            return False\n",
    "    return True\n",
    "\n",
    "def func_2(arr):\n",
    "    # Variable(s):\n",
    "    arr = arr.reshape(np.prod(arr.shape))\n",
    "\n",
    "    # Logic:\n",
    "    for element in arr:\n",
    "        if element % 11 == 0:\n",
    "            return True\n",
    "    return False\n",
    "\n",
    "def func_3(arr):\n",
    "    # Variable(s):\n",
    "    arr = arr.reshape(np.prod(arr.shape))\n",
    "\n",
    "    # Logic:\n",
    "    for element in arr:\n",
    "        if element <= 7 or element > 47:\n",
    "            return False\n",
    "    return True\n",
    "\n",
    "def func_4(arr):\n",
    "    # Output:\n",
    "    return np.all(arr % 2 == 0)\n",
    "\n",
    "def func_5(arr):\n",
    "    # Output:\n",
    "    return np.all(7 < arr <= 47)"
   ],
   "metadata": {
    "collapsed": false,
    "ExecuteTime": {
     "start_time": "2023-04-17T15:48:29.929974Z",
     "end_time": "2023-04-17T15:48:30.130986Z"
    }
   }
  },
  {
   "cell_type": "markdown",
   "source": [
    "***\n",
    "(118) Make the following four functions:\n",
    "    1: Named sum_row that takes in a mxn NumPy array as a parameter and returns a one-dimensional NumPy array whose entries are the sum of each row.\n",
    "    2: Named sum_col that takes in a mxn NumPy array as a parameter and returns a one-dimensional NumPy array whose entries are the sum of each column.\n",
    "    3: Named max_row that takes in a mxn NumPy array as a parameter and returns a one-dimensional NumPy array whose entries are the max of each row.\n",
    "    4: Named avg_col that takes in a mxn NumPy array as a parameter and returns a one-dimensional NumPy array whose entries are the average of each column."
   ],
   "metadata": {
    "collapsed": false
   }
  },
  {
   "cell_type": "code",
   "execution_count": 18,
   "outputs": [],
   "source": [
    "# Function(s):\n",
    "def sum_row(arr):\n",
    "    # # Variable(s):\n",
    "    # shape = arr.shape\n",
    "    # collapse_row_shape = list(shape)[:len(shape) - 1]\n",
    "    # collapse_row_shape.append(1)\n",
    "    # tuple(collapse_row_shape)\n",
    "    #\n",
    "    # num_rows = np.prod(collapse_row_shape)\n",
    "    # arr = arr.reshape(num_rows, int(np.size(arr) / num_rows))\n",
    "    #\n",
    "    # sum_array = np.array([])\n",
    "    #\n",
    "    # # Logic:\n",
    "    # for row in arr:\n",
    "    #     sum_array = np.append(sum_array, np.sum(row))\n",
    "    #\n",
    "    # # Output:\n",
    "    # return sum_array.reshape(collapse_row_shape)\n",
    "\n",
    "    # Output:\n",
    "    return np.sum(arr, axis=len(arr.shape) - 1)\n",
    "\n",
    "def sum_col(arr):\n",
    "    # Output:\n",
    "    return np.sum(arr, axis=len(arr.shape) - 2)\n",
    "\n",
    "def max_row(arr):\n",
    "    # Output:\n",
    "    return np.amax(arr, axis=len(arr.shape) - 1)\n",
    "\n",
    "def avg_col(arr):\n",
    "    # Output:\n",
    "    return np.mean(arr, axis=len(arr.shape) - 2)"
   ],
   "metadata": {
    "collapsed": false,
    "ExecuteTime": {
     "start_time": "2023-04-17T15:48:29.958063Z",
     "end_time": "2023-04-17T15:48:30.130986Z"
    }
   }
  },
  {
   "cell_type": "markdown",
   "source": [
    "***\n",
    "(119) Make the following four functions:\n",
    "    1: Takes a mxm NumPy array as a parameter and returns its Lp norm.\n",
    "    2: Takes a mxm NumPy array as a parameter and returns its L∞ norm.\n",
    "    3: Takes two mxm NumPy arrays as parameters and returns its dot product.\n",
    "    4: Takes two mxm NumPy arrays as parameters and returns its inner product."
   ],
   "metadata": {
    "collapsed": false
   }
  },
  {
   "cell_type": "code",
   "execution_count": 19,
   "outputs": [],
   "source": [
    "# Function(s):\n",
    "def norm_p_2(v, p):\n",
    "    # Output:\n",
    "    return pow(np.sum(np.power(np.abs(v.reshape(np.prod(v.shape))), p)), 1 / p)\n",
    "\n",
    "def norm_inf_2(v, p):\n",
    "    # Output:\n",
    "    return np.amax(v.reshape(np.prod(v.shape)))\n",
    "\n",
    "def dot_product(v, w):\n",
    "    # Variable(s):\n",
    "    shape = np.prod(v.shape)\n",
    "    v = v.reshape(shape)\n",
    "    w = w.reshape(shape)\n",
    "\n",
    "    # Output:\n",
    "    return np.sum(v * w)\n",
    "\n",
    "def inner_product_2(v, w):\n",
    "    # Variable(s):\n",
    "    v = v * w\n",
    "    dimension = len(v)\n",
    "    sum = 0\n",
    "\n",
    "    # Calculations:\n",
    "    for i in range(dimension):\n",
    "        for j in range(dimension):\n",
    "            sum += v[i, j] / pow(2, j)\n",
    "\n",
    "        sum /= pow(2, i)\n",
    "\n",
    "    # Output:\n",
    "    return sum"
   ],
   "metadata": {
    "collapsed": false,
    "ExecuteTime": {
     "start_time": "2023-04-17T15:48:29.974067Z",
     "end_time": "2023-04-17T15:48:30.130986Z"
    }
   }
  },
  {
   "cell_type": "markdown",
   "source": [
    "***\n",
    "(120) Make functions that take in a size of a square matrix as a parameter and returns a mxm NumPy array whose:\n",
    "1: Diagonal entries are the ordered natural numbers starting from 1, and whose non-diagonal entries are 0.\n",
    "2: Border entries are 5 and non-border entries are 0.\n",
    "3: Diagonal entries and the entries above it are 3, and entries below the diagonal are 0.\n",
    "4: Entry at (i, j) is (i + j) % 3.\n",
    "5: Entry is max{i, j}."
   ],
   "metadata": {
    "collapsed": false
   }
  },
  {
   "cell_type": "code",
   "execution_count": 3,
   "outputs": [],
   "source": [
    "# Function(s):\n",
    "def diagonal_1(m):\n",
    "    # Variable(s):\n",
    "    diagonal_matrix = np.zeros((m, m))\n",
    "\n",
    "    # Logic:\n",
    "    for i in range(m):\n",
    "        diagonal_matrix[i, i] = i + 1\n",
    "\n",
    "    # Output:\n",
    "    return diagonal_matrix\n",
    "\n",
    "def border(m):\n",
    "    # Variable(s):\n",
    "    border_matrix = np.zeros((m, m))\n",
    "\n",
    "    # Logic:\n",
    "    for i in range(m):\n",
    "        border_matrix[i, 0] = border_matrix[i, m - 1] = 5\n",
    "\n",
    "    border_matrix[0] = border_matrix[m - 1] = np.array([5] * m)\n",
    "\n",
    "    # Output:\n",
    "    return border_matrix\n",
    "\n",
    "def diagonal_2(m):\n",
    "    # Variable(s):\n",
    "    diagonal_matrix = np.zeros((m, m))\n",
    "\n",
    "    # Logic:\n",
    "    for i in range(m):\n",
    "        for j in range(m):\n",
    "            if i <= j:\n",
    "                diagonal_matrix[i, j] = 3\n",
    "\n",
    "    # Output:\n",
    "    return diagonal_matrix\n",
    "\n",
    "def modulus(m):\n",
    "    # Variable(s):\n",
    "    modulus_matrix = np.zeros((m, m))\n",
    "\n",
    "    # Logic:\n",
    "    for i in range(m):\n",
    "        for j in range(m):\n",
    "            modulus_matrix[i, j] = (i + j) % 3\n",
    "\n",
    "    # Output:\n",
    "    return modulus_matrix\n",
    "\n",
    "def max_index(m):\n",
    "    # Variable(s):\n",
    "    max_matrix = np.zeros((m, m))\n",
    "\n",
    "    # Logic:\n",
    "    for i in range(m):\n",
    "        for j in range(m):\n",
    "            max_matrix[i, j] = max(i, j)\n",
    "\n",
    "    # Output:\n",
    "    return max_matrix"
   ],
   "metadata": {
    "collapsed": false,
    "ExecuteTime": {
     "start_time": "2023-04-27T17:53:45.356366Z",
     "end_time": "2023-04-27T17:53:45.372377Z"
    }
   }
  }
 ],
 "metadata": {
  "kernelspec": {
   "display_name": "Python 3",
   "language": "python",
   "name": "python3"
  },
  "language_info": {
   "codemirror_mode": {
    "name": "ipython",
    "version": 2
   },
   "file_extension": ".py",
   "mimetype": "text/x-python",
   "name": "python",
   "nbconvert_exporter": "python",
   "pygments_lexer": "ipython2",
   "version": "2.7.6"
  }
 },
 "nbformat": 4,
 "nbformat_minor": 0
}
