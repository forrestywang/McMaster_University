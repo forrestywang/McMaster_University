{
 "cells": [
  {
   "cell_type": "markdown",
   "metadata": {},
   "source": [
    "<h3> <u> Assignment 4 - Math 1MP3 Winter 2023</u> </h3>\n"
   ]
  },
  {
   "cell_type": "markdown",
   "source": [
    "***\n",
    "Import(s):"
   ],
   "metadata": {
    "collapsed": false
   }
  },
  {
   "cell_type": "code",
   "execution_count": 1,
   "metadata": {
    "ExecuteTime": {
     "start_time": "2023-04-10T14:36:54.600400Z",
     "end_time": "2023-04-10T14:36:55.404027Z"
    }
   },
   "outputs": [],
   "source": [
    "# Import(s):\n",
    "import numpy as np\n",
    "import matplotlib.pyplot as plt\n",
    "%matplotlib inline"
   ]
  },
  {
   "cell_type": "markdown",
   "source": [
    "***\n",
    "(1a) Make a function named create_matrix that takes in the dimensions of a matrix as parameters, and returns a new matrix with those dimensions whose entries are the natural numbers ordered numerically."
   ],
   "metadata": {
    "collapsed": false
   }
  },
  {
   "cell_type": "code",
   "execution_count": 1,
   "metadata": {
    "ExecuteTime": {
     "start_time": "2023-03-29T09:40:50.973754Z",
     "end_time": "2023-03-29T09:40:50.990233Z"
    }
   },
   "outputs": [
    {
     "name": "stdout",
     "output_type": "stream",
     "text": [
      "[[1, 2, 3], [4, 5, 6]]\n",
      "[[1, 2, 3, 4, 5, 6, 7]]\n",
      "[[1, 2, 3, 4, 5], [6, 7, 8, 9, 10], [11, 12, 13, 14, 15]]\n",
      "[[1, 2], [3, 4], [5, 6], [7, 8], [9, 10]]\n",
      "[[1], [2], [3], [4], [5], [6], [7]]\n"
     ]
    }
   ],
   "source": [
    "# Function(s):\n",
    "def create_matrix(m, n):\n",
    "    # Variable(s):\n",
    "    row, new_list = [], []\n",
    "    num = 1\n",
    "\n",
    "    # Logic:\n",
    "    for i in range(m):\n",
    "        for j in range(n):\n",
    "           row.append(num)\n",
    "           num += 1\n",
    "\n",
    "        new_list.append(row[:])\n",
    "        row.clear()\n",
    "\n",
    "    # Output:\n",
    "    return new_list\n",
    "\n",
    "# Test case(s):\n",
    "print(create_matrix(2, 3))  # [[1, 2, 3], [4, 5, 6]]\n",
    "print(create_matrix(1, 7))  # [[1, 2, 3, 4, 5, 6, 7]]\n",
    "print(create_matrix(3, 5))  # [[1, 2, 3, 4, 5], [6, 7, 8, 9, 10], [11, 12, 13, 14, 15]]\n",
    "print(create_matrix(5, 2))  # [[1, 2], [3, 4], [5, 6], [7, 8], [9, 10]]\n",
    "print(create_matrix(7, 1))  # [[1], [2], [3], [4], [5], [6], [7]]"
   ]
  },
  {
   "cell_type": "markdown",
   "source": [
    "***\n",
    "(1b) Make a function named sum_columns that takes in an array as a parameter and returns a new array whose entries are the sum of the entries in each column of the initial array."
   ],
   "metadata": {
    "collapsed": false
   }
  },
  {
   "cell_type": "code",
   "execution_count": 8,
   "metadata": {
    "ExecuteTime": {
     "start_time": "2023-03-29T09:46:50.586691Z",
     "end_time": "2023-03-29T09:46:50.642821Z"
    }
   },
   "outputs": [
    {
     "name": "stdout",
     "output_type": "stream",
     "text": [
      "[5, 7, 9]\n",
      "[1, 2, 3, 4, 5, 6, 7]\n",
      "[18, 21, 24, 27, 30]\n"
     ]
    }
   ],
   "source": [
    "# Function(s):\n",
    "def sum_columns(M):\n",
    "    # Variable(s):\n",
    "    column_count = len(M[0])\n",
    "    sum_list = [0] * column_count\n",
    "\n",
    "    # Calculations:\n",
    "    for row in M:\n",
    "        for index in range(column_count):\n",
    "            sum_list[index] += row[index]\n",
    "\n",
    "    # Output:\n",
    "    return sum_list\n",
    "\n",
    "# Test case(s):\n",
    "print(sum_columns(create_matrix(2,3)))  # [5, 7, 9]\n",
    "print(sum_columns(create_matrix(1,7)))  # [1, 2, 3, 4, 5, 6, 7]\n",
    "print(sum_columns(create_matrix(3,5)))  # [18, 21, 24, 27, 30]"
   ]
  },
  {
   "cell_type": "markdown",
   "source": [
    "***\n",
    "(1c) Make a function named sum_rows that takes in an array as a parameter and returns a new array whose entries are the sum of the entries in each row in the initial array."
   ],
   "metadata": {
    "collapsed": false
   }
  },
  {
   "cell_type": "code",
   "execution_count": 9,
   "metadata": {
    "ExecuteTime": {
     "start_time": "2023-03-29T09:51:04.059242Z",
     "end_time": "2023-03-29T09:51:04.087471Z"
    }
   },
   "outputs": [
    {
     "name": "stdout",
     "output_type": "stream",
     "text": [
      "[6, 15]\n",
      "[28]\n",
      "[15, 40, 65]\n"
     ]
    }
   ],
   "source": [
    "# Function(s):\n",
    "def sum_rows(M):\n",
    "    # Variable(s):\n",
    "    row_count = len(M)\n",
    "    sum_array = [0] * row_count\n",
    "\n",
    "    # Calculations:\n",
    "    for index in range(row_count):\n",
    "        for entry in M[index]:\n",
    "            sum_array[index] += entry\n",
    "\n",
    "    # Output:\n",
    "    return sum_array\n",
    "\n",
    "# Test case(s):\n",
    "print(sum_rows(create_matrix(2,3)))  # [6, 15]\n",
    "print(sum_rows(create_matrix(1,7)))  # [28]\n",
    "print(sum_rows(create_matrix(3,5)))  # [15, 40, 65]"
   ]
  },
  {
   "cell_type": "markdown",
   "source": [
    "***\n",
    "(1d) Make a function named np_create_matrix that takes in the dimensions of a matrix as parameters and returns a NumPy array with the specified dimensions with natural numbers ordered numerically as entries."
   ],
   "metadata": {
    "collapsed": false
   }
  },
  {
   "cell_type": "code",
   "execution_count": 6,
   "metadata": {
    "ExecuteTime": {
     "start_time": "2023-04-10T15:07:09.131871Z",
     "end_time": "2023-04-10T15:07:09.160094Z"
    }
   },
   "outputs": [
    {
     "name": "stdout",
     "output_type": "stream",
     "text": [
      "[[1 2 3]\n",
      " [4 5 6]]\n",
      "[[1 2 3 4 5 6 7]]\n",
      "[[ 1  2  3  4  5]\n",
      " [ 6  7  8  9 10]\n",
      " [11 12 13 14 15]]\n",
      "[[ 1  2]\n",
      " [ 3  4]\n",
      " [ 5  6]\n",
      " [ 7  8]\n",
      " [ 9 10]]\n",
      "[[1]\n",
      " [2]\n",
      " [3]\n",
      " [4]\n",
      " [5]\n",
      " [6]\n",
      " [7]]\n"
     ]
    }
   ],
   "source": [
    "# Function(s):\n",
    "def np_create_matrix(m, n):\n",
    "    # Output:\n",
    "    return np.arange(1, m * n + 1).reshape(m, n)\n",
    "\n",
    "# Test case(s):\n",
    "print(np_create_matrix(2,3))  # [[1 2 3] [4 5 6]]\n",
    "print(np_create_matrix(1,7))  # [[1 2 3 4 5 6 7]]\n",
    "print(np_create_matrix(3,5))  # [[1 2 3 4 5] [6 7 8 9 10] [11 12 13 14 15]]\n",
    "print(np_create_matrix(5,2))  # [[1 2] [3 4] [5 6] [7 8] [9 10]]\n",
    "print(np_create_matrix(7,1))  # [[1] [2] [3] [4] [5] [6] [7]]"
   ]
  },
  {
   "cell_type": "markdown",
   "source": [],
   "metadata": {
    "collapsed": false
   }
  },
  {
   "cell_type": "markdown",
   "source": [
    "***\n",
    "(1e) Make a function named np_sum_columns that takes in an array as a parameter and returns a new NumPy array whose entries are the sum of the entries in each column of the initial array."
   ],
   "metadata": {
    "collapsed": false
   }
  },
  {
   "cell_type": "code",
   "execution_count": 5,
   "metadata": {
    "ExecuteTime": {
     "start_time": "2023-04-10T00:50:51.607062Z",
     "end_time": "2023-04-10T00:50:51.620057Z"
    }
   },
   "outputs": [
    {
     "name": "stdout",
     "output_type": "stream",
     "text": [
      "[5 7 9]\n",
      "[1 2 3 4 5 6 7]\n",
      "[18 21 24 27 30]\n"
     ]
    }
   ],
   "source": [
    "# Function(s):\n",
    "def np_sum_columns(M):\n",
    "    # Output:\n",
    "    return np.sum(M, axis=0)\n",
    "\n",
    "# Test case(s):\n",
    "print(np_sum_columns(np_create_matrix(2, 3)))  # [5 7 9]\n",
    "print(np_sum_columns(np_create_matrix(1, 7)))  # [1 2 3 4 5 6 7]\n",
    "print(np_sum_columns(np_create_matrix(3, 5)))  # [18 21 24 27 30]"
   ]
  },
  {
   "cell_type": "markdown",
   "source": [
    "***\n",
    "(1f) Make a function named np_sum_rows that takes in an array as a parameter and returns a new NumPy array whose entries are the sum of the entries in each row in the initial array."
   ],
   "metadata": {
    "collapsed": false
   }
  },
  {
   "cell_type": "code",
   "execution_count": 6,
   "metadata": {
    "ExecuteTime": {
     "start_time": "2023-04-10T00:51:30.602670Z",
     "end_time": "2023-04-10T00:51:30.630705Z"
    }
   },
   "outputs": [
    {
     "name": "stdout",
     "output_type": "stream",
     "text": [
      "[ 6 15]\n",
      "[28]\n",
      "[15 40 65]\n"
     ]
    }
   ],
   "source": [
    "# Function(s):\n",
    "def np_sum_rows(M):\n",
    "    # Output:\n",
    "    return np.sum(M, axis=1)\n",
    "\n",
    "# Test case(s):\n",
    "print(np_sum_rows(np_create_matrix(2,3)))  # [6 15]\n",
    "print(np_sum_rows(np_create_matrix(1,7)))  # [28]\n",
    "print(np_sum_rows(np_create_matrix(3,5)))  # [15 40 65]"
   ]
  },
  {
   "cell_type": "markdown",
   "source": [
    "***\n",
    "(2) Make a function that takes in an x value as a parameter and returns the value of f(x), where f(x) is the probability density function for Gaussian distribution with an average of 1 and standard deviation of 2.\n",
    "Graph the function."
   ],
   "metadata": {
    "collapsed": false
   }
  },
  {
   "cell_type": "code",
   "execution_count": 3,
   "metadata": {
    "ExecuteTime": {
     "start_time": "2023-04-10T12:05:33.373301Z",
     "end_time": "2023-04-10T12:05:33.585428Z"
    }
   },
   "outputs": [
    {
     "data": {
      "text/plain": "<Figure size 640x480 with 1 Axes>",
      "image/png": "[encoded data removed]"
     },
     "metadata": {},
     "output_type": "display_data"
    }
   ],
   "source": [
    "# Function(s):\n",
    "def f(x):\n",
    "    # Output:\n",
    "    return np.exp(- (x - 1) ** 2 / 8) / np.sqrt(8 * np.pi)\n",
    "\n",
    "# Graph:\n",
    "x = np.linspace(-6, 8, 501)\n",
    "\n",
    "plt.title(\"Graph of f(x)\")\n",
    "plt.xlabel(\"x\")\n",
    "plt.ylabel(\"y\")\n",
    "plt.plot(x, f(x), color='blue')\n",
    "plt.grid()\n",
    "plt.show()"
   ]
  },
  {
   "cell_type": "markdown",
   "source": [
    "***\n",
    "(2a) Make a function named left_sum that takes in a function, two bounds of an interval, and a number of rectangles as parameters and returns the left Riemann sum of the function over the interval with the specified number of rectangles."
   ],
   "metadata": {
    "collapsed": false
   }
  },
  {
   "cell_type": "code",
   "execution_count": 4,
   "metadata": {
    "ExecuteTime": {
     "start_time": "2023-04-10T12:05:36.966402Z",
     "end_time": "2023-04-10T12:05:36.995436Z"
    }
   },
   "outputs": [
    {
     "data": {
      "text/plain": "0.3421275874185286"
     },
     "execution_count": 4,
     "metadata": {},
     "output_type": "execute_result"
    }
   ],
   "source": [
    "# Function(s):\n",
    "def left_sum(f,a,b,n):\n",
    "    # Variable(s):\n",
    "    width = (b - a) / n\n",
    "    points = np.linspace(a, b, n + 1)\n",
    "\n",
    "    # Calculations:\n",
    "    points = np.delete(points, -1)\n",
    "    riemann_sum = np.sum(f(points))\n",
    "\n",
    "    # Output:\n",
    "    return riemann_sum * width\n",
    "\n",
    "# Output:\n",
    "left_sum(f, 1, 3, 100)  # 0.34212758741852883, possibly different in the last few decimals"
   ]
  },
  {
   "cell_type": "markdown",
   "source": [
    "***\n",
    "(2b) Make a function named midpoint_sum that takes in a function, two bounds of an interval, and a number of rectangles as parameters and returns the midpoint sum of the function over the interval with the specified number of rectangles."
   ],
   "metadata": {
    "collapsed": false
   }
  },
  {
   "cell_type": "code",
   "execution_count": 5,
   "metadata": {
    "ExecuteTime": {
     "start_time": "2023-04-10T12:05:40.946045Z",
     "end_time": "2023-04-10T12:05:40.974140Z"
    }
   },
   "outputs": [
    {
     "data": {
      "text/plain": "0.3413457542857764"
     },
     "execution_count": 5,
     "metadata": {},
     "output_type": "execute_result"
    }
   ],
   "source": [
    "# Function(s):\n",
    "def midpoint_sum(f,a,b,n):\n",
    "    # Variable(s):\n",
    "    width = (b - a) / n\n",
    "    points = np.linspace(a, b, n + 1)\n",
    "\n",
    "    # Calculations:\n",
    "    points = np.delete(points, -1)\n",
    "    points += width / 2\n",
    "    riemann_sum = np.sum(f(points))\n",
    "\n",
    "    # Output:\n",
    "    return riemann_sum * width\n",
    "\n",
    "# Output:\n",
    "midpoint_sum(f, 1, 3, 100)  # 0.34134272963911727, possibly different in the last few decimals"
   ]
  },
  {
   "cell_type": "markdown",
   "source": [
    "***\n",
    "(2c) Make a function named trapezoidal_rule that takes in a function, two bounds of an interval, and a number of rectangles as parameters and returns the approximation of the integral of the function over the interval with the specified number of rectangles using the trapezoidal rule."
   ],
   "metadata": {
    "collapsed": false
   }
  },
  {
   "cell_type": "code",
   "execution_count": 6,
   "metadata": {
    "ExecuteTime": {
     "start_time": "2023-04-10T12:05:42.967292Z",
     "end_time": "2023-04-10T12:05:42.986016Z"
    }
   },
   "outputs": [
    {
     "data": {
      "text/plain": "0.3413427296391171"
     },
     "execution_count": 6,
     "metadata": {},
     "output_type": "execute_result"
    }
   ],
   "source": [
    "# Function(s):\n",
    "def trapezoidal_rule(f,a,b,n):\n",
    "    # Variable(s):\n",
    "    width = (b - a) / n\n",
    "    points = np.linspace(a, b, n + 1)\n",
    "\n",
    "    # Calculations:\n",
    "    riemann_sum = np.sum(f(points)) * 2 - f(a) - f(b)\n",
    "\n",
    "    # Output:\n",
    "    return riemann_sum * width / 2\n",
    "    \n",
    "# Output:\n",
    "trapezoidal_rule(f, 1, 3, 100)  # 0.3413427296391172, possibly different in the last few decimals"
   ]
  },
  {
   "cell_type": "markdown",
   "source": [
    "***\n",
    "(2d) Make a function named simpson_rule that takes in a function, two bounds of an interval, and a number of rectangles as parameters and returns the approximation of the integral of the function over the interval with the specified number of rectangles using Simpson's rule."
   ],
   "metadata": {
    "collapsed": false
   }
  },
  {
   "cell_type": "code",
   "execution_count": 7,
   "metadata": {
    "ExecuteTime": {
     "start_time": "2023-04-10T12:09:13.451811Z",
     "end_time": "2023-04-10T12:09:13.531973Z"
    }
   },
   "outputs": [
    {
     "data": {
      "text/plain": "0.34134474609542953"
     },
     "execution_count": 7,
     "metadata": {},
     "output_type": "execute_result"
    }
   ],
   "source": [
    "# Function(s):\n",
    "def simpson_rule(f,a,b,n):\n",
    "    # Variable(s):\n",
    "    width = (b - a) / n\n",
    "    points = np.linspace(a, b, n + 1)\n",
    "    points = np.delete(points, 0)\n",
    "    points = np.delete(points, -1)\n",
    "\n",
    "    # Calculations:\n",
    "    riemann_sum = f(a) + f(b) + 4 * np.sum(f(points[::2])) + 2 * np.sum(f(points[1::2]))\n",
    "\n",
    "    # Output:\n",
    "    return riemann_sum * width / 3\n",
    "    \n",
    "# Output:\n",
    "simpson_rule(f, 1, 3, 100)  # 0.34134474609542953, possibly different in the last few decimals"
   ]
  }
 ],
 "metadata": {
  "kernelspec": {
   "display_name": "Python 3 (ipykernel)",
   "language": "python",
   "name": "python3"
  },
  "language_info": {
   "codemirror_mode": {
    "name": "ipython",
    "version": 3
   },
   "file_extension": ".py",
   "mimetype": "text/x-python",
   "name": "python",
   "nbconvert_exporter": "python",
   "pygments_lexer": "ipython3",
   "version": "3.9.13"
  }
 },
 "nbformat": 4,
 "nbformat_minor": 4
}
