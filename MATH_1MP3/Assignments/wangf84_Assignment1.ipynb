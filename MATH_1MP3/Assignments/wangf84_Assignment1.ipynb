{
 "cells": [
  {
   "cell_type": "markdown",
   "metadata": {},
   "source": [
    "<h3> <u> Assignment 1 - Math 1MP3 Winter 2023 </u> </h3>"
   ]
  },
  {
   "cell_type": "markdown",
   "source": [
    "***\n",
    "(1) Given a string str of length 3 or longer, return a string made of 4 copies of the last three characters of str."
   ],
   "metadata": {
    "collapsed": false
   }
  },
  {
   "cell_type": "code",
   "execution_count": null,
   "metadata": {
    "is_executing": true
   },
   "outputs": [],
   "source": [
    "# Function(s):\n",
    "def extra_end(str):\n",
    "    return 4 * str[len(str) - 3:]\n",
    "        \n",
    "# Test case(s):\n",
    "print(extra_end(\"Algebra\"))  # brabrabrabra\n",
    "print(extra_end(\"Cow\"))  # CowCowCowCow\n",
    "print(extra_end(\"Python\"))  # honhonhonhon"
   ]
  },
  {
   "cell_type": "markdown",
   "source": [
    "***\n",
    "(2) Given a 2 x 2 matrix, as a 2D array, return its determinant."
   ],
   "metadata": {
    "collapsed": false
   }
  },
  {
   "cell_type": "code",
   "execution_count": 9,
   "metadata": {},
   "outputs": [
    {
     "name": "stdout",
     "output_type": "stream",
     "text": [
      "1\n",
      "-2\n",
      "-8\n"
     ]
    }
   ],
   "source": [
    "# Function(s):\n",
    "def det(M):\n",
    "    return M[0][0] * M[1][1] - M[0][1] * M[1][0]\n",
    "\n",
    "# Test case(s):\n",
    "print(det([[1,0],[0,1]]))  # 1\n",
    "print(det([[1,2],[3,4]]))  # -2\n",
    "print(det([[7,12],[-4,-8]]))  # -8"
   ]
  },
  {
   "cell_type": "markdown",
   "source": [
    "***\n",
    "(3) Given a 3 x 3 matrix as a 2D array, return whether it is symmetric or not."
   ],
   "metadata": {
    "collapsed": false
   }
  },
  {
   "cell_type": "code",
   "execution_count": 10,
   "metadata": {},
   "outputs": [
    {
     "name": "stdout",
     "output_type": "stream",
     "text": [
      "True\n",
      "False\n",
      "False\n"
     ]
    }
   ],
   "source": [
    "# Function(s):\n",
    "def is_symmetric(M):\n",
    "    return M == [[M[0][0], M[1][0], M[2][0]], [M[0][1], M[1][1], M[2][1]], [M[0][2], M[1][2], M[2][2]]]\n",
    "\n",
    "# Test case(s):\n",
    "print(is_symmetric([[1,2,3],[2,5,8],[3,8,7]]))  # True\n",
    "print(is_symmetric([[1,2,3],[2,5,8],[7,8,3]]))  # False\n",
    "print(is_symmetric([[1,0,0],[0,5,0],[1,0,9]]))  # False"
   ]
  },
  {
   "cell_type": "markdown",
   "source": [
    "***\n",
    "(4) Given a birth year between 1945 and 2021, return the name of their generation."
   ],
   "metadata": {
    "collapsed": false
   }
  },
  {
   "cell_type": "code",
   "execution_count": 11,
   "metadata": {},
   "outputs": [
    {
     "name": "stdout",
     "output_type": "stream",
     "text": [
      "Baby boomer\n",
      "Generation Z\n",
      "Alpha generation\n",
      "Generation X\n"
     ]
    }
   ],
   "source": [
    "# Those born between 1945 and 1964 is called Baby boomer.\n",
    "# Those born between 1965 and 1981 are called Generation X.\n",
    "# Those born between 1982 and 1996 are known as Millennial.\n",
    "# Those born between 1997 and 2010 are called Generation Z.\n",
    "# Those born in 2011 or later have been named Alpha generation.\n",
    "\n",
    "# Function(s):\n",
    "def generation(birth_year):\n",
    "    # Logic:\n",
    "    if 1945 <= birth_year <= 1964:\n",
    "        return \"Baby boomer\"\n",
    "\n",
    "    elif 1965 <= birth_year <= 1981:\n",
    "        return \"Generation X\"\n",
    "\n",
    "    elif 1982 <= birth_year <= 1996:\n",
    "        return \"Millennial\"\n",
    "\n",
    "    elif 1997 <= birth_year <= 2010:\n",
    "        return \"Generation Z\"\n",
    "\n",
    "    else:\n",
    "        return \"Alpha generation\"\n",
    "\n",
    "# Test case(s):\n",
    "print(generation(1945))  # Baby boomer\n",
    "print(generation(1997))  # Generation Z\n",
    "print(generation(2020))  # Alpha generation\n",
    "print(generation(1979))  # Generation X"
   ]
  },
  {
   "cell_type": "markdown",
   "source": [
    "***\n",
    "(5) Given three natural numbers N, p, and q, return the sum of all natural number from 1 to N inclusive which are divisible by p or q."
   ],
   "metadata": {
    "collapsed": false
   }
  },
  {
   "cell_type": "code",
   "execution_count": 12,
   "metadata": {},
   "outputs": [
    {
     "name": "stdout",
     "output_type": "stream",
     "text": [
      "35\n",
      "1153\n",
      "215\n"
     ]
    }
   ],
   "source": [
    "# Function(s):\n",
    "def interesting_sum(N,p,q):\n",
    "    # Variable(s):\n",
    "    sum = 0\n",
    "\n",
    "    # Calculations:\n",
    "    for i in range(1, N + 1):\n",
    "        if i % p == 0 or i % q == 0:\n",
    "            sum += i\n",
    "\n",
    "    # Output:\n",
    "    return sum\n",
    "\n",
    "# Test case(s):\n",
    "print(interesting_sum(10, 2, 5))  # 35\n",
    "print(interesting_sum(100, 7, 11))  # 1153\n",
    "print(interesting_sum(100, 26, 59))  # 215"
   ]
  },
  {
   "cell_type": "markdown",
   "source": [
    "***\n",
    "(6) Given a string, return the number of times the string \"math\" appears in it."
   ],
   "metadata": {
    "collapsed": false
   }
  },
  {
   "cell_type": "code",
   "execution_count": 13,
   "metadata": {},
   "outputs": [
    {
     "name": "stdout",
     "output_type": "stream",
     "text": [
      "1\n",
      "0\n",
      "3\n"
     ]
    }
   ],
   "source": [
    "# Function(s):\n",
    "def count_math(str):\n",
    "    # Variable(s):\n",
    "    count = 0\n",
    "\n",
    "    # Calculations:\n",
    "    for i in range(0, len(str) - 3):\n",
    "        if str[i:i + 4] == \"math\":\n",
    "            count += 1\n",
    "\n",
    "    # Output:\n",
    "    return count\n",
    "\n",
    "# Test case(s):\n",
    "print(count_math(\"mmatmmatthhamath\"))  # 1\n",
    "print(count_math(\"23matthathmaath\"))  # 0\n",
    "print(count_math(\"mathxmathmmathhh\"))  # 3"
   ]
  },
  {
   "cell_type": "markdown",
   "source": [
    "***\n",
    "(7) Given a natural number, round it to the nearest tenth without using Python's round command."
   ],
   "metadata": {
    "collapsed": false
   }
  },
  {
   "cell_type": "code",
   "execution_count": 14,
   "metadata": {},
   "outputs": [
    {
     "name": "stdout",
     "output_type": "stream",
     "text": [
      "5560\n",
      "60\n",
      "670\n",
      "110\n"
     ]
    }
   ],
   "source": [
    "# Function(s):\n",
    "def round10(num):\n",
    "    # Logic:\n",
    "    if num % 10 <= 4:\n",
    "        return num - num % 10\n",
    "\n",
    "    else:\n",
    "        return num - num % 10 + 10\n",
    "\n",
    "# Test case(s):\n",
    "print(round10(5555))  # 5560\n",
    "print(round10(60))  # 60\n",
    "print(round10(668))  # 670\n",
    "print(round10(114))  # 110"
   ]
  }
 ],
 "metadata": {
  "kernelspec": {
   "display_name": "Python 3 (ipykernel)",
   "language": "python",
   "name": "python3"
  },
  "language_info": {
   "codemirror_mode": {
    "name": "ipython",
    "version": 3
   },
   "file_extension": ".py",
   "mimetype": "text/x-python",
   "name": "python",
   "nbconvert_exporter": "python",
   "pygments_lexer": "ipython3",
   "version": "3.9.13"
  }
 },
 "nbformat": 4,
 "nbformat_minor": 4
}
