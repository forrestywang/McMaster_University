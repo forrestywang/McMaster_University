{
 "cells": [
  {
   "cell_type": "markdown",
   "metadata": {},
   "source": [
    "<h3> <u> Assignment 2 - Math 1MP3 Winter 2023 </u> </h3>"
   ]
  },
  {
   "cell_type": "markdown",
   "source": [
    "***\n",
    "Import(s):"
   ],
   "metadata": {
    "collapsed": false
   }
  },
  {
   "cell_type": "code",
   "execution_count": null,
   "outputs": [],
   "source": [
    "# Import(s):\n",
    "import numpy as np\n",
    "import math"
   ],
   "metadata": {
    "collapsed": false
   }
  },
  {
   "cell_type": "markdown",
   "source": [
    "***\n",
    "(1a) Make a function that takes n as a parameter and computes the Leibniz approximation of π after n iterations."
   ],
   "metadata": {
    "collapsed": false
   }
  },
  {
   "cell_type": "code",
   "execution_count": 1,
   "metadata": {},
   "outputs": [
    {
     "name": "stdout",
     "output_type": "stream",
     "text": [
      "4.0\n",
      "3.189184782277596\n",
      "3.1425916543395442\n"
     ]
    }
   ],
   "source": [
    "# Function(s):\n",
    "def leibniz_sum(n):\n",
    "    # Variable(s):\n",
    "    sum = 0\n",
    "\n",
    "    # Calculations:\n",
    "    for i in range(n + 1):\n",
    "        sum += ((-1) ** i) / (2 * i + 1)\n",
    "    sum *= 4\n",
    "\n",
    "    # Output:\n",
    "    return sum\n",
    "\n",
    "# Test case(s):\n",
    "print(leibniz_sum(0))  # 4.0\n",
    "print(leibniz_sum(20))  # 3.189184782277596\n",
    "print(leibniz_sum(1000))  # 3.1425916543395442"
   ]
  },
  {
   "cell_type": "markdown",
   "source": [
    "***\n",
    "(1b)  Make a function that prints the fewest number of iterations such that the error is < 0.0005 and the corresponding approximation of π."
   ],
   "metadata": {
    "collapsed": false
   }
  },
  {
   "cell_type": "code",
   "execution_count": 2,
   "metadata": {},
   "outputs": [
    {
     "name": "stdout",
     "output_type": "stream",
     "text": [
      "[1999, 3.1420929036835568]\n"
     ]
    }
   ],
   "source": [
    "# Function(s):\n",
    "def pi_approx_error_bound():\n",
    "    # Variable(s):\n",
    "    n = 0\n",
    "\n",
    "    # Calculations:\n",
    "    while math.fabs(leibniz_sum(n) - math.pi) >= 0.0005:\n",
    "        n += 1\n",
    "\n",
    "    # Output:\n",
    "    return [n, leibniz_sum(n - 1)]\n",
    "\n",
    "# Output:\n",
    "print(pi_approx_error_bound())"
   ]
  },
  {
   "cell_type": "markdown",
   "source": [
    "***\n",
    "(2) Make a function that takes in three real numbers as parameters which correspond to the coefficients on a quadratic equation, and then returns the solution"
   ],
   "metadata": {
    "collapsed": false
   }
  },
  {
   "cell_type": "code",
   "execution_count": 11,
   "metadata": {},
   "outputs": [
    {
     "name": "stdout",
     "output_type": "stream",
     "text": [
      "('real distinct roots', [-2.0, -3.0])\n",
      "('repeated real root', [11.0])\n",
      "('complex conjugate roots', [(4+7j), (4-7j)])\n",
      "('complex conjugate roots', [1j, -1j])\n",
      "('real distinct roots', [1.0, 0.0])\n"
     ]
    }
   ],
   "source": [
    "# If there are two real, distinct roots, return the string \"real distinct roots\" followed by the two roots in an array.\n",
    "# If there is one real, distinct root, return the string \"repeated real root\" followed by the root in an array.\n",
    "# If the root(s) are complex, return the message \"complex conjugate roots\" followed by the root(s) in an array.\n",
    "\n",
    "# Function(s):\n",
    "def solve_quadratic(a, b, c):\n",
    "    # Variable(s):\n",
    "    discriminant = math.pow(b, 2) - (4 * a * c)\n",
    "\n",
    "    # Calculations:\n",
    "    if discriminant == 0:\n",
    "        root1 = - b / 2 * a\n",
    "\n",
    "        return \"repeated real root\", [root1]\n",
    "\n",
    "    elif discriminant > 0:\n",
    "        root1 = (- b + math.sqrt(discriminant)) / 2 * a\n",
    "        root2 = (- b - math.sqrt(discriminant)) / 2 * a\n",
    "\n",
    "        return \"real distinct roots\", [root1, root2]\n",
    "\n",
    "    else:\n",
    "        root1 = complex(- b, + math.sqrt(- discriminant)) / 2 * a\n",
    "        root2 = complex(- b, - math.sqrt(- discriminant)) / 2 * a\n",
    "\n",
    "        return \"complex conjugate roots\", [root1, root2]\n",
    "\n",
    "# Test case(s):\n",
    "print(solve_quadratic(1, 5, 6))  # ('real distinct roots', [-2.0, -3.0])\n",
    "print(solve_quadratic(1, -22, 121))  # ('repeated real root', [11.0])\n",
    "print(solve_quadratic(1, -8, 65))  # ('complex conjugate roots', [(4+7j), (4-7j)])\n",
    "print(solve_quadratic(1, 0, 1))  # ('complex conjugate roots', [1j, -1j])\n",
    "print(solve_quadratic(1, -1, 0))  # ('real distinct roots', [1.0, 0.0])"
   ]
  },
  {
   "cell_type": "markdown",
   "source": [
    "***\n",
    "(3a) Make a function that calculates the value of f(x) = 0.25√x − (sin(x/3))2 + 0.12 and calculate the interval where each of the two roots lie."
   ],
   "metadata": {
    "collapsed": false
   }
  },
  {
   "cell_type": "code",
   "execution_count": 2,
   "metadata": {},
   "outputs": [
    {
     "name": "stdout",
     "output_type": "stream",
     "text": [
      "Is f(0) > 0? True\n",
      "Is f(4) < 0? True\n",
      "Is f(8) > 0? True\n",
      "The first root lies in the interval (0, 4).\n",
      "The second root lies in the interval (4, 8).\n"
     ]
    }
   ],
   "source": [
    "# Function(s):\n",
    "def f(x):\n",
    "    # Output:\n",
    "    return (math.sqrt(x) / 4) - math.pow(math.sin(x / 3), 2) + (3 / 25)\n",
    "\n",
    "# Call f(x) and print the two intervals\n",
    "print(\"Is f(0) > 0?\", f(0) > 0)\n",
    "print(\"Is f(4) < 0?\", f(4) < 0)\n",
    "print(\"Is f(8) > 0?\", f(8) > 0)\n",
    "print(\"The first root lies in the interval (0, 4).\")\n",
    "print(\"The second root lies in the interval (4, 8).\")"
   ]
  },
  {
   "cell_type": "markdown",
   "source": [
    "***\n",
    "(3b) Make a function that uses the bisection method starting from the intervals in (3a) to return the two solutions where length of the intervals < 10^(- 10)."
   ],
   "metadata": {
    "collapsed": false
   }
  },
  {
   "cell_type": "code",
   "execution_count": 7,
   "metadata": {},
   "outputs": [
    {
     "name": "stdout",
     "output_type": "stream",
     "text": [
      "The first root lies in the interval [2.3710642734658904, 2.371064273524098]\n",
      "The second root lies in the interval [6.293044454185292, 6.2930444542435]\n"
     ]
    }
   ],
   "source": [
    "# Function(s):\n",
    "# This function only works properly if the interval has only one root.\n",
    "# The order of a and b does not matter.\n",
    "def bisection(f, a, b, tol = 1e-10):\n",
    "    # Compute the intervals\n",
    "    while np.abs(b - a) >= tol:\n",
    "        # Variable(s):\n",
    "        m = (a + b) / 2\n",
    "        a_sign = np.sign(f(a))\n",
    "        m_sign = np.sign(f(m))\n",
    "\n",
    "        # Calculations:\n",
    "        if a_sign == - m_sign:\n",
    "            b = m  # Covers 2 cases\n",
    "\n",
    "        elif a_sign == 0:\n",
    "            return [a]  # Covers 1 case\n",
    "        elif m_sign == 0:\n",
    "            return [m]  # Covers 1 case\n",
    "        elif f(b) == 0:\n",
    "            return [b]  # Covers 1 case\n",
    "\n",
    "        else:\n",
    "            a = m  # Covers the last 2 cases\n",
    "\n",
    "    # Output:\n",
    "    return [a, b]\n",
    "\n",
    "# Call bisection() and print the two intervals:\n",
    "print(\"The first root lies in the interval\", bisection(f, 0, 4))\n",
    "print(\"The second root lies in the interval\", bisection(f, 4, 8))"
   ]
  },
  {
   "cell_type": "markdown",
   "source": [
    "***\n",
    "(4) Make a function that computes the infinite series of the Gauss error function (erf(x)) that takes in x, tol, and max_terms as parameters and stops after max_terms iterations or when |next term in the series| < tol."
   ],
   "metadata": {
    "collapsed": false
   }
  },
  {
   "cell_type": "code",
   "execution_count": 1,
   "metadata": {},
   "outputs": [
    {
     "name": "stdout",
     "output_type": "stream",
     "text": [
      "(0.6798187341903128, 'Max number of terms reached')\n",
      "(0.6778011938294721, 'Tolerance reached')\n"
     ]
    }
   ],
   "source": [
    "# Function(s):\n",
    "def erf_term(i, x):\n",
    "    # Output:\n",
    "    return (math.pow(-1, i) * math.pow(x, 2 * i + 1)) / (math.factorial(i) * (2 * i + 1))\n",
    "\n",
    "def erf_series(x, tol, max_terms):\n",
    "    # Variable(s):\n",
    "    sum, i = 0, 0\n",
    "    max_terms_reached = True\n",
    "\n",
    "    # Calculations:\n",
    "    for term_count in range(max_terms):\n",
    "        sum += erf_term(i, x)\n",
    "        i += 1\n",
    "\n",
    "        if math.fabs(erf_term(i, x)) < tol:\n",
    "            max_terms_reached = False\n",
    "            break\n",
    "    sum *= (2 / math.sqrt(math.pi))\n",
    "\n",
    "    # Output:\n",
    "    if not max_terms_reached:\n",
    "        return sum, \"Tolerance reached\"\n",
    "\n",
    "    return sum, \"Max number of terms reached\"\n",
    "\n",
    "# Test case(s):\n",
    "print(erf_series(0.7, 1e-10, 3))  # 0.6798187341903128 (Max number of terms reached)\n",
    "print(erf_series(0.7, tol = 1e-10, max_terms = 20))  # 0.6778011938294721 (Tolerance reached)"
   ]
  },
  {
   "cell_type": "markdown",
   "source": [
    "***\n",
    "(5) Make a function that takes in an array of coefficients on a polynomial and computes its derivative by returning an array of coefficients on a polynomial.\n",
    "\n",
    "Make another function that takes in array of coefficients on a polynomial and computes its antiderivative where the constant of integration is 0 by returning an array of coefficients on a polynomial."
   ],
   "metadata": {
    "collapsed": false
   }
  },
  {
   "cell_type": "code",
   "execution_count": 6,
   "metadata": {},
   "outputs": [
    {
     "name": "stdout",
     "output_type": "stream",
     "text": [
      "[2, 8, 9, 60, 30]\n",
      "[0, 12.0, 5.0, 3.0, 9.0, 1.0]\n",
      "[1.0, 142.0, 54.0, 67.0, 8.0]\n"
     ]
    }
   ],
   "source": [
    "# Function(s):\n",
    "def differentiate_polynomial(pol):\n",
    "    # Variable(s):\n",
    "    derivative = []\n",
    "\n",
    "    # Calculations:\n",
    "    for index in range(1, len(pol)):\n",
    "        derivative.append(pol[index] * index)\n",
    "\n",
    "    # Output:\n",
    "    return derivative\n",
    "\n",
    "def integrate_polynomial(pol):\n",
    "    # Variable(s):\n",
    "    antiderivative = [0]\n",
    "\n",
    "    # Calculations:\n",
    "    for index in range(len(pol)):\n",
    "        antiderivative.append(pol[index] * (1 / (index + 1)))\n",
    "\n",
    "    # Output:\n",
    "    return antiderivative\n",
    "\n",
    "# Test cases(s):\n",
    "print(differentiate_polynomial([1, 2, 4, 3, 15, 6]))  # [2, 8, 9, 60, 30]\n",
    "print(integrate_polynomial([12, 10, 9, 36, 5])) # [0, 12.0, 5.0, 3.0, 9.0, 1.0]\n",
    "print(differentiate_polynomial(integrate_polynomial([1, 142, 54, 67, 8])))  # [1.0, 142.0, 54.0, 67.0, 8.0]"
   ]
  }
 ],
 "metadata": {
  "kernelspec": {
   "display_name": "Python 3 (ipykernel)",
   "language": "python",
   "name": "python3"
  },
  "language_info": {
   "codemirror_mode": {
    "name": "ipython",
    "version": 3
   },
   "file_extension": ".py",
   "mimetype": "text/x-python",
   "name": "python",
   "nbconvert_exporter": "python",
   "pygments_lexer": "ipython3",
   "version": "3.9.13"
  }
 },
 "nbformat": 4,
 "nbformat_minor": 4
}
